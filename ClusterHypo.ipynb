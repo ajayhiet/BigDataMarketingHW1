{
 "cells": [
  {
   "cell_type": "code",
   "execution_count": 1,
   "id": "94e399de",
   "metadata": {},
   "outputs": [],
   "source": [
    "import pandas as pd\n",
    "import numpy as np\n",
    "import matplotlib.pyplot as plt\n",
    "import seaborn as sns\n"
   ]
  },
  {
   "cell_type": "code",
   "execution_count": 2,
   "id": "73ffe24c",
   "metadata": {},
   "outputs": [
    {
     "name": "stdout",
     "output_type": "stream",
     "text": [
      " Volume in drive C has no label.\n",
      " Volume Serial Number is 46DB-D122\n",
      "\n",
      " Directory of C:\\Users\\User\\Downloads\n",
      "\n",
      "18/10/2022  21:42    <DIR>          .\n",
      "18/10/2022  14:53    <DIR>          ..\n",
      "18/10/2022  21:02    <DIR>          .ipynb_checkpoints\n",
      "17/09/2022  09:32               165 _$Your points.xlsx\n",
      "20/10/2021  01:03         1,660,449 01 Introduction to Data Science. Big Data Analytics.pdf\n",
      "01/07/2022  15:51           444,531 01.07.2022, 15_22 Microsoft Lens (1).pdf\n",
      "01/07/2022  15:35           444,531 01.07.2022, 15_22 Microsoft Lens.pdf\n",
      "07/06/2022  10:47           207,973 012.pbix\n",
      "03/10/2022  11:48            21,632 01-30sept.xlsx\n",
      "20/10/2021  01:03         3,291,684 02 DS Solutions for Business. Basic Models.pdf\n",
      "09/10/2021  13:12         1,642,042 02 Practice.pdf\n",
      "10/10/2022  11:03         6,082,547 02-09Oct.xlsx\n",
      "20/10/2021  01:03         1,859,468 03 DS technologies and project management.pdf\n",
      "18/10/2022  09:42         1,025,203 07_10_segmentation.ipynb\n",
      "17/10/2022  10:35           328,112 09-16.xlsx\n",
      "31/03/2022  17:30           150,776 1.pbix\n",
      "21/10/2021  15:06           290,575 1048-Texto Artigo-4108-1-10-20160708.pdf\n",
      "23/06/2022  11:22         3,743,988 12-22JuneLast10Days.xlsx\n",
      "20/06/2022  14:22           292,702 13-19.xlsx\n",
      "07/06/2022  10:02         3,035,853 16-22.pbix\n",
      "07/04/2022  13:30             4,207 1641807330411.jpg\n",
      "03/03/2022  11:36           500,954 18-02_20-02.xlsx\n",
      "27/06/2022  11:37         1,322,450 1April.xlsx\n",
      "18/10/2022  00:56         6,044,069 1-s2.0-S0040162522001305-main.pdf\n",
      "20/04/2022  17:12            43,184 20.04.xlsx\n",
      "06/12/2021  16:44           413,288 2018-Visualizing-your-data-effectively.pptx\n",
      "24/05/2022  13:30            71,499 2020-06-19 TERM PAPER- HARTATI HI ARSYAD.docx\n",
      "27/06/2022  10:40           283,731 20-26.xlsx\n",
      "03/03/2022  11:36           508,849 21-02_23-02.xlsx\n",
      "07/06/2022  13:37        14,065,432 22-16.xlsx\n",
      "29/08/2022  12:55           338,804 22-28Aug.xlsx\n",
      "30/05/2022  10:42           318,861 23-29Week.xlsx\n",
      "03/10/2022  11:51            20,083 25-2.xlsx\n",
      "03/03/2022  11:37           630,256 25-27_02.xlsx\n",
      "01/08/2022  11:57           275,201 25-31.xlsx\n",
      "06/07/2022  10:10         1,040,438 26.xlsx\n",
      "04/07/2022  10:47           274,963 27-03.xlsx\n",
      "03/03/2022  11:36           510,162 28feb-3Marchxlsx.xlsx\n",
      "05/09/2022  11:11           366,093 29-04.xlsx\n",
      "06/06/2022  10:44           325,678 30-05 to 05-06.xlsx\n",
      "29/03/2022  12:30           508,867 30days.xlsx\n",
      "11/07/2022  17:47         7,460,770 30jUNE.xlsx\n",
      "22/12/2021  14:30        22,594,930 3a. Strategy - Lectureÿ- adv - lv.pdf\n",
      "11/07/2022  12:34           252,265 4-10july.xlsx\n",
      "13/06/2022  12:33           306,333 6-12june.xlsx\n",
      "29/03/2022  12:30           213,972 7days.xlsx\n",
      "13/03/2022  19:11           389,206 a_Dataset_CreditScoring.xlsx\n",
      "26/09/2021  14:05           253,952 AaaS business-model-canvas.ppt\n",
      "26/09/2021  15:22           225,280 AaaS Guardbusiness-model-canvas.ppt\n",
      "29/04/2022  11:50         5,284,911 Activity.pbix\n",
      "29/04/2022  12:34         2,593,335 ActivityTag.xlsx\n",
      "02/06/2022  22:22           885,630 adiyogi-beautiful-night-hd-laptop-wallpaper-1080p.jpg\n",
      "16/11/2021  20:54           881,145 admsci-11-00069.pdf\n",
      "10/03/2022  22:41           347,674 agriculture-11-01283-v2.pdf\n",
      "28/05/2022  01:08               162 AirCraft.csv\n",
      "28/05/2022  02:05               143 AirData.csv\n",
      "04/06/2022  11:34         1,955,487 AirLine_Project_Ajay_Takumi_Akshay.pdf\n",
      "28/05/2022  01:01               447 AirLineStaff.csv\n",
      "28/05/2022  01:34               143 AirPort.csv\n",
      "03/06/2022  12:43           100,499 AirPort.pbix\n",
      "30/09/2021  23:11            82,854 Ajay Task 2 .docx\n",
      "27/09/2021  20:42           377,152 Ajay_Mishra_-_Information_Technology_Engineer (1).pdf\n",
      "27/09/2021  23:19            21,283 Ajay212HomeTask1.docx\n",
      "15/10/2021  17:31           472,168 ajayBuisnessAnalysis.pdf\n",
      "19/01/2022  19:10           194,433 ajayclassBI.pbix\n",
      "13/03/2022  19:27           582,706 AjayCreditScoring.html\n",
      "23/03/2022  18:19            17,643 AjayCreditScoring.ipynb\n",
      "21/06/2022  18:56            22,768 AjayFinal Examination Questions - ADM Course.xlsx\n",
      "13/03/2022  19:06           582,093 AjayMishra.html\n",
      "27/09/2022  22:41         1,174,169 AjayMishraHomeWork1.ipynb\n",
      "23/04/2022  16:09           643,625 AjayMishraHomework2.pdf\n",
      "23/04/2022  15:36         2,489,789 AjayMishraHomework2.pptx\n",
      "24/04/2022  19:06           143,926 AjayMishraHomework4 (1).pdf\n",
      "24/04/2022  19:07           153,148 AjayMishraHomework4.pdf\n",
      "10/06/2022  09:58           274,582 AjayMishraSportsDiplomacy.pdf\n",
      "23/03/2022  23:52           810,854 AjayMishraWordCount.ipynb\n",
      "11/02/2022  12:01             9,825 ajayMotivation.docx\n",
      "18/03/2022  12:11         4,132,115 AjayPassau.pdf\n",
      "11/02/2022  10:13           109,075 AjayPresentation.pptx\n",
      "14/06/2022  16:43            25,803 AjayProject report_Assessment sheet_En.docx\n",
      "27/10/2021  01:01            30,698 Ajay's Resume.pdf\n",
      "14/06/2022  16:45            22,418 AjaySig.jpg\n",
      "20/06/2022  17:06           982,786 AjayTermPaper.pdf\n",
      "11/04/2022  20:10            60,986 AjayTests\n",
      "25/03/2022  14:19           973,674 AkshayNovelsWordCount.ipynb\n",
      "08/04/2022  13:05        43,603,892 allemail.xlsx\n",
      "31/03/2022  17:26           320,861 amuzNew.xlsx\n",
      "20/03/2022  13:23       535,052,832 Anaconda3-2021.11-Windows-x86_64 (1).exe\n",
      "18/12/2021  11:25       535,052,832 Anaconda3-2021.11-Windows-x86_64.exe\n",
      "10/02/2022  21:23            14,121 Analyst Task Description.docx\n",
      "10/02/2022  20:25         5,438,947 Analyst Test Updated.xlsx\n",
      "18/10/2022  21:42            19,758 Analytics.ipynb\n",
      "12/11/2021  16:53            83,968 Antrag_Ausl„nderstipendien-englisch.doc\n",
      "19/12/2021  17:55         2,189,316 applsci-11-08352-v2 (1).pdf\n",
      "19/12/2021  15:07         2,189,316 applsci-11-08352-v2.pdf\n",
      "24/05/2022  15:42            78,124 april.xlsx\n",
      "18/06/2022  13:18           106,684 aprilE.xlsx\n",
      "20/06/2022  14:25            95,835 AprilEnteractive (1).xlsx\n",
      "20/06/2022  13:58            88,036 AprilEnteractive (2).xlsx\n",
      "17/06/2022  15:33            95,835 AprilEnteractive.xlsx\n",
      "29/06/2022  11:49         9,144,818 AprilMayMileStone.xlsx\n",
      "28/06/2022  19:42         7,652,740 AprilOnly.xlsx\n",
      "29/04/2022  11:24           600,544 aprilSSN.xlsx\n",
      "25/05/2022  13:53         1,807,343 Aramuz Payments Report Extended Period.xlsx\n",
      "25/05/2022  13:53         1,273,319 Aramuz Payments Report.xlsx\n",
      "25/05/2022  13:08        11,563,241 aramuz_db_BpWlTransaction (1).xlsx\n",
      "25/05/2022  13:01         3,533,446 aramuz_db_BpWlTransaction.xlsx\n",
      "26/07/2022  10:27         2,900,883 AramuzBonusCancel_0.xlsx\n",
      "25/07/2022  13:17         8,117,679 AramuzBonusCancel=0.xlsx\n",
      "12/11/2021  09:38    <DIR>          archive\n",
      "17/11/2021  21:53        93,341,357 archive (1).zip\n",
      "18/12/2021  15:48    <DIR>          archive (2)\n",
      "17/12/2021  22:22        69,155,672 archive (2).zip\n",
      "22/12/2021  17:16    <DIR>          archive (3)\n",
      "22/12/2021  17:16             8,762 archive (3).zip\n",
      "20/04/2022  12:08       169,591,198 archive (4).zip\n",
      "20/04/2022  12:08       169,591,326 archive (5).zip\n",
      "20/04/2022  14:32     4,374,983,563 archive (6).zip\n",
      "12/11/2021  09:37            27,252 archive.zip\n",
      "25/09/2021  21:24       112,561,399 Archi-Win64-Setup-4.8.1.exe\n",
      "13/02/2022  22:45           227,177 Assignment Value Map Trunk Club (1).docx\n",
      "14/02/2022  02:06           229,042 Assignment Value Map Trunk Club.docx\n",
      "09/05/2022  17:46             2,264 ATM2.drawio\n",
      "14/07/2022  13:51    <DIR>          Attachments_outgoing.gsb@hse.ru_2022-07-12_15-59-33\n",
      "04/10/2022  16:38         4,043,418 augjson.xlsx\n",
      "19/09/2022  13:47           796,893 August.xlsx\n",
      "16/01/2022  10:15         2,360,653 Automatic classification of takeaway food outlet cuisine type using machine (deep) learning.pdf\n",
      "08/07/2022  17:05            23,319 Available Tags and Next Steps.docx\n",
      "09/10/2021  13:26           214,677 azure-machine-learning-algorithm-cheat-sheet-nov2019.pdf\n",
      "29/04/2022  11:33        14,744,159 backUpByPartner.pbix\n",
      "10/10/2021  13:35            41,514 bankloan.csv\n",
      "29/08/2022  14:48            31,740 BETWEEN '2022-08-01' AND '2022-08-29'.xlsx\n",
      "10/10/2021  00:47            53,129 bike-no (1).csv\n",
      "29/09/2021  11:18            53,129 bike-no.csv\n",
      "02/10/2021  12:28             3,950 binary-classification-feature-selection-income-prediction.md.txt\n",
      "29/04/2022  11:31         1,936,159 bireport_db_PlayerActivityTag.xlsx\n",
      "05/04/2022  16:59        21,203,839 bireport_db_PlayerRankedModelPy.xlsx\n",
      "29/08/2022  12:45           409,051 BirtdayNew.xlsx\n",
      "26/08/2022  14:16         2,016,760 BirthdayUpdate.xlsx\n",
      "30/09/2022  10:22           191,457 bonus0.xlsx\n",
      "30/09/2022  13:33           190,347 bonus29.xlsx\n",
      "29/06/2022  22:53        19,430,110 BonusAnalysis.pbix\n",
      "30/09/2022  12:50           641,908 BonusAnalysis.xlsx\n",
      "30/09/2022  13:33        53,190,200 bonusbyplyaer.xlsx\n",
      "26/07/2022  08:00         7,460,550 BonusCancellation.pbix\n",
      "26/07/2022  12:55            33,936 BonusCancellation.xlsx\n",
      "30/09/2022  12:50           473,351 bonusclaimed.xlsx\n",
      "11/10/2022  11:52         2,332,843 bonusExpireAll.xlsx\n",
      "30/09/2022  10:22            89,036 bonusexpried.xlsx\n",
      "11/07/2022  11:25         4,001,997 BonusJune.pbix\n",
      "07/04/2022  12:46             9,873 Brand.xlsx\n",
      "15/10/2021  17:26           174,785 BRDajayMishra.pdf\n",
      "08/04/2022  10:32           477,201 bruno.xlsx\n",
      "12/04/2022  15:13           105,572 brunoMutiCPA.xlsx\n",
      "26/09/2021  13:02           251,904 business-model-canvas (1).ppt\n",
      "26/09/2021  10:38           133,321 business-model-canvas.docx\n",
      "26/09/2021  13:02           254,976 business-model-canvas.ppt\n",
      "30/05/2022  10:00        34,328,438 byCountrybrand (1).xlsx\n",
      "27/05/2022  14:59        34,328,438 byCountrybrand.xlsx\n",
      "07/10/2022  10:10        29,211,567 BydateTag.xlsx\n",
      "27/05/2022  10:37        14,142,471 bydateTags.xlsx\n",
      "22/06/2022  11:19           324,211 ByEnteractive.pbix\n",
      "30/05/2022  11:34       614,365,794 byGroupTags30.xlsx\n",
      "10/10/2022  10:48           611,517 byPartner01-30sept (1).xlsx\n",
      "03/10/2022  17:49           747,505 byPartner01-30sept.xlsx\n",
      "03/10/2022  14:43           349,271 ByPartner25sept-2oct.xlsx\n",
      "27/05/2022  17:39        87,562,668 byPartnerAllMatbyWeek.xlsx\n",
      "21/04/2022  10:51        25,918,948 bypartnerName.xlsx\n",
      "21/07/2022  11:37         2,662,947 CacelCount.xlsx\n",
      "28/03/2022  14:34             2,829 CanBeThink.csv\n",
      "31/08/2022  09:55             7,220 CCF_0054.jpg\n",
      "01/08/2022  16:41         1,832,927 check.xlsx\n",
      "25/09/2021  18:06         1,342,296 ChromeSetup.exe\n",
      "22/06/2022  19:05        28,972,759 classMaterial.pdf\n",
      "19/12/2021  20:04            60,669 cleveland.data\n",
      "09/08/2022  16:09            16,395 cohJune.xlsx\n",
      "10/08/2022  14:34         1,616,833 concatemail1531.xlsx\n",
      "14/02/2022  00:30            81,694 Cost Estimate (exchange).docx.pdf\n",
      "07/04/2022  17:16        19,636,811 countemail2.xlsx\n",
      "27/12/2021  01:06        10,176,530 covid-19-residents.pptx\n",
      "28/03/2022  14:19           254,265 CPA Report 01.02 to 25.03.xlsx\n",
      "11/04/2022  14:52         8,709,165 CPAbrand.xlsx\n",
      "11/04/2022  14:57        14,169,438 CPABrandEmail.pbix\n",
      "14/04/2022  16:19        47,251,117 CPAGPresentation.xlsx\n",
      "28/04/2022  20:17        27,871,753 cpaPartner.xlsx\n",
      "11/04/2022  14:44        14,112,401 CPApresentation.xlsx\n",
      "06/07/2022  11:19               507 credentials_db.yml\n",
      "19/04/2022  15:54         1,021,498 CrossBrandPresentation.pptx\n",
      "02/02/2022  23:07         1,827,667 CSP2022-E.pdf\n",
      "28/03/2022  17:38       100,078,021 Customer Base Analysis.xlsx\n",
      "04/05/2022  09:41            54,759 Customer Experience Segmentation Updated.docx\n",
      "07/04/2022  19:17        55,612,425 Customerby brand.xlsx\n",
      "29/08/2022  12:50           106,208 CZDC=0.xlsx\n",
      "20/03/2022  02:20           711,114 d_Deck_Credit Scoring.pdf\n",
      "23/12/2021  13:56           554,208 DA project.docx\n",
      "23/12/2021  13:56           669,053 DA project.pdf\n",
      "08/04/2022  13:13         2,723,295 data (1).xlsx\n",
      "11/05/2022  15:33           182,892 data (10).xlsx\n",
      "11/05/2022  15:35           268,510 data (11).xlsx\n",
      "13/05/2022  00:17         4,309,352 data (12).xlsx\n",
      "13/05/2022  00:37           538,790 data (13).xlsx\n",
      "13/05/2022  01:19         2,394,713 data (14).xlsx\n",
      "06/06/2022  16:29           668,574 data (15).xlsx\n",
      "06/06/2022  16:32         3,706,166 data (16).xlsx\n",
      "07/06/2022  09:04           775,334 data (17).xlsx"
     ]
    }
   ],
   "source": [
    "ls"
   ]
  },
  {
   "cell_type": "code",
   "execution_count": 3,
   "id": "504acc26",
   "metadata": {},
   "outputs": [
    {
     "name": "stdout",
     "output_type": "stream",
     "text": [
      "\n",
      "07/06/2022  09:05           680,688 data (18).xlsx\n",
      "07/06/2022  09:38           230,587 data (19).xlsx\n",
      "08/04/2022  13:16         2,862,636 data (2).xlsx\n",
      "07/06/2022  09:53            47,734 data (20).xlsx\n",
      "07/06/2022  10:03           878,590 data (21).xlsx\n",
      "07/06/2022  09:58             7,422 data (22).xlsx\n",
      "07/06/2022  10:12            36,756 data (23).xlsx\n",
      "07/06/2022  13:47           576,259 data (24).xlsx\n",
      "07/06/2022  13:48           400,205 data (25).xlsx\n",
      "18/06/2022  21:54            81,417 data (26).xlsx\n",
      "22/06/2022  10:49         2,278,660 data (27).xlsx\n",
      "25/08/2022  13:56             4,179 data (28).xlsx\n",
      "25/08/2022  13:56             4,240 data (29).xlsx\n",
      "08/04/2022  15:49           875,839 data (3).xlsx\n",
      "11/04/2022  00:19         8,162,124 data (4).xlsx\n",
      "22/04/2022  10:14           110,252 data (5).xlsx\n",
      "11/05/2022  14:04         2,790,382 data (6).xlsx\n",
      "11/05/2022  14:17         9,337,214 data (7).xlsx\n",
      "11/05/2022  14:36         1,368,541 data (8).xlsx\n",
      "11/05/2022  15:28         4,287,273 data (9).xlsx\n",
      "18/06/2022  21:39           549,257 Data Set.xlsx\n",
      "18/01/2022  21:02         1,079,040 Data Visualization Method (Ajay Mishra).pptx\n",
      "14/06/2022  12:48             1,407 data.csv\n",
      "08/04/2022  12:25         2,289,991 data.xlsx\n",
      "07/04/2022  15:26         1,093,222 data1.csv\n",
      "30/05/2022  10:14       393,887,056 datagrip-2022.1.4.exe\n",
      "27/05/2022  23:13             1,191 datasql.csv\n",
      "20/01/2022  18:50            23,071 DataViz2022 - Grades -All Parts (1).xlsx\n",
      "25/01/2022  22:57            23,071 DataViz2022 - Grades -All Parts (2).xlsx\n",
      "05/04/2022  09:20            29,602 DataViz2022 - Grades -All Parts.xlsx\n",
      "23/05/2022  12:20            22,729 date.xlsx\n",
      "27/05/2022  11:06        14,142,477 DateWise.xlsx\n",
      "06/12/2021  15:43         4,605,352 DAY 2_ITEM 5_Visualisation and its importance (2) (1).pptx\n",
      "06/12/2021  14:13         4,605,352 DAY 2_ITEM 5_Visualisation and its importance (2).pptx\n",
      "04/05/2022  11:45           200,462 DEAT Lists.xlsx\n",
      "27/02/2022  15:52         2,109,015 Dec 2021.csv\n",
      "23/05/2022  11:14           740,885 deposit_milestone_tags_2022-05-23T08_14_32.751892Z.xlsx\n",
      "23/05/2022  15:04           740,885 deposit_milestone_tags_2022-05-23T12_04_32.613703Z.xlsx\n",
      "24/05/2022  13:46        30,891,733 DepositMileStoneTags.xlsx\n",
      "07/04/2022  17:49         9,178,580 Disticntemail2.xlsx\n",
      "12/05/2022  12:57           202,843 Divide.xlsx\n",
      "08/10/2022  19:56       548,820,824 Docker Desktop Installer.exe\n",
      "16/03/2022  22:00        58,251,148 Draft February to March Traffic Updated to 13.03 (1).xlsx\n",
      "17/03/2022  16:07        58,980,464 Draft February to March Traffic Updated to 14.03.xlsx\n",
      "16/03/2022  21:40             3,226 DuexNewBad.csv\n",
      "17/05/2022  14:17            77,136 Dux April Revenue report (3).xlsx\n",
      "18/06/2022  14:18           161,457 Dux April Revenue report (4).xlsx\n",
      "23/05/2022  12:49           215,861 Dux April Revenue report.xlsx\n",
      "14/08/2022  13:39           134,826 Dux revenue report July.xlsx\n",
      "08/04/2022  10:29         2,622,413 dux.xlsx\n",
      "14/04/2022  15:10         2,917,337 Dux_Revsharereport_March22 (1).xlsx\n",
      "18/06/2022  14:17         2,916,210 Dux_Revsharereport_March22 (2).xlsx\n",
      "14/04/2022  14:35         2,845,189 Dux_Revsharereport_March22.xlsx\n",
      "22/04/2022  12:34           433,276 DuxCommon.xlsx\n",
      "14/04/2022  15:06            10,763 duxenter.xlsx\n",
      "07/04/2022  13:29            36,655 duxim.jpg\n",
      "12/04/2022  15:12           637,847 duxmultibrandCPA.xlsx\n",
      "16/03/2022  22:01             1,549 DuxNewGood.csv\n",
      "16/03/2022  22:00             1,610 DuxnewPotential.csv\n",
      "22/04/2022  10:47         2,585,132 duxNotCommon.xlsx\n",
      "16/03/2022  18:03             3,424 duxwrost.csv\n",
      "29/03/2022  10:08            15,850 Early Life Predictor Daily Update Procedure Documentation.docx\n",
      "07/04/2022  15:19         1,093,222 email1.csv\n",
      "07/04/2022  15:11         1,517,411 emailCount.csv\n",
      "08/04/2022  13:55        40,797,436 EmailCrack.xlsx\n",
      "07/04/2022  18:26         9,178,580 emailgroup.xlsx\n",
      "08/04/2022  13:12             4,545 emailright (1).xlsx\n",
      "08/04/2022  12:34            15,412 emailright.xlsx\n",
      "05/04/2022  09:50             2,965 EmeraldInsight_citations_20220405065009.ris\n",
      "20/04/2022  11:50             2,965 EmeraldInsight_citations_20220420085003.ris\n",
      "14/10/2022  14:42         1,292,520 eneter14-10.pbix\n",
      "28/03/2022  10:29            87,892 Enteractive Analysis 1.xlsx\n",
      "18/05/2022  10:46            93,205 Enteractive Analysis April Users  List (1).xlsx\n",
      "17/05/2022  16:40           226,643 Enteractive Analysis April Users  List.xlsx\n",
      "28/03/2022  11:41           265,844 Enteractive Analysis.xlsx\n",
      "12/07/2022  16:55            35,693 EnteractiveAN.pptx\n",
      "17/06/2022  17:53           194,282 EnteractiveDux.pbix\n",
      "15/07/2022  11:52           112,758 EnteractiveJune.xlsx\n",
      "18/05/2022  14:27           436,141 EnteractiveMainwithAllData.xlsx\n",
      "18/06/2022  23:50           317,557 EnteractiveNew.pbix\n",
      "23/05/2022  13:57           114,243 EnteractiveNew.xlsx\n",
      "17/06/2022  15:59           423,770 EnterativeNew.xlsx\n",
      "18/05/2022  12:47           310,128 EnterativeWithRSApril.xlsx\n",
      "30/11/2021  18:14           244,726 Enterprise Architecture.pdf\n",
      "14/10/2022  13:03            46,577 enterTag.xlsx\n",
      "23/05/2022  14:47            49,732 Entr.xlsx\n",
      "23/08/2022  15:42           324,631 ERASMUS_Mishra.pdf\n",
      "02/03/2022  00:56        10,763,118 erwin DT - User Guide.pdf\n",
      "23/02/2022  22:11         3,101,667 ey-agritech-towards-transforming-indian-agriculture (1).pdf\n",
      "23/02/2022  23:45         3,101,667 ey-agritech-towards-transforming-indian-agriculture (2).pdf\n",
      "27/02/2022  22:25         3,101,667 ey-agritech-towards-transforming-indian-agriculture (3).pdf\n",
      "17/02/2022  01:36         3,101,667 ey-agritech-towards-transforming-indian-agriculture.pdf\n",
      "27/06/2022  17:31         5,253,492 Fact.pdf\n",
      "29/05/2022  23:27            37,888 FactCashFlow.xls\n",
      "04/04/2022  14:14         1,302,032 Failed FTD's.xlsx\n",
      "03/03/2022  12:16         4,673,288 feb.pbix\n",
      "07/04/2022  11:25         4,940,326 Febdate.xlsx\n",
      "18/06/2022  13:18            89,701 febE.xlsx\n",
      "20/06/2022  13:55            50,771 febEnteractive (1).xlsx\n",
      "17/06/2022  17:05            54,340 febEnteractive.xlsx\n",
      "29/04/2022  11:24           672,597 febSSN.xlsx\n",
      "24/04/2022  00:23             7,425 filediagram.drawio\n",
      "23/04/2022  18:03            83,004 filediagram.drawio.pdf\n",
      "18/10/2021  18:16            33,304 Final Examination Problem Set.docx\n",
      "24/09/2022  15:57           351,544 Firefox Installer.exe\n",
      "31/03/2022  18:27           961,106 forAjay (1).xlsx\n",
      "31/03/2022  16:03           330,846 forAjay.xlsx\n",
      "31/03/2022  15:22           869,997 forAjay1.xlsx\n",
      "31/03/2022  16:42           800,834 forAjaySSBO.xlsx\n",
      "31/03/2022  16:14           759,293 forSSBO.xlsx\n",
      "12/05/2022  16:24            11,476 forStephen.xlsx\n",
      "08/02/2022  16:53         5,693,160 Futamata Takumi_HW1.pptx\n",
      "16/10/2021  19:08         3,923,955 futureinternet-13-00143-v2.pdf\n",
      "11/08/2022  11:35         4,216,589 Ganze PDF_Mishra_Ajay (1).pdf\n",
      "14/07/2022  13:34         4,216,589 Ganze PDF_Mishra_Ajay.pdf\n",
      "08/04/2022  10:28         1,982,617 gets.xlsx\n",
      "12/04/2022  15:14           137,425 getsmutiCPA.xlsx\n",
      "16/03/2022  21:53             4,125 GetsNewBad.csv\n",
      "16/03/2022  21:44             1,022 GetsnewGood.csv\n",
      "01/08/2022  17:15         2,193,432 GetsPinoCompare.pbix\n",
      "01/08/2022  16:41         1,689,727 getsUpdated.xlsx\n",
      "06/07/2022  10:42        49,274,960 Git-2.37.0-64-bit.exe\n",
      "20/10/2021  12:31         1,783,200 Greenshot-INSTALLER-1.2.10.6-RELEASE.exe\n",
      "05/08/2022  16:55         1,268,408 Guidelines for Porsche Tournament.xlsx\n",
      "05/08/2022  12:09            13,575 Guidelines.xlsx\n",
      "19/12/2021  20:26            10,060 heart-disease (1).names\n",
      "19/12/2021  18:09            10,060 heart-disease.names\n",
      "18/10/2021  17:54           148,561 Homework_AkshayJadhav.pbix\n",
      "05/03/2022  12:35    <DIR>          hse-ib-apartmentprice\n",
      "05/03/2022  12:35           899,158 hse-ib-apartmentprice.zip\n",
      "28/05/2022  02:06    <DIR>          hse-ib-apartmentprice-publicleaderboard\n",
      "04/03/2022  16:29               410 hse-ib-apartmentprice-publicleaderboard.zip\n",
      "18/10/2021  18:06           168,790 HW1( Power BI ) Md Al amin Hossain.pbix\n",
      "18/10/2021  17:49           167,494 HW1_Ukhobotova.pbix\n",
      "11/10/2021  14:03           150,555 HW1MishraAjayHomework.pbix\n",
      "11/10/2021  14:45            77,357 HW2MishraAjay.pdf\n",
      "10/10/2021  00:42           868,224 IBM Watson Bikeshare and Credit risk prediction.pdf\n",
      "13/10/2021  18:33         1,207,671 IBM Watson Drug recommendation using Modeler flow 1.pdf\n",
      "10/10/2021  00:33           996,948 IBM Watson Getting started 1.pdf\n",
      "13/10/2021  18:33           648,301 IBM Watson Telecom customer segmentation 1.pdf\n",
      "16/01/2022  10:10           480,127 Identifying restaurant category positioning and tastemakers from digital geo-location history.pdf\n",
      "13/10/2022  02:42             8,672 ikea.xlsx\n",
      "13/07/2022  11:33    <DIR>          ilovepdf_pages-to-jpg\n",
      "05/10/2022  12:17           576,711 image_2022-10-05_12-16-53.png\n",
      "07/06/2022  08:49         2,912,180 Inforiver (1.5.0.0).pbiviz\n",
      "29/09/2022  12:58            12,483 InternshipDoc.docx\n",
      "15/02/2022  22:52           371,602 Introduction_to_HDFS.pptx\n",
      "30/09/2022  15:14        16,045,769 issuedandexpiredBonus.pbix\n",
      "22/11/2021  18:43           333,992 IT Pro - Trade Data.xlsx\n",
      "25/05/2022  13:01             7,173 italy.xlsx\n",
      "18/06/2022  13:17            29,965 Jan.xlsx\n",
      "27/02/2022  15:51         2,482,609 Jan2021.csv\n",
      "07/04/2022  11:44        13,586,732 JanDate.xlsx\n",
      "20/06/2022  13:54            13,747 JanEnteractive.xlsx\n",
      "04/10/2022  16:10       174,114,038 janson1.xlsx\n",
      "02/03/2022  13:12         9,552,270 January and February Active.xlsx\n",
      "04/10/2022  17:06        22,435,142 JSON.pbix\n",
      "04/10/2022  16:39       119,825,609 json1.xlsx\n",
      "19/09/2022  13:54           652,495 July.xlsx\n",
      "23/08/2022  14:39           195,937 JULYEnteractive1.xlsx\n",
      "04/10/2022  16:37         3,534,579 julyJson.xlsx\n",
      "15/07/2022  16:44           448,075 June Analysis.pptx\n",
      "11/07/2022  11:43         6,868,277 June30.xlsx\n",
      "15/07/2022  15:52         4,033,547 juneanalysis.pbix\n",
      "20/07/2022  13:48           118,557 JuneEnteractive.xlsx\n",
      "07/07/2022  12:23        27,175,792 JuneFileWithTag.xlsx\n",
      "04/10/2022  16:32         3,693,539 juneJson.xlsx\n",
      "04/08/2022  10:16            96,728 JunlyRevUID.xlsx\n",
      "31/03/2022  20:43           174,070 Kerber.pbix\n",
      "28/04/2022  17:10        24,216,225 lapTop.xlsx\n",
      "29/08/2022  12:49         2,268,156 LastDep_=1May to 1 Aug.xlsx\n",
      "19/09/2022  13:44           466,769 LastWeek.xlsx\n",
      "26/07/2022  15:25            19,755 List of Users.xlsx\n",
      "10/08/2022  18:36           204,177 ListCheckEn.xlsx\n",
      "04/08/2022  10:24            14,898 ListEnteractiveCheck.xlsx\n",
      "25/04/2022  12:00           922,310 lms.pdf\n",
      "08/11/2021  17:54           996,336 Lu Jian (Sociology).pdf\n",
      "25/11/2021  22:21        27,046,683 M2070_Series_WIN_Printer_V3.13.12.00.18.zip\n",
      "18/11/2021  21:19           133,872 Macine learning in scoring modeling.pdf\n",
      "07/04/2022  12:46        13,394,682 Maineone.xlsx\n",
      "01/06/2022  10:21        20,574,791 Management Weekly Report W20 (1).xlsx\n",
      "26/05/2022  09:57        20,573,842 Management Weekly Report W20.xlsx\n",
      "07/06/2022  14:07            13,895 Management Weekly Report W21 Automation Refference File.xlsx\n",
      "07/06/2022  14:28        22,503,412 Management Weekly Report W22.xlsx\n",
      "30/06/2022  18:36        25,241,137 Management Weekly Report W25.xlsx\n",
      "05/05/2022  16:21         6,835,879 March 21 to October 21 Report Draft 10.xlsx\n",
      "05/05/2022  17:32            71,643 March Update.xlsx\n",
      "24/05/2022  15:43            68,215 march.xlsx\n",
      "07/04/2022  11:25         5,205,215 MarchDate.xlsx\n",
      "18/06/2022  13:18            95,838 marchE.xlsx\n",
      "18/06/2022  14:20            72,702 marchEnteractive (1).xlsx\n",
      "20/06/2022  13:56            67,197 marchEnteractive (2).xlsx\n",
      "17/06/2022  15:59            72,702 marchEnteractive.xlsx\n",
      "29/04/2022  11:24           671,561 marchSSN.xlsx\n",
      "19/12/2021  14:58         3,894,352 mathematics-09-02537-v2.pdf\n",
      "27/05/2022  16:49        78,074,480 MatricesWeekWise.xlsx\n",
      "17/06/2022  15:09            50,472 MAYaLL.xlsx\n",
      "28/06/2022  14:40         7,079,859 MayBonus.xlsx\n",
      "20/06/2022  14:08            91,148 maycheck.xlsx\n",
      "18/06/2022  13:19            99,677 Maye.xlsx\n",
      "11/05/2022  13:22        31,199,742 MayEmail.xlsx\n",
      "21/06/2022  14:55            96,469 MayEn (1).xlsx\n",
      "21/06/2022  14:57            96,469 MayEn (2).xlsx\n",
      "21/06/2022  14:55            96,469 MayEn.xlsx\n",
      "20/06/2022  13:59            98,713 MayEnteractive.xlsx\n",
      "22/06/2022  17:44        12,430,283 mayJuneTag.xlsx\n",
      "12/12/2021  14:24         2,867,577 Mechta_Autumn_2021.pdf\n",
      "08/03/2022  18:37         4,381,561 Mechta_Winter_2022.pdf\n",
      "27/12/2021  01:41           688,682 medicina-57-00773-v2.pdf\n",
      "19/11/2021  09:57             2,124 meetingAttendanceReport(General) (1).csv\n",
      "22/11/2021  17:37             2,124 meetingAttendanceReport(General) (2).csv\n",
      "16/11/2021  12:20             2,124 meetingAttendanceReport(General).csv\n",
      "24/05/2022  17:10       139,110,168 microsoft-r-open-4.0.2 (1).exe\n",
      "24/05/2022  15:01       139,110,168 microsoft-r-open-4.0.2.exe\n",
      "05/10/2022  12:10           574,902 MishraAjaPassport1 (1).pdf\n",
      "13/07/2022  11:32           574,902 MishraAjaPassport1.pdf\n",
      "13/10/2021  18:33           165,560 mobile.txt\n",
      "14/10/2022  12:37         1,557,762 Monthly.pptx\n",
      "12/12/2021  14:29             7,021 Motivation CISA.docx\n",
      "12/12/2021  14:31            38,076 Motivation CISA.pdf\n",
      "29/07/2022  11:36         2,341,888 mrynFile.xlsx\n",
      "12/04/2022  15:30        12,683,467 Multibrand Customers List.xlsx\n",
      "27/10/2021  00:56            25,131 My_CV.pdf\n",
      "20/02/2022  17:17         2,428,928 mysql-installer-web-community-8.0.28.0.msi\n",
      "20/02/2022  17:14        44,810,240 mysql-workbench-community-8.0.28-winx64.msi\n",
      "17/11/2021  18:14           478,759 Netflix-ENG_.pdf\n",
      "13/03/2022  19:15            30,974 new scoring\n",
      "23/04/2022  14:45         3,303,118 new1.pbix\n",
      "30/03/2022  01:41            28,038 NewDaysComparative.xlsx\n",
      "08/09/2022  01:15         1,253,450 NewEnRequest.xlsx\n",
      "08/04/2022  15:57        20,512,516 NewExperimentBrabdEmail.pbix\n",
      "22/05/2022  18:19             8,793 NewsPaper.xlsx\n",
      "08/04/2022  13:14         5,679,170 newworkbegain.xlsx\n",
      "01/07/2022  11:45            11,534 NGR_GGR.xlsx\n",
      "22/03/2022  17:46           208,739 Nine Template1.xlsx\n",
      "08/04/2022  10:31           541,753 nine.xlsx\n",
      "29/08/2022  13:29            27,535 Nine1stJulyTo28Aug.xlsx\n",
      "12/04/2022  15:15           174,566 NineMutiCPA.xlsx\n",
      "22/07/2022  16:23            81,859 NRC- Active Players - With AffiliateCode02.xlsx\n",
      "08/04/2022  10:30           914,031 octo.xlsx\n",
      "14/04/2022  15:06            13,212 octoenter.xlsx\n",
      "12/04/2022  15:14           365,949 OctoMutiCPA.xlsx\n",
      "25/09/2021  20:50         7,425,728 OfficeSetup.exe\n",
      "22/06/2022  19:04    <DIR>          OneDrive_1_6-22-2022\n",
      "18/12/2021  15:36       480,075,392 Orange3-3.30.2-Miniconda-x86_64.exe\n",
      "22/04/2022  11:03            48,708 otherBrand.xlsx\n",
      "20/01/2022  18:02             1,787 P6-OfficeSupplies.csv\n",
      "25/03/2022  16:20       673,800,648 Parking_Violations_Issued_-_Fiscal_Year_2017.csv.zip\n",
      "29/03/2022  12:39           161,152 PartnerId.xlsx\n",
      "28/05/2022  02:11               447 Passager.csv\n",
      "28/05/2022  02:11             2,130 Passager1.csv\n",
      "03/06/2022  11:46            54,377 Passager1.xlsx\n",
      "28/05/2022  02:05               143 Passenger.csv\n",
      "28/05/2022  02:06    <DIR>          Passport bd\n",
      "05/10/2022  17:09           372,999 passportunedit.pdf\n",
      "31/03/2022  17:00           288,286 payment1.pbix\n",
      "06/07/2022  11:56            22,545 PbiDataBaseConnection.pbix\n",
      "04/12/2021  13:06           146,624 PERSONAL-DATA-PROTECTION-BILL-2018.pptx\n",
      "05/10/2022  13:01           335,550 photo_2022-10-05_13-01-13.jpg\n",
      "05/10/2022  13:04           307,706 photo_2022-10-05_13-03-35.jpg\n",
      "23/03/2022  11:35           242,319 Pino Template.xlsx\n",
      "08/04/2022  10:24         5,968,536 Pinoemail.xlsx\n",
      "14/04/2022  15:06            27,809 pinoenter.xlsx\n",
      "12/04/2022  15:15           773,789 PinoMutiCPA.xlsx\n",
      "01/08/2022  16:41         7,183,600 PinoUpdated.xlsx\n",
      "29/04/2022  11:25         7,342,112 playerActivity.xlsx\n",
      "29/04/2022  12:44         4,567,191 plyaerActivitydux.xlsx\n",
      "06/07/2022  11:56            23,668 PowerBiConncetion.ipynb\n",
      "27/12/2021  01:12         1,906,176 PPEforPortofficials_v2.pptx\n",
      "26/09/2022  09:19         1,708,396 Practice 1 - VM.pptx\n",
      "20/04/2022  12:02           556,591 predicting-future-visitors.pdf\n",
      "13/04/2022  18:21         9,813,592 PresentationEmailBybrand.pbix\n",
      "20/09/2022  19:55            49,271 profile.jpg\n",
      "21/12/2021  16:10            38,076 Programma_-_Ajay_Mishra.pdf\n",
      "24/05/2022  19:17           854,189 Project example 1 - 12 pages.pdf\n",
      "24/05/2022  19:17         1,284,862 Project example 2 - 23 pages.pdf\n",
      "24/05/2022  19:17         2,123,631 Project example 3 - 42 pages.pdf\n",
      "20/04/2022  10:51            16,535 Project report_Assessment sheet_En (1).docx\n",
      "24/05/2022  22:32            16,535 Project report_Assessment sheet_En (2).docx\n",
      "22/03/2022  18:28            16,535 Project report_Assessment sheet_En.docx\n",
      "24/05/2022  22:32            17,831 Project report_Structure (1).docx\n",
      "29/05/2022  18:44            17,831 Project report_Structure (2).docx\n",
      "13/05/2022  01:32            17,831 Project report_Structure.docx\n",
      "24/05/2022  22:32            15,403 Project report_Title page (1).docx\n",
      "22/03/2022  18:25            15,403 Project report_Title page.docx\n",
      "09/11/2021  12:27            13,067 Proposed topics for term papers, 2020-2021.xlsx\n",
      "24/03/2022  19:08        25,071,312 ProtonVPN_win_v1.26.0.exe\n",
      "27/02/2022  15:50         2,109,015 query_result_2022-02-27T12_00_09.035509Z.csv\n",
      "27/02/2022  15:50         2,482,609 query_result_2022-02-27T12_02_31.530628Z.csv\n",
      "23/03/2022  11:10         7,375,196 query_result_2022-03-23T07_39_07.148947Z.xlsx\n",
      "23/03/2022  11:36           240,989 query_result_2022-03-23T08_07_36.764134Z.xlsx\n",
      "24/03/2022  11:32         7,268,989 query_result_2022-03-24T08_19_22.194881Z.xlsx\n",
      "24/03/2022  12:02           243,465 query_result_2022-03-24T08_49_12.320297Z.xlsx\n",
      "28/03/2022  12:08         1,598,427 query_result_2022-03-28T08_44_26.519131Z.xlsx\n",
      "28/03/2022  12:24           246,075 query_result_2022-03-28T09_07_19.103126Z.xlsx\n",
      "28/03/2022  12:33         7,384,561 query_result_2022-03-28T09_27_02.980333Z.xlsx\n",
      "28/03/2022  12:41           261,552 query_result_2022-03-28T09_38_06.614378Z.xlsx\n",
      "28/03/2022  13:34         7,369,811 query_result_2022-03-28T10_26_07.762969Z.xlsx\n",
      "28/03/2022  13:40           251,492 query_result_2022-03-28T10_34_15.752126Z.xlsx\n",
      "28/03/2022  13:49         7,453,964 query_result_2022-03-28T10_43_20.55774Z.xlsx\n",
      "29/03/2022  10:19         7,380,419 query_result_2022-03-29T07_11_31.449368Z.xlsx\n",
      "29/03/2022  10:43           256,888 query_result_2022-03-29T07_33_24.532754Z.xlsx\n",
      "30/03/2022  12:46           271,091 query_result_2022-03-30T09_46_12.052703Z.xlsx\n",
      "30/03/2022  13:04           637,518 query_result_2022-03-30T10_04_17.605974Z.xlsx\n",
      "31/03/2022  11:19           222,038 query_result_2022-03-31T07_42_05.639007Z.xlsx\n",
      "31/03/2022  13:51           526,967 query_result_2022-03-31T08_23_38.666981Z.xlsx\n",
      "31/03/2022  14:10         7,321,217 query_result_2022-03-31T10_58_56.803303Z.xlsx\n",
      "31/03/2022  14:42           258,684 query_result_2022-03-31T11_11_40.10465Z.xlsx\n",
      "01/04/2022  12:16           224,695 query_result_2022-04-01T08_20_21.874123Z.xlsx\n",
      "01/04/2022  13:43           521,297 query_result_2022-04-01T10_00_43.131617Z.xlsx\n",
      "04/04/2022  11:53           227,953 query_result_2022-04-04T08_13_39.170698Z.xlsx\n",
      "04/04/2022  11:54           631,127 query_result_2022-04-04T08_54_44.989419Z.xlsx\n",
      "04/04/2022  13:49         3,647,797 query_result_2022-04-04T10_48_54.403147Z.xlsx\n",
      "04/04/2022  15:01         3,647,797 query_result_2022-04-04T11_59_54.518512Z.xlsx\n",
      "04/04/2022  15:24           278,079 query_result_2022-04-04T12_25_02.303319Z.xlsx\n",
      "05/04/2022  10:48           276,783 query_result_2022-04-05T07_48_14.968756Z.xlsx\n",
      "05/04/2022  11:17           630,279 query_result_2022-04-05T08_17_28.735148Z.xlsx\n",
      "06/04/2022  12:05           627,977 query_result_2022-04-06T09_05_31.46926Z.xlsx\n",
      "06/04/2022  12:31           964,714 query_result_2022-04-06T09_32_01.629439Z.xlsx\n",
      "06/04/2022  13:09           278,846 query_result_2022-04-06T10_09_40.457845Z.xlsx\n",
      "11/04/2022  10:33         3,576,479 query_result_2022-04-11T07_33_12.944402Z.xlsx\n",
      "11/04/2022  11:15           265,596 query_result_2022-04-11T08_15_59.065516Z.xlsx\n",
      "12/04/2022  11:09           264,149 query_result_2022-04-12T08_09_19.325677Z.xlsx\n",
      "12/04/2022  11:16           588,375 query_result_2022-04-12T08_17_01.507268Z.xlsx\n",
      "12/04/2022  11:47           685,933 query_result_2022-04-12T08_24_17.103134Z.xlsx\n",
      "13/04/2022  10:25           287,189 query_result_2022-04-13T07_25_55.135941Z.xlsx\n",
      "13/04/2022  11:20           103,884 query_result_2022-04-13T07_59_10.545333Z.xlsx\n",
      "13/04/2022  11:24           287,188 query_result_2022-04-13T08_24_34.471475Z.xlsx\n",
      "13/04/2022  11:32           231,571 query_result_2022-04-13T08_26_23.143509Z.xlsx\n",
      "13/04/2022  11:33           608,459 query_result_2022-04-13T08_33_36.33798Z.xlsx\n",
      "13/04/2022  11:41           909,029 query_result_2022-04-13T08_41_39.289928Z.xlsx\n",
      "15/04/2022  10:50           266,718 query_result_2022-04-15T07_50_32.249543Z.xlsx\n",
      "15/04/2022  11:08           618,743 query_result_2022-04-15T08_08_58.315673Z.xlsx\n",
      "15/04/2022  11:37           943,695 query_result_2022-04-15T08_37_51.802927Z.xlsx\n",
      "15/04/2022  13:50           618,618 query_result_2022-04-15T10_50_31.354789Z - Copy.xlsx\n",
      "15/04/2022  13:50           618,618 query_result_2022-04-15T10_50_31.354789Z.xlsx\n",
      "19/04/2022  12:16           272,485 query_result_2022-04-19T09_16_21.627498Z.xlsx\n",
      "19/04/2022  13:34           612,433 query_result_2022-04-19T10_34_25.438479Z.xlsx\n",
      "20/04/2022  10:55           265,803 query_result_2022-04-20T07_55_58.308649Z.xlsx\n",
      "20/04/2022  11:02           615,394 query_result_2022-04-20T08_02_35.274488Z.xlsx\n",
      "20/04/2022  11:13           932,839 query_result_2022-04-20T08_13_52.031835Z.xlsx\n",
      "21/04/2022  12:22           259,005 query_result_2022-04-21T09_23_15.066338Z.xlsx\n",
      "21/04/2022  12:43           613,121 query_result_2022-04-21T09_43_28.268114Z.xlsx\n",
      "21/04/2022  12:53           929,003 query_result_2022-04-21T09_54_12.616415Z.xlsx\n",
      "21/04/2022  12:56           929,003 query_result_2022-04-21T09_56_30.05666Z.xlsx\n",
      "26/04/2022  11:26            88,207 query_result_2022-04-26T08_26_09.786982Z.xlsx\n",
      "26/04/2022  14:04           276,517 query_result_2022-04-26T11_04_02.25558Z.xlsx\n",
      "26/04/2022  14:11            89,705 query_result_2022-04-26T11_11_22.833604Z.xlsx\n",
      "26/04/2022  14:29           277,634 query_result_2022-04-26T11_29_04.724059Z.xlsx\n",
      "26/04/2022  14:54           612,794 query_result_2022-04-26T11_54_27.732876Z.xlsx\n",
      "26/04/2022  15:17           915,953 query_result_2022-04-26T12_16_56.138604Z.xlsx\n",
      "27/04/2022  12:33           285,358 query_result_2022-04-27T09_33_36.988894Z.xlsx\n",
      "27/04/2022  14:16           616,871 query_result_2022-04-27T11_15_59.334495Z.xlsx\n",
      "27/04/2022  14:25           916,119 query_result_2022-04-27T11_25_17.606769Z.xlsx\n",
      "28/04/2022  11:37            94,652 query_result_2022-04-28T08_37_02.998568Z.xlsx\n",
      "28/04/2022  12:46           291,645 query_result_2022-04-28T09_46_26.362513Z.xlsx\n",
      "28/04/2022  13:00           620,913 query_result_2022-04-28T10_00_06.396744Z.xlsx\n",
      "28/04/2022  13:08           920,292 query_result_2022-04-28T10_07_56.068654Z.xlsx\n",
      "29/04/2022  16:11           296,393 query_result_2022-04-29T13_11_44.726914Z.xlsx\n",
      "29/04/2022  16:23           627,417 query_result_2022-04-29T13_23_01.770097Z.xlsx\n",
      "29/04/2022  16:34           924,862 query_result_2022-04-29T13_34_27.890945Z.xlsx\n",
      "04/05/2022  10:25            88,371 query_result_2022-05-04T07_25_11.532269Z.xlsx\n",
      "04/05/2022  16:00           302,576 query_result_2022-05-04T13_00_24.323548Z.xlsx\n",
      "04/05/2022  16:13           639,570 query_result_2022-05-04T13_13_22.683747Z.xlsx\n",
      "04/05/2022  16:26           950,092 query_result_2022-05-04T13_26_26.485619Z.xlsx\n",
      "05/05/2022  13:06            80,392 query_result_2022-05-05T10_06_04.330018Z.xlsx\n",
      "05/05/2022  14:14           296,291 query_result_2022-05-05T11_14_17.256183Z.xlsx\n",
      "05/05/2022  14:24           639,012 query_result_2022-05-05T11_24_40.859682Z.xlsx\n",
      "05/05/2022  14:44           947,509 query_result_2022-05-05T11_44_08.650326Z.xlsx\n",
      "06/05/2022  08:54           317,461 query_result_2022-05-06T05_54_29.64393Z.xlsx\n",
      "06/05/2022  09:15           651,674 query_result_2022-05-06T06_15_12.378909Z.xlsx\n",
      "06/05/2022  09:27           949,712 query_result_2022-05-06T06_27_05.326571Z.xlsx\n",
      "11/05/2022  10:20           293,488 query_result_2022-05-11T07_20_03.624662Z.xlsx\n",
      "11/05/2022  10:55           455,263 query_result_2022-05-11T07_55_42.367771Z.xlsx\n",
      "11/05/2022  10:56           455,263 query_result_2022-05-11T07_56_06.054861Z.xlsx\n",
      "11/05/2022  11:13           664,763 query_result_2022-05-11T08_13_36.822369Z.xlsx\n",
      "12/05/2022  11:53            77,693 query_result_2022-05-12T08_53_31.851451Z.xlsx\n",
      "13/05/2022  14:25           286,163 query_result_2022-05-13T11_25_35.244325Z.xlsx\n",
      "13/05/2022  14:53           670,706 query_result_2022-05-13T11_53_21.037863Z.xlsx\n",
      "13/05/2022  15:18           959,264 query_result_2022-05-13T12_18_11.178112Z.xlsx\n",
      "16/05/2022  10:20            85,775 query_result_2022-05-16T07_20_27.750798Z.xlsx\n",
      "16/05/2022  11:14            14,495 query_result_2022-05-16T08_03_41.747513Z.xlsx\n",
      "16/05/2022  11:16           292,543 query_result_2022-05-16T08_16_09.180976Z.xlsx\n",
      "17/05/2022  11:16           196,166 query_result_2022-05-17T08_16_21.062322Z.xlsx\n",
      "17/05/2022  11:24           290,880 query_result_2022-05-17T08_23_55.625863Z.xlsx\n",
      "17/05/2022  11:30           671,158 query_result_2022-05-17T08_30_44.800585Z.xlsx\n",
      "19/05/2022  09:26           187,471 query_result_2022-05-19T06_26_04.954816Z.xlsx\n",
      "19/05/2022  09:41           286,943 query_result_2022-05-19T06_41_11.82565Z.xlsx\n",
      "19/05/2022  13:51           674,194 query_result_2022-05-19T10_50_50.089238Z.xlsx\n",
      "19/05/2022  14:53           974,861 query_result_2022-05-19T11_52_59.153146Z.xlsx\n",
      "24/05/2022  11:20           483,839 query_result_2022-05-24T08_19_57.08645Z.csv\n",
      "02/02/2022  23:51             7,813 Question 6.docx\n",
      "24/05/2022  16:48        82,361,540 R-4.2.0-win.exe\n",
      "04/03/2022  10:43        13,664,323 Reactivation Dux Analysis.xlsx\n",
      "14/06/2022  23:59         2,840,659 Report_391598_20220614_ApiCorp.pdf\n",
      "20/06/2022  16:12         1,592,247 Report_399182_20220620_ApiCorp.pdf\n",
      "02/02/2022  23:28           727,625 request.pdf\n",
      "05/10/2022  13:04           307,706 res.jpg\n",
      "05/10/2022  12:53           350,876 residence.jpg\n",
      "01/03/2022  17:11         2,328,919 Result_17.xlsx\n",
      "14/07/2022  10:59           112,607 Result_19 (1).xlsx\n",
      "01/03/2022  17:10         2,600,759 Result_19.xlsx\n",
      "16/09/2022  16:06             3,563 Result_2 (1).xlsx\n",
      "03/03/2022  16:15             4,703 Result_2.xlsx\n",
      "01/03/2022  16:57         3,965,912 Result_21.xlsx\n",
      "21/06/2022  14:47            96,425 Result_226.xlsx\n",
      "23/06/2022  12:47            54,388 Result_339.xlsx\n",
      "01/08/2022  15:46             3,056 Result_7.xlsx\n",
      "17/06/2022  12:26            36,541 Result_74.xlsx\n",
      "01/07/2022  12:09           456,957 Result_97.xlsx\n",
      "04/03/2022  12:05            34,755 reteion4dux.xlsx\n",
      "09/03/2022  11:56         2,317,712 Retention Dux Analysis (1).xlsx\n",
      "04/03/2022  11:00         1,044,995 Retention Dux Analysis.xlsx\n",
      "09/03/2022  11:01           260,975 Retention Gets Analysis.xlsx\n",
      "03/03/2022  12:50         2,558,322 Retention Lists Dux.xlsx\n",
      "16/09/2022  12:30           192,690 RevenueShareReport_Dux Group_August2022.csv\n",
      "19/07/2022  15:00           109,915 RevenueShareReport_Dux Group_June2022 (1).xlsx\n",
      "19/07/2022  13:56           147,320 RevenueShareReport_Dux Group_June2022.csv\n",
      "19/07/2022  13:57           104,030 RevenueShareReport_Dux Group_June2022.xlsx\n",
      "16/05/2022  16:59            33,301 Review 16.05.xlsx\n",
      "30/03/2022  11:11            28,426 Review 29.03.xlsx\n",
      "01/04/2022  12:29            99,523 Review 30.03 (1).xlsx\n",
      "05/07/2022  10:02           211,104 review1_mishra_a_-.pdf\n",
      "04/08/2022  10:16            96,955 RevJuly.xlsx\n",
      "24/05/2022  17:14       177,265,720 RStudio-2022.02.2-485.exe\n",
      "17/09/2022  16:10           209,325 SaaS.pdf\n",
      "19/01/2022  18:09         3,364,352 Sample - Superstore.xls\n",
      "26/07/2022  11:55            10,892 SBonus Cancelation.xlsx\n",
      "12/12/2021  13:28            31,529 sc.jpg\n",
      "27/10/2021  01:05            42,764 scan0038.jpg\n",
      "21/10/2021  22:55           168,834 Screenshot (66) (1).png\n",
      "17/10/2021  00:08           168,834 Screenshot (66).png\n",
      "20/06/2022  20:35         4,459,620 SegmentNotNull.xlsx\n",
      "17/06/2022  20:32           540,898 SEnteractiveMainwithAllDataApril - RS Aggregated (4).xlsx\n",
      "19/05/2022  09:52           576,706 SEnteractiveMainwithAllDataApril - RS Aggregated.xlsx\n",
      "18/05/2022  14:37           483,637 SEnteractiveMainwithAllDataApril.xlsx\n",
      "19/09/2022  13:56           717,320 September.xlsx\n",
      "04/10/2022  16:41         5,824,781 septjson.xlsx\n",
      "16/03/2022  10:34        99,121,984 SlackSetup.exe\n",
      "21/09/2022  15:13        98,735,755 Slots.xlsx\n",
      "01/07/2022  15:21           251,617 SMFD40950022070114081.pdf\n",
      "01/07/2022  15:21           217,296 SMFD40950022070114110.pdf\n",
      "25/05/2022  13:53         1,369,776 Soft Swiss Payment Reports.xlsx\n",
      "16/05/2022  13:13         2,523,919 SOGAZ.pdf\n",
      "20/03/2022  13:18       300,971,569 spark-3.2.1-bin-hadoop3.2.tgz\n",
      "09/05/2022  18:14         5,950,368 SQL2019-SSEI-Dev.exe\n",
      "09/05/2022  18:08                17 SQLite.sql\n",
      "15/10/2021  17:26           282,376 SRSajayMishra.pdf\n",
      "09/05/2022  18:24       708,199,808 SSMS-Setup-ENU (1).exe\n",
      "09/05/2022  18:24       708,199,808 SSMS-Setup-ENU.exe\n",
      "11/11/2021  09:05           145,824 Strategy_For_Entering_The_International_Market.pdf\n",
      "03/10/2021  00:50             3,489 subtitle.txt\n",
      "18/12/2021  22:17         3,180,721 sustainability-12-08599.pdf\n",
      "10/10/2021  12:43         1,288,228 sustainability-13-05516-v2 (1).pdf\n",
      "23/02/2022  00:35         1,288,228 sustainability-13-05516-v2 (2).pdf\n",
      "27/02/2022  22:24         1,288,228 sustainability-13-05516-v2 (3).pdf\n",
      "10/03/2022  22:40         1,288,228 sustainability-13-05516-v2 (4).pdf\n",
      "26/09/2021  14:17         1,288,228 sustainability-13-05516-v2.pdf\n",
      "05/10/2022  11:24         9,640,788 tagCotober.xlsx\n",
      "23/05/2022  12:02        28,571,089 TagNotNull (1).xlsx\n",
      "20/05/2022  15:56        30,687,349 TagNotNull.xlsx\n",
      "12/07/2022  14:21        61,989,301 TagsCorrelation.xlsx\n",
      "05/10/2022  15:30        19,340,407 TagsFileJsonBI.xlsx\n",
      "24/04/2022  19:11           364,907 Talent management Test (1).pdf\n",
      "24/04/2022  19:10         7,507,193 Talent management Test (1).rtf\n",
      "24/04/2022  18:59           637,242 Talent management Test.pdf\n",
      "24/04/2022  18:55         7,509,422 Talent management Test.rtf\n",
      "15/10/2022  12:09            90,260 teacher.xlsx\n",
      "25/09/2021  20:43       124,599,048 Teams_windows_x64.exe\n",
      "18/10/2022  21:19    <DIR>          Telegram Desktop\n",
      "18/01/2022  14:44           206,916 Term Paper.pdf\n",
      "29/05/2022  18:32            32,150 tf00000055.xlsx\n",
      "28/09/2021  20:44           188,733 The Transformation of Traditional Banking Activity in Digital.pdf\n",
      "11/05/2022  10:03           248,894 Thesis and Term Paper Guidelines for Big Data System Master's Programme.pdf\n",
      "02/03/2022  12:11            46,983 thumb.png\n",
      "14/10/2022  14:48           819,537 tillJuly.xlsx\n",
      "13/06/2022  21:29            14,238 Title page Thesis.docx\n",
      "26/04/2022  11:19         3,536,445 traffic_quality____cohort_users____by_partners__clickhousedashboarddatamartbydate__2022-04-26T08_18_19.523761Z.xlsx\n",
      "26/04/2022  14:52         3,546,415 traffic_quality____cohort_users____by_partners__clickhousedashboarddatamartbydate__2022-04-26T11_51_56.843769Z.xlsx\n",
      "28/04/2022  10:48         3,560,583 traffic_quality____cohort_users____by_partners__clickhousedashboarddatamartbydate__2022-04-28T07_47_37.101515Z.xlsx\n",
      "26/09/2021  10:08        34,486,688 tsetup-x64.3.1.1.exe\n",
      "24/09/2022  11:03     1,474,873,344 ubuntu-22.04.1-live-server-amd64.iso\n",
      "24/09/2022  11:08     1,436,102,656 ubuntu-22.04.1-live-server-arm64.iso\n",
      "07/03/2022  21:50            12,842 Untitled.ipynb\n",
      "22/03/2022  11:16           119,973 Untitled0.ipynb\n",
      "05/10/2022  15:31        23,818,030 UpdateOct.xlsx\n",
      "05/10/2022  15:03         9,937,397 UpdateOctTag.xlsx\n",
      "25/09/2021  20:52        31,769,416 UrbanVPN2.exe\n",
      "23/05/2022  13:45           221,224 Users List (1).xlsx\n",
      "25/03/2022  08:46         5,170,760 uTorrent.exe\n",
      "14/04/2022  16:37        14,167,766 vennData.pbix\n",
      "14/04/2022  17:23         4,078,382 vennData.xlsx\n",
      "30/11/2021  16:24            34,920 VIbhuti Resume.docx\n",
      "15/05/2022  22:36           158,154 vibhutipowerBi.pbix\n",
      "18/08/2022  10:34           232,990 VipJulyEnterractive.xlsx\n",
      "01/09/2022  12:43           455,093 VIPWithOutM.xlsx\n",
      "17/09/2022  13:37       111,569,920 VirtualBox-6.1.38-153438-Win.exe\n",
      "24/10/2021  00:14        41,372,992 vlc-3.0.16-win32.exe\n",
      "14/06/2022  23:56         5,453,998 vTERM PAPER Final.docx\n",
      "30/05/2022  12:59        10,540,534 Week 2 Unit Economics.pdf\n",
      "20/06/2022  12:05           294,809 Week20-6.xlsx\n",
      "06/06/2022  16:52           262,119 week22 (1).xlsx\n",
      "06/06/2022  17:54           262,119 week22 (2).xlsx\n",
      "06/06/2022  15:35           814,273 week22.xlsx\n",
      "08/07/2022  14:36         1,602,618 Weekly Report.pbix\n",
      "31/05/2022  15:56           273,641 WeekVIPGroupby.xlsx\n",
      "29/04/2022  13:04        11,866,183 withPartnername.xlsx\n",
      "13/04/2022  19:54           204,094 WR-IFSM-21-NameList-Engl-130422.pdf\n",
      "08/11/2021  16:29         1,860,448 Yandex.exe\n",
      "29/06/2022  22:54         1,943,464 YandexDisk30Setup.exe\n",
      "30/03/2022  00:55         2,893,443 yesterday.xlsx\n",
      "25/04/2022  16:23         2,116,401 ZomatoData.csv\n",
      "25/09/2021  21:04        19,770,416 ZoomInstaller.exe\n",
      "13/06/2022  21:25         6,406,196 ????? ?????? ?? ?????? (api corp) - ???????????.html\n",
      "13/06/2022  21:25    <DIR>          ????? ?????? ?? ?????? (api corp) - ???????????_files\n",
      "01/09/2022  10:00            25,673 ????????? ?? ?????? ?? ????? ?????.docx\n",
      "01/09/2022  10:00           239,219 ????????? ?? ?????? ?? ????? ?????.pdf\n",
      "29/09/2022  12:29            24,299 ???????_????????????_?????????????_??_??? 23.08.2022.xlsx\n",
      "08/12/2021  17:14            15,232 ??????? ???????.docx\n",
      "18/11/2021  14:40            11,358 ?????? ??? ??.xlsx\n",
      "             711 File(s) 17,222,573,998 bytes\n",
      "              14 Dir(s)  113,923,772,416 bytes free\n"
     ]
    },
    {
     "ename": "FileNotFoundError",
     "evalue": "[Errno 2] No such file or directory: 'customers_sample.csv'",
     "output_type": "error",
     "traceback": [
      "\u001b[1;31m---------------------------------------------------------------------------\u001b[0m",
      "\u001b[1;31mFileNotFoundError\u001b[0m                         Traceback (most recent call last)",
      "\u001b[1;32m~\\AppData\\Local\\Temp/ipykernel_54592/2537889305.py\u001b[0m in \u001b[0;36m<module>\u001b[1;34m\u001b[0m\n\u001b[1;32m----> 1\u001b[1;33m \u001b[0mcust\u001b[0m \u001b[1;33m=\u001b[0m \u001b[0mpd\u001b[0m\u001b[1;33m.\u001b[0m\u001b[0mread_csv\u001b[0m\u001b[1;33m(\u001b[0m\u001b[1;34m'customers_sample.csv'\u001b[0m\u001b[1;33m,\u001b[0m\u001b[0msep\u001b[0m\u001b[1;33m=\u001b[0m\u001b[1;34m';'\u001b[0m\u001b[1;33m,\u001b[0m\u001b[0mlow_memory\u001b[0m\u001b[1;33m=\u001b[0m\u001b[1;32mFalse\u001b[0m\u001b[1;33m)\u001b[0m\u001b[1;33m\u001b[0m\u001b[1;33m\u001b[0m\u001b[0m\n\u001b[0m\u001b[0;32m      2\u001b[0m \u001b[0mtrans\u001b[0m \u001b[1;33m=\u001b[0m \u001b[0mpd\u001b[0m\u001b[1;33m.\u001b[0m\u001b[0mread_csv\u001b[0m\u001b[1;33m(\u001b[0m\u001b[1;34m'transactional_data.csv'\u001b[0m\u001b[1;33m)\u001b[0m\u001b[1;33m\u001b[0m\u001b[1;33m\u001b[0m\u001b[0m\n\u001b[0;32m      3\u001b[0m \u001b[0mcodes\u001b[0m \u001b[1;33m=\u001b[0m \u001b[0mpd\u001b[0m\u001b[1;33m.\u001b[0m\u001b[0mread_excel\u001b[0m\u001b[1;33m(\u001b[0m\u001b[1;34m'merchant codes list.xls'\u001b[0m\u001b[1;33m)\u001b[0m\u001b[1;33m\u001b[0m\u001b[1;33m\u001b[0m\u001b[0m\n",
      "\u001b[1;32mC:\\ProgramData\\Anaconda3\\lib\\site-packages\\pandas\\util\\_decorators.py\u001b[0m in \u001b[0;36mwrapper\u001b[1;34m(*args, **kwargs)\u001b[0m\n\u001b[0;32m    309\u001b[0m                     \u001b[0mstacklevel\u001b[0m\u001b[1;33m=\u001b[0m\u001b[0mstacklevel\u001b[0m\u001b[1;33m,\u001b[0m\u001b[1;33m\u001b[0m\u001b[1;33m\u001b[0m\u001b[0m\n\u001b[0;32m    310\u001b[0m                 )\n\u001b[1;32m--> 311\u001b[1;33m             \u001b[1;32mreturn\u001b[0m \u001b[0mfunc\u001b[0m\u001b[1;33m(\u001b[0m\u001b[1;33m*\u001b[0m\u001b[0margs\u001b[0m\u001b[1;33m,\u001b[0m \u001b[1;33m**\u001b[0m\u001b[0mkwargs\u001b[0m\u001b[1;33m)\u001b[0m\u001b[1;33m\u001b[0m\u001b[1;33m\u001b[0m\u001b[0m\n\u001b[0m\u001b[0;32m    312\u001b[0m \u001b[1;33m\u001b[0m\u001b[0m\n\u001b[0;32m    313\u001b[0m         \u001b[1;32mreturn\u001b[0m \u001b[0mwrapper\u001b[0m\u001b[1;33m\u001b[0m\u001b[1;33m\u001b[0m\u001b[0m\n",
      "\u001b[1;32mC:\\ProgramData\\Anaconda3\\lib\\site-packages\\pandas\\io\\parsers\\readers.py\u001b[0m in \u001b[0;36mread_csv\u001b[1;34m(filepath_or_buffer, sep, delimiter, header, names, index_col, usecols, squeeze, prefix, mangle_dupe_cols, dtype, engine, converters, true_values, false_values, skipinitialspace, skiprows, skipfooter, nrows, na_values, keep_default_na, na_filter, verbose, skip_blank_lines, parse_dates, infer_datetime_format, keep_date_col, date_parser, dayfirst, cache_dates, iterator, chunksize, compression, thousands, decimal, lineterminator, quotechar, quoting, doublequote, escapechar, comment, encoding, encoding_errors, dialect, error_bad_lines, warn_bad_lines, on_bad_lines, delim_whitespace, low_memory, memory_map, float_precision, storage_options)\u001b[0m\n\u001b[0;32m    584\u001b[0m     \u001b[0mkwds\u001b[0m\u001b[1;33m.\u001b[0m\u001b[0mupdate\u001b[0m\u001b[1;33m(\u001b[0m\u001b[0mkwds_defaults\u001b[0m\u001b[1;33m)\u001b[0m\u001b[1;33m\u001b[0m\u001b[1;33m\u001b[0m\u001b[0m\n\u001b[0;32m    585\u001b[0m \u001b[1;33m\u001b[0m\u001b[0m\n\u001b[1;32m--> 586\u001b[1;33m     \u001b[1;32mreturn\u001b[0m \u001b[0m_read\u001b[0m\u001b[1;33m(\u001b[0m\u001b[0mfilepath_or_buffer\u001b[0m\u001b[1;33m,\u001b[0m \u001b[0mkwds\u001b[0m\u001b[1;33m)\u001b[0m\u001b[1;33m\u001b[0m\u001b[1;33m\u001b[0m\u001b[0m\n\u001b[0m\u001b[0;32m    587\u001b[0m \u001b[1;33m\u001b[0m\u001b[0m\n\u001b[0;32m    588\u001b[0m \u001b[1;33m\u001b[0m\u001b[0m\n",
      "\u001b[1;32mC:\\ProgramData\\Anaconda3\\lib\\site-packages\\pandas\\io\\parsers\\readers.py\u001b[0m in \u001b[0;36m_read\u001b[1;34m(filepath_or_buffer, kwds)\u001b[0m\n\u001b[0;32m    480\u001b[0m \u001b[1;33m\u001b[0m\u001b[0m\n\u001b[0;32m    481\u001b[0m     \u001b[1;31m# Create the parser.\u001b[0m\u001b[1;33m\u001b[0m\u001b[1;33m\u001b[0m\u001b[0m\n\u001b[1;32m--> 482\u001b[1;33m     \u001b[0mparser\u001b[0m \u001b[1;33m=\u001b[0m \u001b[0mTextFileReader\u001b[0m\u001b[1;33m(\u001b[0m\u001b[0mfilepath_or_buffer\u001b[0m\u001b[1;33m,\u001b[0m \u001b[1;33m**\u001b[0m\u001b[0mkwds\u001b[0m\u001b[1;33m)\u001b[0m\u001b[1;33m\u001b[0m\u001b[1;33m\u001b[0m\u001b[0m\n\u001b[0m\u001b[0;32m    483\u001b[0m \u001b[1;33m\u001b[0m\u001b[0m\n\u001b[0;32m    484\u001b[0m     \u001b[1;32mif\u001b[0m \u001b[0mchunksize\u001b[0m \u001b[1;32mor\u001b[0m \u001b[0miterator\u001b[0m\u001b[1;33m:\u001b[0m\u001b[1;33m\u001b[0m\u001b[1;33m\u001b[0m\u001b[0m\n",
      "\u001b[1;32mC:\\ProgramData\\Anaconda3\\lib\\site-packages\\pandas\\io\\parsers\\readers.py\u001b[0m in \u001b[0;36m__init__\u001b[1;34m(self, f, engine, **kwds)\u001b[0m\n\u001b[0;32m    809\u001b[0m             \u001b[0mself\u001b[0m\u001b[1;33m.\u001b[0m\u001b[0moptions\u001b[0m\u001b[1;33m[\u001b[0m\u001b[1;34m\"has_index_names\"\u001b[0m\u001b[1;33m]\u001b[0m \u001b[1;33m=\u001b[0m \u001b[0mkwds\u001b[0m\u001b[1;33m[\u001b[0m\u001b[1;34m\"has_index_names\"\u001b[0m\u001b[1;33m]\u001b[0m\u001b[1;33m\u001b[0m\u001b[1;33m\u001b[0m\u001b[0m\n\u001b[0;32m    810\u001b[0m \u001b[1;33m\u001b[0m\u001b[0m\n\u001b[1;32m--> 811\u001b[1;33m         \u001b[0mself\u001b[0m\u001b[1;33m.\u001b[0m\u001b[0m_engine\u001b[0m \u001b[1;33m=\u001b[0m \u001b[0mself\u001b[0m\u001b[1;33m.\u001b[0m\u001b[0m_make_engine\u001b[0m\u001b[1;33m(\u001b[0m\u001b[0mself\u001b[0m\u001b[1;33m.\u001b[0m\u001b[0mengine\u001b[0m\u001b[1;33m)\u001b[0m\u001b[1;33m\u001b[0m\u001b[1;33m\u001b[0m\u001b[0m\n\u001b[0m\u001b[0;32m    812\u001b[0m \u001b[1;33m\u001b[0m\u001b[0m\n\u001b[0;32m    813\u001b[0m     \u001b[1;32mdef\u001b[0m \u001b[0mclose\u001b[0m\u001b[1;33m(\u001b[0m\u001b[0mself\u001b[0m\u001b[1;33m)\u001b[0m\u001b[1;33m:\u001b[0m\u001b[1;33m\u001b[0m\u001b[1;33m\u001b[0m\u001b[0m\n",
      "\u001b[1;32mC:\\ProgramData\\Anaconda3\\lib\\site-packages\\pandas\\io\\parsers\\readers.py\u001b[0m in \u001b[0;36m_make_engine\u001b[1;34m(self, engine)\u001b[0m\n\u001b[0;32m   1038\u001b[0m             )\n\u001b[0;32m   1039\u001b[0m         \u001b[1;31m# error: Too many arguments for \"ParserBase\"\u001b[0m\u001b[1;33m\u001b[0m\u001b[1;33m\u001b[0m\u001b[0m\n\u001b[1;32m-> 1040\u001b[1;33m         \u001b[1;32mreturn\u001b[0m \u001b[0mmapping\u001b[0m\u001b[1;33m[\u001b[0m\u001b[0mengine\u001b[0m\u001b[1;33m]\u001b[0m\u001b[1;33m(\u001b[0m\u001b[0mself\u001b[0m\u001b[1;33m.\u001b[0m\u001b[0mf\u001b[0m\u001b[1;33m,\u001b[0m \u001b[1;33m**\u001b[0m\u001b[0mself\u001b[0m\u001b[1;33m.\u001b[0m\u001b[0moptions\u001b[0m\u001b[1;33m)\u001b[0m  \u001b[1;31m# type: ignore[call-arg]\u001b[0m\u001b[1;33m\u001b[0m\u001b[1;33m\u001b[0m\u001b[0m\n\u001b[0m\u001b[0;32m   1041\u001b[0m \u001b[1;33m\u001b[0m\u001b[0m\n\u001b[0;32m   1042\u001b[0m     \u001b[1;32mdef\u001b[0m \u001b[0m_failover_to_python\u001b[0m\u001b[1;33m(\u001b[0m\u001b[0mself\u001b[0m\u001b[1;33m)\u001b[0m\u001b[1;33m:\u001b[0m\u001b[1;33m\u001b[0m\u001b[1;33m\u001b[0m\u001b[0m\n",
      "\u001b[1;32mC:\\ProgramData\\Anaconda3\\lib\\site-packages\\pandas\\io\\parsers\\c_parser_wrapper.py\u001b[0m in \u001b[0;36m__init__\u001b[1;34m(self, src, **kwds)\u001b[0m\n\u001b[0;32m     49\u001b[0m \u001b[1;33m\u001b[0m\u001b[0m\n\u001b[0;32m     50\u001b[0m         \u001b[1;31m# open handles\u001b[0m\u001b[1;33m\u001b[0m\u001b[1;33m\u001b[0m\u001b[0m\n\u001b[1;32m---> 51\u001b[1;33m         \u001b[0mself\u001b[0m\u001b[1;33m.\u001b[0m\u001b[0m_open_handles\u001b[0m\u001b[1;33m(\u001b[0m\u001b[0msrc\u001b[0m\u001b[1;33m,\u001b[0m \u001b[0mkwds\u001b[0m\u001b[1;33m)\u001b[0m\u001b[1;33m\u001b[0m\u001b[1;33m\u001b[0m\u001b[0m\n\u001b[0m\u001b[0;32m     52\u001b[0m         \u001b[1;32massert\u001b[0m \u001b[0mself\u001b[0m\u001b[1;33m.\u001b[0m\u001b[0mhandles\u001b[0m \u001b[1;32mis\u001b[0m \u001b[1;32mnot\u001b[0m \u001b[1;32mNone\u001b[0m\u001b[1;33m\u001b[0m\u001b[1;33m\u001b[0m\u001b[0m\n\u001b[0;32m     53\u001b[0m \u001b[1;33m\u001b[0m\u001b[0m\n",
      "\u001b[1;32mC:\\ProgramData\\Anaconda3\\lib\\site-packages\\pandas\\io\\parsers\\base_parser.py\u001b[0m in \u001b[0;36m_open_handles\u001b[1;34m(self, src, kwds)\u001b[0m\n\u001b[0;32m    220\u001b[0m         \u001b[0mLet\u001b[0m \u001b[0mthe\u001b[0m \u001b[0mreaders\u001b[0m \u001b[0mopen\u001b[0m \u001b[0mIOHandles\u001b[0m \u001b[0mafter\u001b[0m \u001b[0mthey\u001b[0m \u001b[0mare\u001b[0m \u001b[0mdone\u001b[0m \u001b[1;32mwith\u001b[0m \u001b[0mtheir\u001b[0m \u001b[0mpotential\u001b[0m \u001b[0mraises\u001b[0m\u001b[1;33m.\u001b[0m\u001b[1;33m\u001b[0m\u001b[1;33m\u001b[0m\u001b[0m\n\u001b[0;32m    221\u001b[0m         \"\"\"\n\u001b[1;32m--> 222\u001b[1;33m         self.handles = get_handle(\n\u001b[0m\u001b[0;32m    223\u001b[0m             \u001b[0msrc\u001b[0m\u001b[1;33m,\u001b[0m\u001b[1;33m\u001b[0m\u001b[1;33m\u001b[0m\u001b[0m\n\u001b[0;32m    224\u001b[0m             \u001b[1;34m\"r\"\u001b[0m\u001b[1;33m,\u001b[0m\u001b[1;33m\u001b[0m\u001b[1;33m\u001b[0m\u001b[0m\n",
      "\u001b[1;32mC:\\ProgramData\\Anaconda3\\lib\\site-packages\\pandas\\io\\common.py\u001b[0m in \u001b[0;36mget_handle\u001b[1;34m(path_or_buf, mode, encoding, compression, memory_map, is_text, errors, storage_options)\u001b[0m\n\u001b[0;32m    700\u001b[0m         \u001b[1;32mif\u001b[0m \u001b[0mioargs\u001b[0m\u001b[1;33m.\u001b[0m\u001b[0mencoding\u001b[0m \u001b[1;32mand\u001b[0m \u001b[1;34m\"b\"\u001b[0m \u001b[1;32mnot\u001b[0m \u001b[1;32min\u001b[0m \u001b[0mioargs\u001b[0m\u001b[1;33m.\u001b[0m\u001b[0mmode\u001b[0m\u001b[1;33m:\u001b[0m\u001b[1;33m\u001b[0m\u001b[1;33m\u001b[0m\u001b[0m\n\u001b[0;32m    701\u001b[0m             \u001b[1;31m# Encoding\u001b[0m\u001b[1;33m\u001b[0m\u001b[1;33m\u001b[0m\u001b[0m\n\u001b[1;32m--> 702\u001b[1;33m             handle = open(\n\u001b[0m\u001b[0;32m    703\u001b[0m                 \u001b[0mhandle\u001b[0m\u001b[1;33m,\u001b[0m\u001b[1;33m\u001b[0m\u001b[1;33m\u001b[0m\u001b[0m\n\u001b[0;32m    704\u001b[0m                 \u001b[0mioargs\u001b[0m\u001b[1;33m.\u001b[0m\u001b[0mmode\u001b[0m\u001b[1;33m,\u001b[0m\u001b[1;33m\u001b[0m\u001b[1;33m\u001b[0m\u001b[0m\n",
      "\u001b[1;31mFileNotFoundError\u001b[0m: [Errno 2] No such file or directory: 'customers_sample.csv'"
     ]
    }
   ],
   "source": [
    "cust = pd.read_csv('customers_sample.csv',sep=';',low_memory=False)\n",
    "trans = pd.read_csv('transactional_data.csv')\n",
    "codes = pd.read_excel('merchant codes list.xls')"
   ]
  },
  {
   "cell_type": "code",
   "execution_count": null,
   "id": "455195f5",
   "metadata": {},
   "outputs": [],
   "source": [
    "cust.head()"
   ]
  },
  {
   "cell_type": "code",
   "execution_count": null,
   "id": "fa5034aa",
   "metadata": {},
   "outputs": [],
   "source": [
    "trans.head()"
   ]
  },
  {
   "cell_type": "code",
   "execution_count": null,
   "id": "6694f600",
   "metadata": {},
   "outputs": [],
   "source": [
    "codes.head()"
   ]
  },
  {
   "cell_type": "code",
   "execution_count": null,
   "id": "082c930f",
   "metadata": {},
   "outputs": [],
   "source": [
    "cust.isna().sum()"
   ]
  },
  {
   "cell_type": "code",
   "execution_count": null,
   "id": "9a4089c1",
   "metadata": {},
   "outputs": [],
   "source": [
    "cust.shape"
   ]
  },
  {
   "cell_type": "code",
   "execution_count": null,
   "id": "6d2c73fd",
   "metadata": {},
   "outputs": [],
   "source": [
    "trans.isna().sum()"
   ]
  },
  {
   "cell_type": "code",
   "execution_count": null,
   "id": "27543aec",
   "metadata": {},
   "outputs": [],
   "source": [
    "codes.isna().sum()"
   ]
  },
  {
   "cell_type": "code",
   "execution_count": null,
   "id": "7960f678",
   "metadata": {},
   "outputs": [],
   "source": [
    "codes.shape"
   ]
  },
  {
   "cell_type": "code",
   "execution_count": null,
   "id": "b649c0f8",
   "metadata": {},
   "outputs": [],
   "source": [
    "codes = codes.rename(columns={'STANDARD MERCHANT CATEGORY CODES\\n**Please do not sort this spreadsheet**':'mcc_id',\n",
    "                             'Unnamed: 1':'program_type'})"
   ]
  },
  {
   "cell_type": "code",
   "execution_count": null,
   "id": "637eadcd",
   "metadata": {},
   "outputs": [],
   "source": [
    "codes = codes.iloc[1:,:]"
   ]
  },
  {
   "cell_type": "code",
   "execution_count": null,
   "id": "787e0e78",
   "metadata": {},
   "outputs": [],
   "source": [
    "codes = codes.iloc[:,0:2]"
   ]
  },
  {
   "cell_type": "code",
   "execution_count": null,
   "id": "046df5b1",
   "metadata": {},
   "outputs": [],
   "source": [
    "codes = codes.reset_index(drop=True)"
   ]
  },
  {
   "cell_type": "code",
   "execution_count": null,
   "id": "727ae108",
   "metadata": {},
   "outputs": [],
   "source": [
    "codes.head()"
   ]
  },
  {
   "cell_type": "code",
   "execution_count": null,
   "id": "7726e89b",
   "metadata": {},
   "outputs": [],
   "source": [
    "trans.head()    "
   ]
  },
  {
   "cell_type": "code",
   "execution_count": null,
   "id": "95d84705",
   "metadata": {},
   "outputs": [],
   "source": [
    "data = pd.merge(trans,codes,on='mcc_id',how='left')"
   ]
  },
  {
   "cell_type": "code",
   "execution_count": null,
   "id": "49a84704",
   "metadata": {},
   "outputs": [],
   "source": [
    "data.head()"
   ]
  },
  {
   "cell_type": "code",
   "execution_count": null,
   "id": "32b39628",
   "metadata": {},
   "outputs": [],
   "source": [
    "data.isna().sum()"
   ]
  },
  {
   "cell_type": "code",
   "execution_count": null,
   "id": "5697a69d",
   "metadata": {},
   "outputs": [],
   "source": [
    "cust = cust.dropna()"
   ]
  },
  {
   "cell_type": "code",
   "execution_count": null,
   "id": "b419e29b",
   "metadata": {},
   "outputs": [],
   "source": [
    "cust.shape"
   ]
  },
  {
   "cell_type": "code",
   "execution_count": null,
   "id": "a0fd9a31",
   "metadata": {},
   "outputs": [],
   "source": [
    "sns.countplot(x=cust['has_mob_app'])"
   ]
  },
  {
   "cell_type": "code",
   "execution_count": null,
   "id": "d8633d53",
   "metadata": {},
   "outputs": [],
   "source": [
    "sns.countplot(x=cust['phone_number'])"
   ]
  },
  {
   "cell_type": "code",
   "execution_count": null,
   "id": "d420db10",
   "metadata": {},
   "outputs": [],
   "source": [
    "sns.countplot(x=cust.country)"
   ]
  },
  {
   "cell_type": "code",
   "execution_count": null,
   "id": "1f603734",
   "metadata": {},
   "outputs": [],
   "source": [
    "trans_per_program = data.groupby('program_type')['transaction_amt'].sum()"
   ]
  },
  {
   "cell_type": "code",
   "execution_count": null,
   "id": "795856c0",
   "metadata": {},
   "outputs": [],
   "source": [
    "trans_per_program.head()"
   ]
  },
  {
   "cell_type": "code",
   "execution_count": null,
   "id": "e9e5c657",
   "metadata": {},
   "outputs": [],
   "source": [
    "cust.isna().sum()"
   ]
  },
  {
   "cell_type": "code",
   "execution_count": null,
   "id": "974e88e4",
   "metadata": {},
   "outputs": [],
   "source": [
    "data2 = pd.merge(data,cust,on='uid1',how='left')"
   ]
  },
  {
   "cell_type": "code",
   "execution_count": null,
   "id": "20e22ca4",
   "metadata": {},
   "outputs": [],
   "source": [
    "data2.head(50)"
   ]
  },
  {
   "cell_type": "code",
   "execution_count": null,
   "id": "bd2742f6",
   "metadata": {},
   "outputs": [],
   "source": [
    "sns.heatmap(data.corr(method='pearson'),annot=True)"
   ]
  },
  {
   "cell_type": "code",
   "execution_count": null,
   "id": "294ba99e",
   "metadata": {},
   "outputs": [],
   "source": [
    "\n",
    "from sklearn.cluster import KMeans\n",
    "\n",
    "\n",
    "import plotly.graph_objects as go"
   ]
  },
  {
   "cell_type": "code",
   "execution_count": null,
   "id": "6feae415",
   "metadata": {},
   "outputs": [],
   "source": [
    "from sklearn.preprocessing import LabelEncoder"
   ]
  },
  {
   "cell_type": "code",
   "execution_count": null,
   "id": "b2c9db38",
   "metadata": {},
   "outputs": [],
   "source": [
    "le = LabelEncoder()"
   ]
  },
  {
   "cell_type": "code",
   "execution_count": null,
   "id": "8cf6c7f7",
   "metadata": {},
   "outputs": [],
   "source": [
    "data2['program_type'] = le.fit_transform(data2['program_type'])"
   ]
  },
  {
   "cell_type": "code",
   "execution_count": null,
   "id": "33f7047d",
   "metadata": {},
   "outputs": [],
   "source": [
    "data2['city_of_living'] = le.fit_transform(data2['city_of_living'])"
   ]
  },
  {
   "cell_type": "code",
   "execution_count": null,
   "id": "6cfc9e9b",
   "metadata": {},
   "outputs": [],
   "source": [
    "data2.isna().sum()"
   ]
  },
  {
   "cell_type": "code",
   "execution_count": null,
   "id": "bfb05c84",
   "metadata": {},
   "outputs": [],
   "source": [
    "data2.shape"
   ]
  },
  {
   "cell_type": "code",
   "execution_count": null,
   "id": "b99df295",
   "metadata": {},
   "outputs": [],
   "source": [
    "data2 = data2.dropna()"
   ]
  },
  {
   "cell_type": "code",
   "execution_count": null,
   "id": "2fff873a",
   "metadata": {},
   "outputs": [],
   "source": [
    "X = data2[['transaction_amt','customer_age','city_of_living','has_mob_app']]"
   ]
  },
  {
   "cell_type": "code",
   "execution_count": null,
   "id": "80b7225a",
   "metadata": {},
   "outputs": [],
   "source": [
    "# Implemeting Elbow Method to Determine Optimal Clusters\n",
    "\n",
    "Sum_of_squared_distances = []\n",
    "clus_range = range(1,12)\n",
    "for k in clus_range:\n",
    "    km = KMeans(n_clusters=k)\n",
    "    km = km.fit(X)\n",
    "    Sum_of_squared_distances.append(km.inertia_)\n",
    "plt.plot(clus_range, Sum_of_squared_distances)\n",
    "plt.xlabel('k')\n",
    "plt.ylabel('Sum_of_squared_distances')\n",
    "plt.title('Elbow Method For Optimal k') #Showing 3 as optimal Clusters"
   ]
  },
  {
   "cell_type": "code",
   "execution_count": null,
   "id": "3916d520",
   "metadata": {},
   "outputs": [],
   "source": [
    "\n",
    "kmean = KMeans(n_clusters =2,init='k-means++',random_state=2,algorithm='full')\n",
    "\n",
    "kmean.fit(X)\n",
    "\n",
    "clus=  kmean.predict(X)"
   ]
  },
  {
   "cell_type": "code",
   "execution_count": null,
   "id": "654ef6c5",
   "metadata": {},
   "outputs": [],
   "source": [
    "#Showing Centroids\n",
    "\n",
    "cent = kmean.cluster_centers_\n",
    "\n",
    "\n",
    "print(cent)"
   ]
  },
  {
   "cell_type": "code",
   "execution_count": null,
   "id": "1f61924d",
   "metadata": {},
   "outputs": [],
   "source": [
    "sns.countplot(x=clus)"
   ]
  },
  {
   "cell_type": "code",
   "execution_count": null,
   "id": "09e353d6",
   "metadata": {},
   "outputs": [],
   "source": [
    "data2.columns"
   ]
  },
  {
   "cell_type": "code",
   "execution_count": null,
   "id": "b239a458",
   "metadata": {},
   "outputs": [],
   "source": [
    "data['transaction_amt'].hist()"
   ]
  },
  {
   "cell_type": "code",
   "execution_count": null,
   "id": "4dc4c6fa",
   "metadata": {},
   "outputs": [],
   "source": [
    "data['transaction_qty'].hist()"
   ]
  },
  {
   "cell_type": "code",
   "execution_count": null,
   "id": "bbefb5be",
   "metadata": {},
   "outputs": [],
   "source": [
    "data2['customer_age'].hist()"
   ]
  },
  {
   "cell_type": "code",
   "execution_count": null,
   "id": "9856abd5",
   "metadata": {},
   "outputs": [],
   "source": [
    "data2['city_of_living'] = le.inverse_transform(data2['city_of_living'])"
   ]
  },
  {
   "cell_type": "code",
   "execution_count": null,
   "id": "773e62b2",
   "metadata": {},
   "outputs": [],
   "source": [
    "moscow = data2.loc[data2['city_of_living']=='Moscow']"
   ]
  },
  {
   "cell_type": "code",
   "execution_count": null,
   "id": "7e8136b3",
   "metadata": {},
   "outputs": [],
   "source": [
    "moscow"
   ]
  },
  {
   "cell_type": "code",
   "execution_count": null,
   "id": "eb38e121",
   "metadata": {},
   "outputs": [],
   "source": [
    "len(data2['city_of_living'].unique())"
   ]
  },
  {
   "cell_type": "code",
   "execution_count": null,
   "id": "2c59e667",
   "metadata": {},
   "outputs": [],
   "source": [
    "unique_city = data2['city_of_living'].unique()"
   ]
  },
  {
   "cell_type": "code",
   "execution_count": null,
   "id": "3cc40fa5",
   "metadata": {},
   "outputs": [],
   "source": [
    "unique_city"
   ]
  },
  {
   "cell_type": "code",
   "execution_count": null,
   "id": "2cf15ebc",
   "metadata": {},
   "outputs": [],
   "source": [
    "saint_petersburg = data2.loc[data2['city_of_living']=='Saint-Petersburg']"
   ]
  },
  {
   "cell_type": "code",
   "execution_count": null,
   "id": "fc118de7",
   "metadata": {},
   "outputs": [],
   "source": [
    "perm = data2.loc[data2['city_of_living']=='Perm']"
   ]
  },
  {
   "cell_type": "code",
   "execution_count": null,
   "id": "2714dae9",
   "metadata": {},
   "outputs": [],
   "source": [
    "moscow['transaction_amt'].sum()"
   ]
  },
  {
   "cell_type": "code",
   "execution_count": null,
   "id": "3f99b0bd",
   "metadata": {},
   "outputs": [],
   "source": [
    "moscow['transaction_amt'].mean()"
   ]
  },
  {
   "cell_type": "code",
   "execution_count": null,
   "id": "a1304d1e",
   "metadata": {},
   "outputs": [],
   "source": [
    "saint_petersburg['transaction_amt'].sum()"
   ]
  },
  {
   "cell_type": "code",
   "execution_count": null,
   "id": "ad3dda4a",
   "metadata": {},
   "outputs": [],
   "source": [
    "saint_petersburg['transaction_amt'].mean()"
   ]
  },
  {
   "cell_type": "code",
   "execution_count": null,
   "id": "2b331060",
   "metadata": {},
   "outputs": [],
   "source": [
    "np.var(moscow['transaction_amt'])"
   ]
  },
  {
   "cell_type": "code",
   "execution_count": null,
   "id": "39d90be5",
   "metadata": {},
   "outputs": [],
   "source": [
    "np.var(saint_petersburg['transaction_amt'])"
   ]
  },
  {
   "cell_type": "markdown",
   "id": "760a5008",
   "metadata": {},
   "source": [
    "## First Hypothesis Mean amount of transaction in Moscow is Higher than Saint Petersburg"
   ]
  },
  {
   "cell_type": "code",
   "execution_count": null,
   "id": "1c49b12b",
   "metadata": {},
   "outputs": [],
   "source": [
    "from scipy import stats as st\n",
    "alpha = 0.05\n",
    "result = st.ttest_ind(moscow['transaction_amt'],saint_petersburg['transaction_amt'],equal_var=False)\n",
    "print(\"P Value:\",result.pvalue)\n",
    "if (result.pvalue < alpha):\n",
    "    print(\"We reject the null hypothesis\")\n",
    "else:\n",
    "    print(\"We cannot reject null hypothesis\")\n"
   ]
  },
  {
   "cell_type": "code",
   "execution_count": null,
   "id": "63e1b041",
   "metadata": {},
   "outputs": [],
   "source": [
    "data2['customer_age'].hist(bins=10)"
   ]
  },
  {
   "cell_type": "code",
   "execution_count": null,
   "id": "5e55afa4",
   "metadata": {},
   "outputs": [],
   "source": [
    "cust_30 = data2.loc[data2['customer_age']<=30]\n",
    "cust50 = data2.loc[(data2['customer_age']>30) & (data2['customer_age']<=50)]"
   ]
  },
  {
   "cell_type": "markdown",
   "id": "5a31a881",
   "metadata": {},
   "source": [
    "## Mean transaction amount of customers less than age 30 is less than mean transaction amount of customers between 30 to 50 age"
   ]
  },
  {
   "cell_type": "code",
   "execution_count": null,
   "id": "12497809",
   "metadata": {},
   "outputs": [],
   "source": [
    "cust_30['transaction_amt'].mean()"
   ]
  },
  {
   "cell_type": "code",
   "execution_count": null,
   "id": "4bd1fbb8",
   "metadata": {},
   "outputs": [],
   "source": [
    "cust50['transaction_amt'].mean()"
   ]
  },
  {
   "cell_type": "code",
   "execution_count": null,
   "id": "34689338",
   "metadata": {},
   "outputs": [],
   "source": [
    "np.var(cust_30['transaction_amt'])"
   ]
  },
  {
   "cell_type": "code",
   "execution_count": null,
   "id": "12f6d7c8",
   "metadata": {},
   "outputs": [],
   "source": [
    "np.var(cust50['transaction_amt'])"
   ]
  },
  {
   "cell_type": "code",
   "execution_count": null,
   "id": "6e4b01b4",
   "metadata": {},
   "outputs": [],
   "source": [
    "from scipy import stats as st\n",
    "alpha = 0.05\n",
    "result = st.ttest_ind(cust_30['transaction_amt'],cust50['transaction_amt'],equal_var=False)\n",
    "print(\"P Value:\",result.pvalue)\n",
    "if (result.pvalue < alpha):\n",
    "    print(\"We reject the null hypothesis\")\n",
    "else:\n",
    "    print(\"We cannot reject null hypothesis\")"
   ]
  },
  {
   "cell_type": "markdown",
   "id": "8432c634",
   "metadata": {},
   "source": [
    "## mean transaction amount of customers who have mobile app is higher than mean transaction amount without mobile app"
   ]
  },
  {
   "cell_type": "code",
   "execution_count": null,
   "id": "0227d4eb",
   "metadata": {},
   "outputs": [],
   "source": [
    "cust_app = data2.loc[data2['has_mob_app']==1.0]\n",
    "cust_no_app = data2.loc[data2['has_mob_app']==0.0]"
   ]
  },
  {
   "cell_type": "code",
   "execution_count": null,
   "id": "016dd5d7",
   "metadata": {},
   "outputs": [],
   "source": [
    "cust_app['transaction_amt'].mean()"
   ]
  },
  {
   "cell_type": "code",
   "execution_count": null,
   "id": "8ba804fc",
   "metadata": {},
   "outputs": [],
   "source": [
    "cust_no_app['transaction_amt'].mean()"
   ]
  },
  {
   "cell_type": "code",
   "execution_count": null,
   "id": "5f2eecbc",
   "metadata": {},
   "outputs": [],
   "source": [
    "np.var(cust_app['transaction_amt'])"
   ]
  },
  {
   "cell_type": "code",
   "execution_count": null,
   "id": "d6c5a0dc",
   "metadata": {},
   "outputs": [],
   "source": [
    "np.var(cust_no_app['transaction_amt'])"
   ]
  },
  {
   "cell_type": "code",
   "execution_count": null,
   "id": "77fc6cbd",
   "metadata": {},
   "outputs": [],
   "source": [
    "from scipy import stats as st\n",
    "alpha = 0.05\n",
    "result = st.ttest_ind(cust_app['transaction_amt'],cust_no_app['transaction_amt'],equal_var=False)\n",
    "print(\"P Value:\",result.pvalue)\n",
    "if (result.pvalue < alpha):\n",
    "    print(\"We reject the null hypothesis\")\n",
    "else:\n",
    "    print(\"We cannot reject null hypothesis\")"
   ]
  },
  {
   "cell_type": "code",
   "execution_count": null,
   "id": "bbebcf3e",
   "metadata": {},
   "outputs": [],
   "source": [
    "data2['city_of_living'] = le.fit_transform(data2['city_of_living'])"
   ]
  },
  {
   "cell_type": "code",
   "execution_count": null,
   "id": "11ddc9a7",
   "metadata": {},
   "outputs": [],
   "source": [
    "data2.columns"
   ]
  },
  {
   "cell_type": "code",
   "execution_count": null,
   "id": "71143511",
   "metadata": {},
   "outputs": [],
   "source": [
    "X = data2[['transaction_amt','transaction_qty','program_type','customer_age','city_of_living','has_mob_app',\n",
    "           'phone_number','push']]"
   ]
  },
  {
   "cell_type": "code",
   "execution_count": null,
   "id": "d585fbf7",
   "metadata": {},
   "outputs": [],
   "source": [
    "len(X)"
   ]
  },
  {
   "cell_type": "code",
   "execution_count": null,
   "id": "d1b0bc8f",
   "metadata": {},
   "outputs": [],
   "source": [
    "from sklearn.model_selection import train_test_split"
   ]
  },
  {
   "cell_type": "code",
   "execution_count": null,
   "id": "4be79247",
   "metadata": {},
   "outputs": [],
   "source": [
    "xtrain, xtrain = train_test_split(X,test_size=0.5,shuffle=True) ##Low computational Resources. "
   ]
  },
  {
   "cell_type": "code",
   "execution_count": null,
   "id": "64f0148e",
   "metadata": {},
   "outputs": [],
   "source": [
    "#import scipy.cluster.hierarchy as sch\n",
    "\n",
    "# graph size\n",
    "#plt.figure(1, figsize = (16 ,8))\n",
    "\n",
    "# creating the dendrogram\n",
    "#dendrogram = sch.dendrogram(sch.linkage(xtrain, method  = \"ward\"))\n",
    "\n",
    "# ploting graphabs\n",
    "#plt.title('Dendrogram')\n",
    "#plt.xlabel('Customers')\n",
    "#plt.ylabel('Euclidean distances')\n",
    "#plt.show()"
   ]
  },
  {
   "cell_type": "code",
   "execution_count": null,
   "id": "4c3d7c42",
   "metadata": {},
   "outputs": [],
   "source": [
    "# ---from sklearn.cluster import AgglomerativeClustering\n",
    "#from yellowbrick.cluster import KElbowVisualizer\n",
    "#model = AgglomerativeClustering()\n",
    "\n",
    "# k is range of number of clusters.\n",
    "#visualizer = KElbowVisualizer(model, k=(2,30), timings=False)\n",
    "# Fit data to visualizer\n",
    "#visualizer.fit(X)\n",
    "# Finalize and render figure\n",
    "#visualizer.show()---#"
   ]
  },
  {
   "cell_type": "markdown",
   "id": "8ad3a548",
   "metadata": {},
   "source": [
    "### Kernel was crashing to perform Agglomerative clustering due to less computational power. We need GPU machine and it was also not possible in Google COlab. However if we split datasets into multiple parts then it can work. It is for our future play with the data."
   ]
  },
  {
   "cell_type": "code",
   "execution_count": null,
   "id": "5faa3f85",
   "metadata": {},
   "outputs": [],
   "source": []
  }
 ],
 "metadata": {
  "kernelspec": {
   "display_name": "Python 3 (ipykernel)",
   "language": "python",
   "name": "python3"
  },
  "language_info": {
   "codemirror_mode": {
    "name": "ipython",
    "version": 3
   },
   "file_extension": ".py",
   "mimetype": "text/x-python",
   "name": "python",
   "nbconvert_exporter": "python",
   "pygments_lexer": "ipython3",
   "version": "3.9.7"
  }
 },
 "nbformat": 4,
 "nbformat_minor": 5
}
