{
  "metadata": {
    "kernelspec": {
      "name": "python",
      "display_name": "Python (Pyodide)",
      "language": "python"
    },
    "language_info": {
      "codemirror_mode": {
        "name": "python",
        "version": 3
      },
      "file_extension": ".py",
      "mimetype": "text/x-python",
      "name": "python",
      "nbconvert_exporter": "python",
      "pygments_lexer": "ipython3",
      "version": "3.8"
    }
  },
  "nbformat_minor": 5,
  "nbformat": 4,
  "cells": [
    {
      "cell_type": "code",
      "source": "import piplite\nawait piplite.install('seaborn')\nawait piplite.install('xlrd')\nimport pandas as pd\nimport numpy as np\nimport matplotlib.pyplot as plt\nimport seaborn as sns\n",
      "metadata": {
        "trusted": true
      },
      "execution_count": 11,
      "outputs": [],
      "id": "94e399de"
    },
    {
      "cell_type": "code",
      "source": "#ls",
      "metadata": {
        "trusted": true
      },
      "execution_count": 12,
      "outputs": [],
      "id": "73ffe24c"
    },
    {
      "cell_type": "code",
      "source": "cust = pd.read_csv('customers_sample.csv',sep=',',low_memory=False)\nheader_trans = [\"uid1\",\"date_pur\",\"mcc_id\",\"transaction_amt\",\"transaction_qty\"]\ntrans = pd.read_csv('transactional_data.csv', names=header_trans)\ncodes = pd.read_excel('merchant codes list.xls')",
      "metadata": {
        "trusted": true
      },
      "execution_count": 134,
      "outputs": [],
      "id": "504acc26"
    },
    {
      "cell_type": "code",
      "source": "cust.head()",
      "metadata": {
        "trusted": true
      },
      "execution_count": 135,
      "outputs": [
        {
          "execution_count": 135,
          "output_type": "execute_result",
          "data": {
            "text/plain": "    uid1  customer_age country city_of_living registration_dt  \\\n0   8388          46.0  RUSSIA          Kazan        18/02/17   \n1  17264          20.0  RUSSIA     Sevastopol        21/07/20   \n2  17373          31.0  RUSSIA          Kazan        26/02/16   \n3  26297          27.0  RUSSIA     Sevastopol        25/01/18   \n4  27044          41.0  RUSSIA     Sevastopol        17/07/15   \n\n  website_last_visit_date  email  has_mob_app  phone_number  push  \n0                01/05/19      0            0             1     0  \n1                03/10/21      0            0             1     0  \n2                24/12/18      0            1             1     0  \n3                16/04/18      0            1             1     1  \n4                30/07/16      0            0             0     0  ",
            "text/html": "<div>\n<style scoped>\n    .dataframe tbody tr th:only-of-type {\n        vertical-align: middle;\n    }\n\n    .dataframe tbody tr th {\n        vertical-align: top;\n    }\n\n    .dataframe thead th {\n        text-align: right;\n    }\n</style>\n<table border=\"1\" class=\"dataframe\">\n  <thead>\n    <tr style=\"text-align: right;\">\n      <th></th>\n      <th>uid1</th>\n      <th>customer_age</th>\n      <th>country</th>\n      <th>city_of_living</th>\n      <th>registration_dt</th>\n      <th>website_last_visit_date</th>\n      <th>email</th>\n      <th>has_mob_app</th>\n      <th>phone_number</th>\n      <th>push</th>\n    </tr>\n  </thead>\n  <tbody>\n    <tr>\n      <th>0</th>\n      <td>8388</td>\n      <td>46.0</td>\n      <td>RUSSIA</td>\n      <td>Kazan</td>\n      <td>18/02/17</td>\n      <td>01/05/19</td>\n      <td>0</td>\n      <td>0</td>\n      <td>1</td>\n      <td>0</td>\n    </tr>\n    <tr>\n      <th>1</th>\n      <td>17264</td>\n      <td>20.0</td>\n      <td>RUSSIA</td>\n      <td>Sevastopol</td>\n      <td>21/07/20</td>\n      <td>03/10/21</td>\n      <td>0</td>\n      <td>0</td>\n      <td>1</td>\n      <td>0</td>\n    </tr>\n    <tr>\n      <th>2</th>\n      <td>17373</td>\n      <td>31.0</td>\n      <td>RUSSIA</td>\n      <td>Kazan</td>\n      <td>26/02/16</td>\n      <td>24/12/18</td>\n      <td>0</td>\n      <td>1</td>\n      <td>1</td>\n      <td>0</td>\n    </tr>\n    <tr>\n      <th>3</th>\n      <td>26297</td>\n      <td>27.0</td>\n      <td>RUSSIA</td>\n      <td>Sevastopol</td>\n      <td>25/01/18</td>\n      <td>16/04/18</td>\n      <td>0</td>\n      <td>1</td>\n      <td>1</td>\n      <td>1</td>\n    </tr>\n    <tr>\n      <th>4</th>\n      <td>27044</td>\n      <td>41.0</td>\n      <td>RUSSIA</td>\n      <td>Sevastopol</td>\n      <td>17/07/15</td>\n      <td>30/07/16</td>\n      <td>0</td>\n      <td>0</td>\n      <td>0</td>\n      <td>0</td>\n    </tr>\n  </tbody>\n</table>\n</div>"
          },
          "metadata": {}
        }
      ],
      "id": "455195f5"
    },
    {
      "cell_type": "code",
      "source": "trans.head()",
      "metadata": {
        "trusted": true
      },
      "execution_count": 136,
      "outputs": [
        {
          "execution_count": 136,
          "output_type": "execute_result",
          "data": {
            "text/plain": "       uid1    date_pur  mcc_id  transaction_amt  transaction_qty\n0         1         NaN     NaN              NaN              NaN\n1  18754051    17/06/20  5533.0           1200.0              1.0\n2  47705198    2/4/2021  4111.0             72.0              0.0\n3  33466679    1/4/2021  5814.0            240.0              2.0\n4  41444652  10/11/2020  4131.0             60.0              2.0",
            "text/html": "<div>\n<style scoped>\n    .dataframe tbody tr th:only-of-type {\n        vertical-align: middle;\n    }\n\n    .dataframe tbody tr th {\n        vertical-align: top;\n    }\n\n    .dataframe thead th {\n        text-align: right;\n    }\n</style>\n<table border=\"1\" class=\"dataframe\">\n  <thead>\n    <tr style=\"text-align: right;\">\n      <th></th>\n      <th>uid1</th>\n      <th>date_pur</th>\n      <th>mcc_id</th>\n      <th>transaction_amt</th>\n      <th>transaction_qty</th>\n    </tr>\n  </thead>\n  <tbody>\n    <tr>\n      <th>0</th>\n      <td>1</td>\n      <td>NaN</td>\n      <td>NaN</td>\n      <td>NaN</td>\n      <td>NaN</td>\n    </tr>\n    <tr>\n      <th>1</th>\n      <td>18754051</td>\n      <td>17/06/20</td>\n      <td>5533.0</td>\n      <td>1200.0</td>\n      <td>1.0</td>\n    </tr>\n    <tr>\n      <th>2</th>\n      <td>47705198</td>\n      <td>2/4/2021</td>\n      <td>4111.0</td>\n      <td>72.0</td>\n      <td>0.0</td>\n    </tr>\n    <tr>\n      <th>3</th>\n      <td>33466679</td>\n      <td>1/4/2021</td>\n      <td>5814.0</td>\n      <td>240.0</td>\n      <td>2.0</td>\n    </tr>\n    <tr>\n      <th>4</th>\n      <td>41444652</td>\n      <td>10/11/2020</td>\n      <td>4131.0</td>\n      <td>60.0</td>\n      <td>2.0</td>\n    </tr>\n  </tbody>\n</table>\n</div>"
          },
          "metadata": {}
        }
      ],
      "id": "fa5034aa"
    },
    {
      "cell_type": "code",
      "source": "codes.head()",
      "metadata": {
        "trusted": true
      },
      "execution_count": 137,
      "outputs": [
        {
          "execution_count": 137,
          "output_type": "execute_result",
          "data": {
            "text/plain": "  STANDARD MERCHANT CATEGORY CODES\\n**Please do not sort this spreadsheet**  \\\n0                                           MCC CODE                          \n1                                               0742                          \n2                                               0763                          \n3                                               0780                          \n4                                               1520                          \n\n                                Unnamed: 1 Unnamed: 2  \n0                            Program Type:        NaN  \n1                      Veterinary Services        NaN  \n2                Agricultural Cooperatives        NaN  \n3   Landscaping and Horticultural Services        NaN  \n4  General Contractor/Residential Building        NaN  ",
            "text/html": "<div>\n<style scoped>\n    .dataframe tbody tr th:only-of-type {\n        vertical-align: middle;\n    }\n\n    .dataframe tbody tr th {\n        vertical-align: top;\n    }\n\n    .dataframe thead th {\n        text-align: right;\n    }\n</style>\n<table border=\"1\" class=\"dataframe\">\n  <thead>\n    <tr style=\"text-align: right;\">\n      <th></th>\n      <th>STANDARD MERCHANT CATEGORY CODES\\n**Please do not sort this spreadsheet**</th>\n      <th>Unnamed: 1</th>\n      <th>Unnamed: 2</th>\n    </tr>\n  </thead>\n  <tbody>\n    <tr>\n      <th>0</th>\n      <td>MCC CODE</td>\n      <td>Program Type:</td>\n      <td>NaN</td>\n    </tr>\n    <tr>\n      <th>1</th>\n      <td>0742</td>\n      <td>Veterinary Services</td>\n      <td>NaN</td>\n    </tr>\n    <tr>\n      <th>2</th>\n      <td>0763</td>\n      <td>Agricultural Cooperatives</td>\n      <td>NaN</td>\n    </tr>\n    <tr>\n      <th>3</th>\n      <td>0780</td>\n      <td>Landscaping and Horticultural Services</td>\n      <td>NaN</td>\n    </tr>\n    <tr>\n      <th>4</th>\n      <td>1520</td>\n      <td>General Contractor/Residential Building</td>\n      <td>NaN</td>\n    </tr>\n  </tbody>\n</table>\n</div>"
          },
          "metadata": {}
        }
      ],
      "id": "6694f600"
    },
    {
      "cell_type": "code",
      "source": "cust.isna().sum()",
      "metadata": {
        "trusted": true
      },
      "execution_count": 138,
      "outputs": [
        {
          "execution_count": 138,
          "output_type": "execute_result",
          "data": {
            "text/plain": "uid1                         0\ncustomer_age                11\ncountry                      0\ncity_of_living               0\nregistration_dt             89\nwebsite_last_visit_date    225\nemail                        0\nhas_mob_app                  0\nphone_number                 0\npush                         0\ndtype: int64"
          },
          "metadata": {}
        }
      ],
      "id": "082c930f"
    },
    {
      "cell_type": "code",
      "source": "cust.shape",
      "metadata": {
        "trusted": true
      },
      "execution_count": 139,
      "outputs": [
        {
          "execution_count": 139,
          "output_type": "execute_result",
          "data": {
            "text/plain": "(10000, 10)"
          },
          "metadata": {}
        }
      ],
      "id": "9a4089c1"
    },
    {
      "cell_type": "code",
      "source": "trans.isna().sum()",
      "metadata": {
        "trusted": true
      },
      "execution_count": 140,
      "outputs": [
        {
          "execution_count": 140,
          "output_type": "execute_result",
          "data": {
            "text/plain": "uid1               0\ndate_pur           1\nmcc_id             1\ntransaction_amt    1\ntransaction_qty    1\ndtype: int64"
          },
          "metadata": {}
        }
      ],
      "id": "6d2c73fd"
    },
    {
      "cell_type": "code",
      "source": "codes.isna().sum()",
      "metadata": {
        "trusted": true
      },
      "execution_count": 141,
      "outputs": [
        {
          "execution_count": 141,
          "output_type": "execute_result",
          "data": {
            "text/plain": "STANDARD MERCHANT CATEGORY CODES\\n**Please do not sort this spreadsheet**      1\nUnnamed: 1                                                                     0\nUnnamed: 2                                                                   867\ndtype: int64"
          },
          "metadata": {}
        }
      ],
      "id": "27543aec"
    },
    {
      "cell_type": "code",
      "source": "codes.shape",
      "metadata": {
        "trusted": true
      },
      "execution_count": 142,
      "outputs": [
        {
          "execution_count": 142,
          "output_type": "execute_result",
          "data": {
            "text/plain": "(882, 3)"
          },
          "metadata": {}
        }
      ],
      "id": "7960f678"
    },
    {
      "cell_type": "code",
      "source": "codes = codes.rename(columns={'STANDARD MERCHANT CATEGORY CODES\\n**Please do not sort this spreadsheet**':'mcc_id',\n                             'Unnamed: 1':'program_type'})",
      "metadata": {
        "trusted": true
      },
      "execution_count": 143,
      "outputs": [],
      "id": "b649c0f8"
    },
    {
      "cell_type": "code",
      "source": "codes = codes.iloc[1:,:]",
      "metadata": {
        "trusted": true
      },
      "execution_count": 144,
      "outputs": [],
      "id": "637eadcd"
    },
    {
      "cell_type": "code",
      "source": "codes = codes.iloc[:,0:2]",
      "metadata": {
        "trusted": true
      },
      "execution_count": 145,
      "outputs": [],
      "id": "787e0e78"
    },
    {
      "cell_type": "code",
      "source": "codes = codes.reset_index(drop=True)",
      "metadata": {
        "trusted": true
      },
      "execution_count": 146,
      "outputs": [],
      "id": "046df5b1"
    },
    {
      "cell_type": "code",
      "source": "codes.head()",
      "metadata": {
        "trusted": true
      },
      "execution_count": 147,
      "outputs": [
        {
          "execution_count": 147,
          "output_type": "execute_result",
          "data": {
            "text/plain": "  mcc_id                                     program_type\n0   0742                              Veterinary Services\n1   0763                        Agricultural Cooperatives\n2   0780           Landscaping and Horticultural Services\n3   1520          General Contractor/Residential Building\n4   1711  Heating, Plumbing, Air Conditioning Contractors",
            "text/html": "<div>\n<style scoped>\n    .dataframe tbody tr th:only-of-type {\n        vertical-align: middle;\n    }\n\n    .dataframe tbody tr th {\n        vertical-align: top;\n    }\n\n    .dataframe thead th {\n        text-align: right;\n    }\n</style>\n<table border=\"1\" class=\"dataframe\">\n  <thead>\n    <tr style=\"text-align: right;\">\n      <th></th>\n      <th>mcc_id</th>\n      <th>program_type</th>\n    </tr>\n  </thead>\n  <tbody>\n    <tr>\n      <th>0</th>\n      <td>0742</td>\n      <td>Veterinary Services</td>\n    </tr>\n    <tr>\n      <th>1</th>\n      <td>0763</td>\n      <td>Agricultural Cooperatives</td>\n    </tr>\n    <tr>\n      <th>2</th>\n      <td>0780</td>\n      <td>Landscaping and Horticultural Services</td>\n    </tr>\n    <tr>\n      <th>3</th>\n      <td>1520</td>\n      <td>General Contractor/Residential Building</td>\n    </tr>\n    <tr>\n      <th>4</th>\n      <td>1711</td>\n      <td>Heating, Plumbing, Air Conditioning Contractors</td>\n    </tr>\n  </tbody>\n</table>\n</div>"
          },
          "metadata": {}
        }
      ],
      "id": "727ae108"
    },
    {
      "cell_type": "code",
      "source": "trans.head()    ",
      "metadata": {
        "trusted": true
      },
      "execution_count": 148,
      "outputs": [
        {
          "execution_count": 148,
          "output_type": "execute_result",
          "data": {
            "text/plain": "       uid1    date_pur  mcc_id  transaction_amt  transaction_qty\n0         1         NaN     NaN              NaN              NaN\n1  18754051    17/06/20  5533.0           1200.0              1.0\n2  47705198    2/4/2021  4111.0             72.0              0.0\n3  33466679    1/4/2021  5814.0            240.0              2.0\n4  41444652  10/11/2020  4131.0             60.0              2.0",
            "text/html": "<div>\n<style scoped>\n    .dataframe tbody tr th:only-of-type {\n        vertical-align: middle;\n    }\n\n    .dataframe tbody tr th {\n        vertical-align: top;\n    }\n\n    .dataframe thead th {\n        text-align: right;\n    }\n</style>\n<table border=\"1\" class=\"dataframe\">\n  <thead>\n    <tr style=\"text-align: right;\">\n      <th></th>\n      <th>uid1</th>\n      <th>date_pur</th>\n      <th>mcc_id</th>\n      <th>transaction_amt</th>\n      <th>transaction_qty</th>\n    </tr>\n  </thead>\n  <tbody>\n    <tr>\n      <th>0</th>\n      <td>1</td>\n      <td>NaN</td>\n      <td>NaN</td>\n      <td>NaN</td>\n      <td>NaN</td>\n    </tr>\n    <tr>\n      <th>1</th>\n      <td>18754051</td>\n      <td>17/06/20</td>\n      <td>5533.0</td>\n      <td>1200.0</td>\n      <td>1.0</td>\n    </tr>\n    <tr>\n      <th>2</th>\n      <td>47705198</td>\n      <td>2/4/2021</td>\n      <td>4111.0</td>\n      <td>72.0</td>\n      <td>0.0</td>\n    </tr>\n    <tr>\n      <th>3</th>\n      <td>33466679</td>\n      <td>1/4/2021</td>\n      <td>5814.0</td>\n      <td>240.0</td>\n      <td>2.0</td>\n    </tr>\n    <tr>\n      <th>4</th>\n      <td>41444652</td>\n      <td>10/11/2020</td>\n      <td>4131.0</td>\n      <td>60.0</td>\n      <td>2.0</td>\n    </tr>\n  </tbody>\n</table>\n</div>"
          },
          "metadata": {}
        }
      ],
      "id": "7726e89b"
    },
    {
      "cell_type": "code",
      "source": "display(trans)",
      "metadata": {
        "trusted": true
      },
      "execution_count": 149,
      "outputs": [
        {
          "output_type": "display_data",
          "data": {
            "text/plain": "           uid1    date_pur  mcc_id  transaction_amt  transaction_qty\n0             1         NaN     NaN              NaN              NaN\n1      18754051    17/06/20  5533.0          1200.00              1.0\n2      47705198    2/4/2021  4111.0            72.00              0.0\n3      33466679    1/4/2021  5814.0           240.00              2.0\n4      41444652  10/11/2020  4131.0            60.00              2.0\n...         ...         ...     ...              ...              ...\n32533   9142420   8/10/2021  5499.0           404.00              5.0\n32534  17862308    14/05/20  5411.0          1761.67              1.0\n32535  38256425    13/03/20  5993.0           189.00              1.0\n32536  25631926    27/08/20  5499.0            82.00              2.0\n32537  12518238    4/4/2021  5641.0          1258.00              2.0\n\n[32538 rows x 5 columns]",
            "text/html": "<div>\n<style scoped>\n    .dataframe tbody tr th:only-of-type {\n        vertical-align: middle;\n    }\n\n    .dataframe tbody tr th {\n        vertical-align: top;\n    }\n\n    .dataframe thead th {\n        text-align: right;\n    }\n</style>\n<table border=\"1\" class=\"dataframe\">\n  <thead>\n    <tr style=\"text-align: right;\">\n      <th></th>\n      <th>uid1</th>\n      <th>date_pur</th>\n      <th>mcc_id</th>\n      <th>transaction_amt</th>\n      <th>transaction_qty</th>\n    </tr>\n  </thead>\n  <tbody>\n    <tr>\n      <th>0</th>\n      <td>1</td>\n      <td>NaN</td>\n      <td>NaN</td>\n      <td>NaN</td>\n      <td>NaN</td>\n    </tr>\n    <tr>\n      <th>1</th>\n      <td>18754051</td>\n      <td>17/06/20</td>\n      <td>5533.0</td>\n      <td>1200.00</td>\n      <td>1.0</td>\n    </tr>\n    <tr>\n      <th>2</th>\n      <td>47705198</td>\n      <td>2/4/2021</td>\n      <td>4111.0</td>\n      <td>72.00</td>\n      <td>0.0</td>\n    </tr>\n    <tr>\n      <th>3</th>\n      <td>33466679</td>\n      <td>1/4/2021</td>\n      <td>5814.0</td>\n      <td>240.00</td>\n      <td>2.0</td>\n    </tr>\n    <tr>\n      <th>4</th>\n      <td>41444652</td>\n      <td>10/11/2020</td>\n      <td>4131.0</td>\n      <td>60.00</td>\n      <td>2.0</td>\n    </tr>\n    <tr>\n      <th>...</th>\n      <td>...</td>\n      <td>...</td>\n      <td>...</td>\n      <td>...</td>\n      <td>...</td>\n    </tr>\n    <tr>\n      <th>32533</th>\n      <td>9142420</td>\n      <td>8/10/2021</td>\n      <td>5499.0</td>\n      <td>404.00</td>\n      <td>5.0</td>\n    </tr>\n    <tr>\n      <th>32534</th>\n      <td>17862308</td>\n      <td>14/05/20</td>\n      <td>5411.0</td>\n      <td>1761.67</td>\n      <td>1.0</td>\n    </tr>\n    <tr>\n      <th>32535</th>\n      <td>38256425</td>\n      <td>13/03/20</td>\n      <td>5993.0</td>\n      <td>189.00</td>\n      <td>1.0</td>\n    </tr>\n    <tr>\n      <th>32536</th>\n      <td>25631926</td>\n      <td>27/08/20</td>\n      <td>5499.0</td>\n      <td>82.00</td>\n      <td>2.0</td>\n    </tr>\n    <tr>\n      <th>32537</th>\n      <td>12518238</td>\n      <td>4/4/2021</td>\n      <td>5641.0</td>\n      <td>1258.00</td>\n      <td>2.0</td>\n    </tr>\n  </tbody>\n</table>\n<p>32538 rows × 5 columns</p>\n</div>"
          },
          "metadata": {}
        }
      ],
      "id": "df4e57f7-e45c-4696-b0eb-9b702babb4e9"
    },
    {
      "cell_type": "code",
      "source": "data = pd.merge(trans,codes,on=('mcc_id'),how='left')",
      "metadata": {
        "trusted": true
      },
      "execution_count": 150,
      "outputs": [],
      "id": "95d84705"
    },
    {
      "cell_type": "code",
      "source": "data.head()",
      "metadata": {
        "trusted": true
      },
      "execution_count": 151,
      "outputs": [
        {
          "execution_count": 151,
          "output_type": "execute_result",
          "data": {
            "text/plain": "       uid1    date_pur  mcc_id  transaction_amt  transaction_qty  \\\n0         1         NaN     NaN              NaN              NaN   \n1  18754051    17/06/20  5533.0           1200.0              1.0   \n2  47705198    2/4/2021  4111.0             72.0              0.0   \n3  33466679    1/4/2021  5814.0            240.0              2.0   \n4  41444652  10/11/2020  4131.0             60.0              2.0   \n\n                                        program_type  \n0  Visa - Non-Financial Institutions - Foreign Cu...  \n1            Automotive Parts and Accessories Stores  \n2  Local and Suburban Commuter Passenger Transpor...  \n3        Quick Payment Service-Fast Food Restaurants  \n4            Bus Lines, includes Charters/Tour Buses  ",
            "text/html": "<div>\n<style scoped>\n    .dataframe tbody tr th:only-of-type {\n        vertical-align: middle;\n    }\n\n    .dataframe tbody tr th {\n        vertical-align: top;\n    }\n\n    .dataframe thead th {\n        text-align: right;\n    }\n</style>\n<table border=\"1\" class=\"dataframe\">\n  <thead>\n    <tr style=\"text-align: right;\">\n      <th></th>\n      <th>uid1</th>\n      <th>date_pur</th>\n      <th>mcc_id</th>\n      <th>transaction_amt</th>\n      <th>transaction_qty</th>\n      <th>program_type</th>\n    </tr>\n  </thead>\n  <tbody>\n    <tr>\n      <th>0</th>\n      <td>1</td>\n      <td>NaN</td>\n      <td>NaN</td>\n      <td>NaN</td>\n      <td>NaN</td>\n      <td>Visa - Non-Financial Institutions - Foreign Cu...</td>\n    </tr>\n    <tr>\n      <th>1</th>\n      <td>18754051</td>\n      <td>17/06/20</td>\n      <td>5533.0</td>\n      <td>1200.0</td>\n      <td>1.0</td>\n      <td>Automotive Parts and Accessories Stores</td>\n    </tr>\n    <tr>\n      <th>2</th>\n      <td>47705198</td>\n      <td>2/4/2021</td>\n      <td>4111.0</td>\n      <td>72.0</td>\n      <td>0.0</td>\n      <td>Local and Suburban Commuter Passenger Transpor...</td>\n    </tr>\n    <tr>\n      <th>3</th>\n      <td>33466679</td>\n      <td>1/4/2021</td>\n      <td>5814.0</td>\n      <td>240.0</td>\n      <td>2.0</td>\n      <td>Quick Payment Service-Fast Food Restaurants</td>\n    </tr>\n    <tr>\n      <th>4</th>\n      <td>41444652</td>\n      <td>10/11/2020</td>\n      <td>4131.0</td>\n      <td>60.0</td>\n      <td>2.0</td>\n      <td>Bus Lines, includes Charters/Tour Buses</td>\n    </tr>\n  </tbody>\n</table>\n</div>"
          },
          "metadata": {}
        }
      ],
      "id": "49a84704"
    },
    {
      "cell_type": "code",
      "source": "data.isna().sum()",
      "metadata": {
        "trusted": true
      },
      "execution_count": 152,
      "outputs": [
        {
          "execution_count": 152,
          "output_type": "execute_result",
          "data": {
            "text/plain": "uid1                0\ndate_pur            1\nmcc_id              1\ntransaction_amt     1\ntransaction_qty     1\nprogram_type       31\ndtype: int64"
          },
          "metadata": {}
        }
      ],
      "id": "32b39628"
    },
    {
      "cell_type": "code",
      "source": "cust = cust.dropna()",
      "metadata": {
        "trusted": true
      },
      "execution_count": 153,
      "outputs": [],
      "id": "5697a69d"
    },
    {
      "cell_type": "code",
      "source": "cust.shape",
      "metadata": {
        "trusted": true
      },
      "execution_count": 154,
      "outputs": [
        {
          "execution_count": 154,
          "output_type": "execute_result",
          "data": {
            "text/plain": "(9675, 10)"
          },
          "metadata": {}
        }
      ],
      "id": "b419e29b"
    },
    {
      "cell_type": "code",
      "source": "list(cust.columns)",
      "metadata": {
        "trusted": true
      },
      "execution_count": 155,
      "outputs": [
        {
          "execution_count": 155,
          "output_type": "execute_result",
          "data": {
            "text/plain": "['uid1',\n 'customer_age',\n 'country',\n 'city_of_living',\n 'registration_dt',\n 'website_last_visit_date',\n 'email',\n 'has_mob_app',\n 'phone_number',\n 'push']"
          },
          "metadata": {}
        }
      ],
      "id": "591492ef-47d0-4cfd-98fa-ba3fff2d2bc5"
    },
    {
      "cell_type": "code",
      "source": "sns.countplot(x=cust['has_mob_app'])",
      "metadata": {
        "trusted": true
      },
      "execution_count": 165,
      "outputs": [
        {
          "execution_count": 165,
          "output_type": "execute_result",
          "data": {
            "text/plain": "<AxesSubplot:xlabel='has_mob_app', ylabel='count'>"
          },
          "metadata": {}
        }
      ],
      "id": "a0fd9a31"
    },
    {
      "cell_type": "code",
      "source": "plt.show()",
      "metadata": {
        "trusted": true
      },
      "execution_count": 166,
      "outputs": [
        {
          "output_type": "display_data",
          "data": {
            "text/plain": "<pyolite.display.Image at 0xae8a540>",
            "image/png": "[encoded data removed]"
          },
          "metadata": {}
        }
      ],
      "id": "a8b3a5d9-a86b-4d33-9ab9-e1c72d58d5e2"
    },
    {
      "cell_type": "code",
      "source": "sns.countplot(x=cust['phone_number'])",
      "metadata": {
        "trusted": true
      },
      "execution_count": 167,
      "outputs": [
        {
          "execution_count": 167,
          "output_type": "execute_result",
          "data": {
            "text/plain": "<AxesSubplot:xlabel='phone_number', ylabel='count'>"
          },
          "metadata": {}
        }
      ],
      "id": "d8633d53"
    },
    {
      "cell_type": "code",
      "source": "plt.show()",
      "metadata": {
        "trusted": true
      },
      "execution_count": 168,
      "outputs": [
        {
          "output_type": "display_data",
          "data": {
            "text/plain": "<pyolite.display.Image at 0xb51e910>",
            "image/png": "[encoded data removed]"
          },
          "metadata": {}
        }
      ],
      "id": "0d9eecf1-8554-4fcd-bdad-f8d6ec04b27e"
    },
    {
      "cell_type": "code",
      "source": "sns.countplot(x=cust.country)",
      "metadata": {
        "trusted": true
      },
      "execution_count": 169,
      "outputs": [
        {
          "execution_count": 169,
          "output_type": "execute_result",
          "data": {
            "text/plain": "<AxesSubplot:xlabel='country', ylabel='count'>"
          },
          "metadata": {}
        }
      ],
      "id": "d420db10"
    },
    {
      "cell_type": "code",
      "source": "plt.show()",
      "metadata": {
        "trusted": true
      },
      "execution_count": 170,
      "outputs": [
        {
          "output_type": "display_data",
          "data": {
            "text/plain": "<pyolite.display.Image at 0x8df51c0>",
            "image/png": "[encoded data removed]"
          },
          "metadata": {}
        }
      ],
      "id": "352dcc64-e891-4b2a-9035-7521a22a9f94"
    },
    {
      "cell_type": "code",
      "source": "trans_per_program = data.groupby('program_type')['transaction_amt'].sum()",
      "metadata": {
        "trusted": true
      },
      "execution_count": 159,
      "outputs": [],
      "id": "1f603734"
    },
    {
      "cell_type": "code",
      "source": "trans_per_program.head()",
      "metadata": {
        "trusted": true
      },
      "execution_count": 171,
      "outputs": [
        {
          "execution_count": 171,
          "output_type": "execute_result",
          "data": {
            "text/plain": "program_type\nAdvertising Services                                           60197.74\nAeroFlot                                                       90105.00\nAirlines and Air Carriers                                     343376.73\nAirports, Flying Fields, and Airport Terminals                   600.00\nAmusement Parks, Circuses, Carnivals, and Fortune Tellers      14380.00\nName: transaction_amt, dtype: float64"
          },
          "metadata": {}
        }
      ],
      "id": "795856c0"
    },
    {
      "cell_type": "code",
      "source": "cust.isna().sum()",
      "metadata": {
        "trusted": true
      },
      "execution_count": 172,
      "outputs": [
        {
          "execution_count": 172,
          "output_type": "execute_result",
          "data": {
            "text/plain": "uid1                       0\ncustomer_age               0\ncountry                    0\ncity_of_living             0\nregistration_dt            0\nwebsite_last_visit_date    0\nemail                      0\nhas_mob_app                0\nphone_number               0\npush                       0\ndtype: int64"
          },
          "metadata": {}
        }
      ],
      "id": "e9e5c657"
    },
    {
      "cell_type": "code",
      "source": "data2 = pd.merge(data,cust,on='uid1',how='left')",
      "metadata": {
        "trusted": true
      },
      "execution_count": 173,
      "outputs": [],
      "id": "974e88e4"
    },
    {
      "cell_type": "code",
      "source": "data2.head(50)",
      "metadata": {
        "trusted": true
      },
      "execution_count": 174,
      "outputs": [
        {
          "execution_count": 174,
          "output_type": "execute_result",
          "data": {
            "text/plain": "        uid1    date_pur  mcc_id  transaction_amt  transaction_qty  \\\n0          1         NaN     NaN              NaN              NaN   \n1   18754051    17/06/20  5533.0          1200.00              1.0   \n2   47705198    2/4/2021  4111.0            72.00              0.0   \n3   33466679    1/4/2021  5814.0           240.00              2.0   \n4   41444652  10/11/2020  4131.0            60.00              2.0   \n5   20756572   11/8/2020  5311.0           150.00              1.0   \n6   19982774    4/9/2020  5499.0           379.00              1.0   \n7   49405397    9/7/2021  5691.0           619.00              1.0   \n8     450512    2/1/2021  5816.0          -150.00             -1.0   \n9   37469591    15/08/21  5814.0          1201.00              3.0   \n10  20271100   9/11/2020  5814.0           217.50              1.0   \n11  26688468    16/07/20  4789.0          -332.35             -1.0   \n12   7279148    15/09/20  5921.0           179.00              1.0   \n13  52439740    22/12/20  5921.0          -415.52             -1.0   \n14  36690282    24/07/20  5411.0           327.78              3.0   \n15   1060183    6/8/2021  5542.0           912.00              1.0   \n16   3089220    24/03/21  5411.0          1139.74              2.0   \n17   3458867    5/1/2021  5999.0            79.00              1.0   \n18  29651099    16/07/21  5411.0           257.96              1.0   \n19  14855276   10/3/2020  4121.0           104.00              2.0   \n20   4016055    24/04/21  5411.0           229.99              1.0   \n21  23156079    26/06/20  5211.0           654.98              1.0   \n22  34455038    20/11/20  5441.0           132.00              1.0   \n23  44136221    18/06/20  5814.0           430.00              1.0   \n24   7140881    2/5/2021  5499.0           136.00              1.0   \n25  20654078    30/08/21  5921.0           184.85              1.0   \n26  51061155   12/9/2021  5499.0           168.00              1.0   \n27  52071504    26/09/20  5331.0          2715.00              1.0   \n28   6664428    18/03/20  5912.0           300.00              1.0   \n29  37349872    27/12/20  5921.0           346.95              1.0   \n30  18760488    18/02/21  5411.0          3309.66              3.0   \n31  22131863   11/5/2021  5814.0           677.00              1.0   \n32   6246037    19/03/20  4111.0            41.00              1.0   \n33   3041427    15/04/21  5812.0           180.13              1.0   \n34   5865446    18/07/21  5200.0             0.00              0.0   \n35  20148603   8/10/2021  5814.0           648.00              2.0   \n36  35583487    27/05/21  5691.0           545.00              1.0   \n37  52326716    17/11/20  5411.0           593.49              2.0   \n38  19936926   3/10/2021  5816.0           785.20              2.0   \n39  21595022    22/05/20  5411.0            52.99              1.0   \n40  35273518    28/01/20  4814.0            60.00              1.0   \n41     17264    24/08/20  8999.0           200.00              1.0   \n42  51650053    30/09/21  5812.0           216.07              1.0   \n43  50722490    17/05/21  5921.0             0.00              0.0   \n44   4762793    4/6/2021  5814.0            66.00              1.0   \n45  23709347    8/3/2020  5912.0           342.00              1.0   \n46  41542949    5/7/2021  5912.0            75.00              1.0   \n47  21221286    20/04/21  5200.0          -250.00             -1.0   \n48  19360036   12/5/2020  5411.0           263.77              2.0   \n49  48906935    19/02/21  5541.0          1383.00              1.0   \n\n                                         program_type  customer_age country  \\\n0   Visa - Non-Financial Institutions - Foreign Cu...           NaN     NaN   \n1             Automotive Parts and Accessories Stores          51.0  RUSSIA   \n2   Local and Suburban Commuter Passenger Transpor...          33.0  RUSSIA   \n3         Quick Payment Service-Fast Food Restaurants          31.0  RUSSIA   \n4             Bus Lines, includes Charters/Tour Buses           NaN     NaN   \n5                                   Department Stores          57.0  RUSSIA   \n6   Miscellaneous Food Stores-Convenience Stores a...          30.0  RUSSIA   \n7                   Men's and Women's Clothing Stores          24.0  RUSSIA   \n8                             Digital Goods – Games            29.0  RUSSIA   \n9         Quick Payment Service-Fast Food Restaurants          28.0  RUSSIA   \n10        Quick Payment Service-Fast Food Restaurants          25.0  RUSSIA   \n11   Transportation Services-not elsewhere classified          21.0  RUSSIA   \n12             Package Stores--Beer, Wine, and Liquor          28.0  RUSSIA   \n13             Package Stores--Beer, Wine, and Liquor          29.0  RUSSIA   \n14                    Grocery Stores and Supermarkets          28.0  RUSSIA   \n15                          Automated Fuel Dispensers          51.0  RUSSIA   \n16                    Grocery Stores and Supermarkets          45.0  RUSSIA   \n17            Miscellaneous & Specialty Retail Stores           NaN     NaN   \n18                    Grocery Stores and Supermarkets          46.0  RUSSIA   \n19                            Taxicabs and Limousines          39.0  RUSSIA   \n20                    Grocery Stores and Supermarkets          41.0  RUSSIA   \n21                 Lumber & Building Materials Stores          43.0  RUSSIA   \n22               Candy, Nut, and Confectionary Stores          42.0  RUSSIA   \n23        Quick Payment Service-Fast Food Restaurants          40.0  RUSSIA   \n24  Miscellaneous Food Stores-Convenience Stores a...          39.0  RUSSIA   \n25             Package Stores--Beer, Wine, and Liquor          24.0  RUSSIA   \n26  Miscellaneous Food Stores-Convenience Stores a...          28.0  RUSSIA   \n27                                     Variety Stores          64.0  RUSSIA   \n28                         Drug Stores and Pharmacies          57.0  RUSSIA   \n29             Package Stores--Beer, Wine, and Liquor          40.0  RUSSIA   \n30                    Grocery Stores and Supermarkets          30.0  RUSSIA   \n31        Quick Payment Service-Fast Food Restaurants          37.0  RUSSIA   \n32  Local and Suburban Commuter Passenger Transpor...          43.0  RUSSIA   \n33                      Eating Places and Restaurants          53.0  RUSSIA   \n34                              Home Supply Warehouse          37.0  RUSSIA   \n35        Quick Payment Service-Fast Food Restaurants          24.0  RUSSIA   \n36                  Men's and Women's Clothing Stores          44.0  RUSSIA   \n37                    Grocery Stores and Supermarkets          74.0  RUSSIA   \n38                            Digital Goods – Games            20.0  RUSSIA   \n39                    Grocery Stores and Supermarkets          36.0  RUSSIA   \n40  Telecommunication Services, Including Local an...          56.0  RUSSIA   \n41   Professional Services - Not Elsewhere Classified          20.0  RUSSIA   \n42                      Eating Places and Restaurants          54.0  RUSSIA   \n43             Package Stores--Beer, Wine, and Liquor           NaN     NaN   \n44        Quick Payment Service-Fast Food Restaurants          57.0  RUSSIA   \n45                         Drug Stores and Pharmacies          47.0  RUSSIA   \n46                         Drug Stores and Pharmacies          42.0  RUSSIA   \n47                              Home Supply Warehouse          37.0  RUSSIA   \n48                    Grocery Stores and Supermarkets          46.0  RUSSIA   \n49  Service Stations (with or without Ancillary Se...           NaN     NaN   \n\n      city_of_living registration_dt website_last_visit_date  email  \\\n0                NaN             NaN                     NaN    NaN   \n1       Novokuznetsk        27/06/17                20/05/19    0.0   \n2             Moscow        11/01/17                09/11/18    0.0   \n3           Voronezh        12/04/13                24/10/16    1.0   \n4                NaN             NaN                     NaN    NaN   \n5          Volgograd        19/11/15                03/01/21    0.0   \n6        Vladivostok        19/05/17                21/04/18    0.0   \n7          Volgograd        05/11/15                10/10/19    0.0   \n8        Vladivostok        01/02/16                07/10/17    1.0   \n9          Odintsovo        22/02/17                29/09/18    0.0   \n10            Moscow        10/07/17                06/09/20    0.0   \n11  Saint-Petersburg        07/08/16                19/08/16    0.0   \n12      Novokuznetsk        10/08/15                22/03/19    0.0   \n13           Obninsk        16/07/20                04/08/21    0.0   \n14         Krasnodar        11/11/13                16/01/14    0.0   \n15             Kazan        13/12/19                28/06/21    0.0   \n16       Krasnogorsk        22/02/12                13/05/14    0.0   \n17               NaN             NaN                     NaN    NaN   \n18         Krasnodar        14/07/17                28/10/20    0.0   \n19            Moscow        14/11/12                30/06/19    1.0   \n20        Sevastopol        02/03/16                07/03/18    0.0   \n21             Kazan        20/11/15                18/02/18    1.0   \n22         Volgograd        21/12/15                02/11/18    0.0   \n23              Perm        30/03/16                05/04/16    0.0   \n24           Pushkin        24/10/13                21/12/20    0.0   \n25       Vladivostok        26/04/17                18/05/17    0.0   \n26          Voronezh        20/12/13                01/09/16    0.0   \n27          Voronezh        06/03/20                03/01/21    0.0   \n28          Voronezh        19/04/16                13/04/20    0.0   \n29             Kazan        15/12/16                02/01/21    1.0   \n30         Volgograd        25/07/14                28/11/19    0.0   \n31  Saint-Petersburg        25/02/14                30/04/15    0.0   \n32            Moscow        04/08/14                31/01/21    1.0   \n33         Odintsovo        27/11/18                01/07/21    0.0   \n34       Vladivostok        06/08/20                02/05/21    0.0   \n35            Samara        01/04/19                02/10/20    0.0   \n36             Kazan        09/09/20                19/09/20    0.0   \n37         Volgograd        09/12/12                06/01/14    0.0   \n38      Novokuznetsk        16/08/19                08/12/19    0.0   \n39      Ekaterinburg        25/09/17                07/02/19    0.0   \n40  Saint-Petersburg        13/03/12                14/09/17    1.0   \n41        Sevastopol        21/07/20                03/10/21    0.0   \n42         Volgograd        15/02/19                12/05/20    0.0   \n43               NaN             NaN                     NaN    NaN   \n44          Voronezh        28/08/16                01/09/16    0.0   \n45         Odintsovo        02/04/19                24/08/21    0.0   \n46            Samara        05/05/17                30/01/19    0.0   \n47       Krasnogorsk        20/08/12                25/06/19    1.0   \n48            Moscow        24/04/19                17/10/20    0.0   \n49               NaN             NaN                     NaN    NaN   \n\n    has_mob_app  phone_number  push  \n0           NaN           NaN   NaN  \n1           0.0           1.0   0.0  \n2           0.0           1.0   0.0  \n3           0.0           1.0   0.0  \n4           NaN           NaN   NaN  \n5           0.0           1.0   0.0  \n6           1.0           1.0   1.0  \n7           0.0           1.0   0.0  \n8           1.0           1.0   1.0  \n9           1.0           1.0   0.0  \n10          1.0           1.0   1.0  \n11          0.0           1.0   0.0  \n12          0.0           1.0   0.0  \n13          0.0           1.0   0.0  \n14          0.0           1.0   0.0  \n15          0.0           1.0   0.0  \n16          0.0           1.0   0.0  \n17          NaN           NaN   NaN  \n18          0.0           1.0   0.0  \n19          1.0           1.0   1.0  \n20          0.0           1.0   0.0  \n21          0.0           1.0   0.0  \n22          0.0           1.0   0.0  \n23          0.0           1.0   0.0  \n24          1.0           1.0   0.0  \n25          0.0           1.0   0.0  \n26          0.0           1.0   0.0  \n27          0.0           1.0   0.0  \n28          0.0           1.0   0.0  \n29          1.0           1.0   0.0  \n30          0.0           1.0   0.0  \n31          0.0           1.0   0.0  \n32          1.0           1.0   0.0  \n33          1.0           1.0   1.0  \n34          1.0           1.0   1.0  \n35          1.0           1.0   1.0  \n36          0.0           1.0   0.0  \n37          0.0           1.0   0.0  \n38          1.0           1.0   0.0  \n39          0.0           1.0   0.0  \n40          0.0           1.0   0.0  \n41          0.0           1.0   0.0  \n42          0.0           1.0   0.0  \n43          NaN           NaN   NaN  \n44          1.0           1.0   0.0  \n45          0.0           1.0   0.0  \n46          0.0           1.0   0.0  \n47          0.0           1.0   0.0  \n48          0.0           1.0   0.0  \n49          NaN           NaN   NaN  ",
            "text/html": "<div>\n<style scoped>\n    .dataframe tbody tr th:only-of-type {\n        vertical-align: middle;\n    }\n\n    .dataframe tbody tr th {\n        vertical-align: top;\n    }\n\n    .dataframe thead th {\n        text-align: right;\n    }\n</style>\n<table border=\"1\" class=\"dataframe\">\n  <thead>\n    <tr style=\"text-align: right;\">\n      <th></th>\n      <th>uid1</th>\n      <th>date_pur</th>\n      <th>mcc_id</th>\n      <th>transaction_amt</th>\n      <th>transaction_qty</th>\n      <th>program_type</th>\n      <th>customer_age</th>\n      <th>country</th>\n      <th>city_of_living</th>\n      <th>registration_dt</th>\n      <th>website_last_visit_date</th>\n      <th>email</th>\n      <th>has_mob_app</th>\n      <th>phone_number</th>\n      <th>push</th>\n    </tr>\n  </thead>\n  <tbody>\n    <tr>\n      <th>0</th>\n      <td>1</td>\n      <td>NaN</td>\n      <td>NaN</td>\n      <td>NaN</td>\n      <td>NaN</td>\n      <td>Visa - Non-Financial Institutions - Foreign Cu...</td>\n      <td>NaN</td>\n      <td>NaN</td>\n      <td>NaN</td>\n      <td>NaN</td>\n      <td>NaN</td>\n      <td>NaN</td>\n      <td>NaN</td>\n      <td>NaN</td>\n      <td>NaN</td>\n    </tr>\n    <tr>\n      <th>1</th>\n      <td>18754051</td>\n      <td>17/06/20</td>\n      <td>5533.0</td>\n      <td>1200.00</td>\n      <td>1.0</td>\n      <td>Automotive Parts and Accessories Stores</td>\n      <td>51.0</td>\n      <td>RUSSIA</td>\n      <td>Novokuznetsk</td>\n      <td>27/06/17</td>\n      <td>20/05/19</td>\n      <td>0.0</td>\n      <td>0.0</td>\n      <td>1.0</td>\n      <td>0.0</td>\n    </tr>\n    <tr>\n      <th>2</th>\n      <td>47705198</td>\n      <td>2/4/2021</td>\n      <td>4111.0</td>\n      <td>72.00</td>\n      <td>0.0</td>\n      <td>Local and Suburban Commuter Passenger Transpor...</td>\n      <td>33.0</td>\n      <td>RUSSIA</td>\n      <td>Moscow</td>\n      <td>11/01/17</td>\n      <td>09/11/18</td>\n      <td>0.0</td>\n      <td>0.0</td>\n      <td>1.0</td>\n      <td>0.0</td>\n    </tr>\n    <tr>\n      <th>3</th>\n      <td>33466679</td>\n      <td>1/4/2021</td>\n      <td>5814.0</td>\n      <td>240.00</td>\n      <td>2.0</td>\n      <td>Quick Payment Service-Fast Food Restaurants</td>\n      <td>31.0</td>\n      <td>RUSSIA</td>\n      <td>Voronezh</td>\n      <td>12/04/13</td>\n      <td>24/10/16</td>\n      <td>1.0</td>\n      <td>0.0</td>\n      <td>1.0</td>\n      <td>0.0</td>\n    </tr>\n    <tr>\n      <th>4</th>\n      <td>41444652</td>\n      <td>10/11/2020</td>\n      <td>4131.0</td>\n      <td>60.00</td>\n      <td>2.0</td>\n      <td>Bus Lines, includes Charters/Tour Buses</td>\n      <td>NaN</td>\n      <td>NaN</td>\n      <td>NaN</td>\n      <td>NaN</td>\n      <td>NaN</td>\n      <td>NaN</td>\n      <td>NaN</td>\n      <td>NaN</td>\n      <td>NaN</td>\n    </tr>\n    <tr>\n      <th>5</th>\n      <td>20756572</td>\n      <td>11/8/2020</td>\n      <td>5311.0</td>\n      <td>150.00</td>\n      <td>1.0</td>\n      <td>Department Stores</td>\n      <td>57.0</td>\n      <td>RUSSIA</td>\n      <td>Volgograd</td>\n      <td>19/11/15</td>\n      <td>03/01/21</td>\n      <td>0.0</td>\n      <td>0.0</td>\n      <td>1.0</td>\n      <td>0.0</td>\n    </tr>\n    <tr>\n      <th>6</th>\n      <td>19982774</td>\n      <td>4/9/2020</td>\n      <td>5499.0</td>\n      <td>379.00</td>\n      <td>1.0</td>\n      <td>Miscellaneous Food Stores-Convenience Stores a...</td>\n      <td>30.0</td>\n      <td>RUSSIA</td>\n      <td>Vladivostok</td>\n      <td>19/05/17</td>\n      <td>21/04/18</td>\n      <td>0.0</td>\n      <td>1.0</td>\n      <td>1.0</td>\n      <td>1.0</td>\n    </tr>\n    <tr>\n      <th>7</th>\n      <td>49405397</td>\n      <td>9/7/2021</td>\n      <td>5691.0</td>\n      <td>619.00</td>\n      <td>1.0</td>\n      <td>Men's and Women's Clothing Stores</td>\n      <td>24.0</td>\n      <td>RUSSIA</td>\n      <td>Volgograd</td>\n      <td>05/11/15</td>\n      <td>10/10/19</td>\n      <td>0.0</td>\n      <td>0.0</td>\n      <td>1.0</td>\n      <td>0.0</td>\n    </tr>\n    <tr>\n      <th>8</th>\n      <td>450512</td>\n      <td>2/1/2021</td>\n      <td>5816.0</td>\n      <td>-150.00</td>\n      <td>-1.0</td>\n      <td>Digital Goods – Games</td>\n      <td>29.0</td>\n      <td>RUSSIA</td>\n      <td>Vladivostok</td>\n      <td>01/02/16</td>\n      <td>07/10/17</td>\n      <td>1.0</td>\n      <td>1.0</td>\n      <td>1.0</td>\n      <td>1.0</td>\n    </tr>\n    <tr>\n      <th>9</th>\n      <td>37469591</td>\n      <td>15/08/21</td>\n      <td>5814.0</td>\n      <td>1201.00</td>\n      <td>3.0</td>\n      <td>Quick Payment Service-Fast Food Restaurants</td>\n      <td>28.0</td>\n      <td>RUSSIA</td>\n      <td>Odintsovo</td>\n      <td>22/02/17</td>\n      <td>29/09/18</td>\n      <td>0.0</td>\n      <td>1.0</td>\n      <td>1.0</td>\n      <td>0.0</td>\n    </tr>\n    <tr>\n      <th>10</th>\n      <td>20271100</td>\n      <td>9/11/2020</td>\n      <td>5814.0</td>\n      <td>217.50</td>\n      <td>1.0</td>\n      <td>Quick Payment Service-Fast Food Restaurants</td>\n      <td>25.0</td>\n      <td>RUSSIA</td>\n      <td>Moscow</td>\n      <td>10/07/17</td>\n      <td>06/09/20</td>\n      <td>0.0</td>\n      <td>1.0</td>\n      <td>1.0</td>\n      <td>1.0</td>\n    </tr>\n    <tr>\n      <th>11</th>\n      <td>26688468</td>\n      <td>16/07/20</td>\n      <td>4789.0</td>\n      <td>-332.35</td>\n      <td>-1.0</td>\n      <td>Transportation Services-not elsewhere classified</td>\n      <td>21.0</td>\n      <td>RUSSIA</td>\n      <td>Saint-Petersburg</td>\n      <td>07/08/16</td>\n      <td>19/08/16</td>\n      <td>0.0</td>\n      <td>0.0</td>\n      <td>1.0</td>\n      <td>0.0</td>\n    </tr>\n    <tr>\n      <th>12</th>\n      <td>7279148</td>\n      <td>15/09/20</td>\n      <td>5921.0</td>\n      <td>179.00</td>\n      <td>1.0</td>\n      <td>Package Stores--Beer, Wine, and Liquor</td>\n      <td>28.0</td>\n      <td>RUSSIA</td>\n      <td>Novokuznetsk</td>\n      <td>10/08/15</td>\n      <td>22/03/19</td>\n      <td>0.0</td>\n      <td>0.0</td>\n      <td>1.0</td>\n      <td>0.0</td>\n    </tr>\n    <tr>\n      <th>13</th>\n      <td>52439740</td>\n      <td>22/12/20</td>\n      <td>5921.0</td>\n      <td>-415.52</td>\n      <td>-1.0</td>\n      <td>Package Stores--Beer, Wine, and Liquor</td>\n      <td>29.0</td>\n      <td>RUSSIA</td>\n      <td>Obninsk</td>\n      <td>16/07/20</td>\n      <td>04/08/21</td>\n      <td>0.0</td>\n      <td>0.0</td>\n      <td>1.0</td>\n      <td>0.0</td>\n    </tr>\n    <tr>\n      <th>14</th>\n      <td>36690282</td>\n      <td>24/07/20</td>\n      <td>5411.0</td>\n      <td>327.78</td>\n      <td>3.0</td>\n      <td>Grocery Stores and Supermarkets</td>\n      <td>28.0</td>\n      <td>RUSSIA</td>\n      <td>Krasnodar</td>\n      <td>11/11/13</td>\n      <td>16/01/14</td>\n      <td>0.0</td>\n      <td>0.0</td>\n      <td>1.0</td>\n      <td>0.0</td>\n    </tr>\n    <tr>\n      <th>15</th>\n      <td>1060183</td>\n      <td>6/8/2021</td>\n      <td>5542.0</td>\n      <td>912.00</td>\n      <td>1.0</td>\n      <td>Automated Fuel Dispensers</td>\n      <td>51.0</td>\n      <td>RUSSIA</td>\n      <td>Kazan</td>\n      <td>13/12/19</td>\n      <td>28/06/21</td>\n      <td>0.0</td>\n      <td>0.0</td>\n      <td>1.0</td>\n      <td>0.0</td>\n    </tr>\n    <tr>\n      <th>16</th>\n      <td>3089220</td>\n      <td>24/03/21</td>\n      <td>5411.0</td>\n      <td>1139.74</td>\n      <td>2.0</td>\n      <td>Grocery Stores and Supermarkets</td>\n      <td>45.0</td>\n      <td>RUSSIA</td>\n      <td>Krasnogorsk</td>\n      <td>22/02/12</td>\n      <td>13/05/14</td>\n      <td>0.0</td>\n      <td>0.0</td>\n      <td>1.0</td>\n      <td>0.0</td>\n    </tr>\n    <tr>\n      <th>17</th>\n      <td>3458867</td>\n      <td>5/1/2021</td>\n      <td>5999.0</td>\n      <td>79.00</td>\n      <td>1.0</td>\n      <td>Miscellaneous &amp; Specialty Retail Stores</td>\n      <td>NaN</td>\n      <td>NaN</td>\n      <td>NaN</td>\n      <td>NaN</td>\n      <td>NaN</td>\n      <td>NaN</td>\n      <td>NaN</td>\n      <td>NaN</td>\n      <td>NaN</td>\n    </tr>\n    <tr>\n      <th>18</th>\n      <td>29651099</td>\n      <td>16/07/21</td>\n      <td>5411.0</td>\n      <td>257.96</td>\n      <td>1.0</td>\n      <td>Grocery Stores and Supermarkets</td>\n      <td>46.0</td>\n      <td>RUSSIA</td>\n      <td>Krasnodar</td>\n      <td>14/07/17</td>\n      <td>28/10/20</td>\n      <td>0.0</td>\n      <td>0.0</td>\n      <td>1.0</td>\n      <td>0.0</td>\n    </tr>\n    <tr>\n      <th>19</th>\n      <td>14855276</td>\n      <td>10/3/2020</td>\n      <td>4121.0</td>\n      <td>104.00</td>\n      <td>2.0</td>\n      <td>Taxicabs and Limousines</td>\n      <td>39.0</td>\n      <td>RUSSIA</td>\n      <td>Moscow</td>\n      <td>14/11/12</td>\n      <td>30/06/19</td>\n      <td>1.0</td>\n      <td>1.0</td>\n      <td>1.0</td>\n      <td>1.0</td>\n    </tr>\n    <tr>\n      <th>20</th>\n      <td>4016055</td>\n      <td>24/04/21</td>\n      <td>5411.0</td>\n      <td>229.99</td>\n      <td>1.0</td>\n      <td>Grocery Stores and Supermarkets</td>\n      <td>41.0</td>\n      <td>RUSSIA</td>\n      <td>Sevastopol</td>\n      <td>02/03/16</td>\n      <td>07/03/18</td>\n      <td>0.0</td>\n      <td>0.0</td>\n      <td>1.0</td>\n      <td>0.0</td>\n    </tr>\n    <tr>\n      <th>21</th>\n      <td>23156079</td>\n      <td>26/06/20</td>\n      <td>5211.0</td>\n      <td>654.98</td>\n      <td>1.0</td>\n      <td>Lumber &amp; Building Materials Stores</td>\n      <td>43.0</td>\n      <td>RUSSIA</td>\n      <td>Kazan</td>\n      <td>20/11/15</td>\n      <td>18/02/18</td>\n      <td>1.0</td>\n      <td>0.0</td>\n      <td>1.0</td>\n      <td>0.0</td>\n    </tr>\n    <tr>\n      <th>22</th>\n      <td>34455038</td>\n      <td>20/11/20</td>\n      <td>5441.0</td>\n      <td>132.00</td>\n      <td>1.0</td>\n      <td>Candy, Nut, and Confectionary Stores</td>\n      <td>42.0</td>\n      <td>RUSSIA</td>\n      <td>Volgograd</td>\n      <td>21/12/15</td>\n      <td>02/11/18</td>\n      <td>0.0</td>\n      <td>0.0</td>\n      <td>1.0</td>\n      <td>0.0</td>\n    </tr>\n    <tr>\n      <th>23</th>\n      <td>44136221</td>\n      <td>18/06/20</td>\n      <td>5814.0</td>\n      <td>430.00</td>\n      <td>1.0</td>\n      <td>Quick Payment Service-Fast Food Restaurants</td>\n      <td>40.0</td>\n      <td>RUSSIA</td>\n      <td>Perm</td>\n      <td>30/03/16</td>\n      <td>05/04/16</td>\n      <td>0.0</td>\n      <td>0.0</td>\n      <td>1.0</td>\n      <td>0.0</td>\n    </tr>\n    <tr>\n      <th>24</th>\n      <td>7140881</td>\n      <td>2/5/2021</td>\n      <td>5499.0</td>\n      <td>136.00</td>\n      <td>1.0</td>\n      <td>Miscellaneous Food Stores-Convenience Stores a...</td>\n      <td>39.0</td>\n      <td>RUSSIA</td>\n      <td>Pushkin</td>\n      <td>24/10/13</td>\n      <td>21/12/20</td>\n      <td>0.0</td>\n      <td>1.0</td>\n      <td>1.0</td>\n      <td>0.0</td>\n    </tr>\n    <tr>\n      <th>25</th>\n      <td>20654078</td>\n      <td>30/08/21</td>\n      <td>5921.0</td>\n      <td>184.85</td>\n      <td>1.0</td>\n      <td>Package Stores--Beer, Wine, and Liquor</td>\n      <td>24.0</td>\n      <td>RUSSIA</td>\n      <td>Vladivostok</td>\n      <td>26/04/17</td>\n      <td>18/05/17</td>\n      <td>0.0</td>\n      <td>0.0</td>\n      <td>1.0</td>\n      <td>0.0</td>\n    </tr>\n    <tr>\n      <th>26</th>\n      <td>51061155</td>\n      <td>12/9/2021</td>\n      <td>5499.0</td>\n      <td>168.00</td>\n      <td>1.0</td>\n      <td>Miscellaneous Food Stores-Convenience Stores a...</td>\n      <td>28.0</td>\n      <td>RUSSIA</td>\n      <td>Voronezh</td>\n      <td>20/12/13</td>\n      <td>01/09/16</td>\n      <td>0.0</td>\n      <td>0.0</td>\n      <td>1.0</td>\n      <td>0.0</td>\n    </tr>\n    <tr>\n      <th>27</th>\n      <td>52071504</td>\n      <td>26/09/20</td>\n      <td>5331.0</td>\n      <td>2715.00</td>\n      <td>1.0</td>\n      <td>Variety Stores</td>\n      <td>64.0</td>\n      <td>RUSSIA</td>\n      <td>Voronezh</td>\n      <td>06/03/20</td>\n      <td>03/01/21</td>\n      <td>0.0</td>\n      <td>0.0</td>\n      <td>1.0</td>\n      <td>0.0</td>\n    </tr>\n    <tr>\n      <th>28</th>\n      <td>6664428</td>\n      <td>18/03/20</td>\n      <td>5912.0</td>\n      <td>300.00</td>\n      <td>1.0</td>\n      <td>Drug Stores and Pharmacies</td>\n      <td>57.0</td>\n      <td>RUSSIA</td>\n      <td>Voronezh</td>\n      <td>19/04/16</td>\n      <td>13/04/20</td>\n      <td>0.0</td>\n      <td>0.0</td>\n      <td>1.0</td>\n      <td>0.0</td>\n    </tr>\n    <tr>\n      <th>29</th>\n      <td>37349872</td>\n      <td>27/12/20</td>\n      <td>5921.0</td>\n      <td>346.95</td>\n      <td>1.0</td>\n      <td>Package Stores--Beer, Wine, and Liquor</td>\n      <td>40.0</td>\n      <td>RUSSIA</td>\n      <td>Kazan</td>\n      <td>15/12/16</td>\n      <td>02/01/21</td>\n      <td>1.0</td>\n      <td>1.0</td>\n      <td>1.0</td>\n      <td>0.0</td>\n    </tr>\n    <tr>\n      <th>30</th>\n      <td>18760488</td>\n      <td>18/02/21</td>\n      <td>5411.0</td>\n      <td>3309.66</td>\n      <td>3.0</td>\n      <td>Grocery Stores and Supermarkets</td>\n      <td>30.0</td>\n      <td>RUSSIA</td>\n      <td>Volgograd</td>\n      <td>25/07/14</td>\n      <td>28/11/19</td>\n      <td>0.0</td>\n      <td>0.0</td>\n      <td>1.0</td>\n      <td>0.0</td>\n    </tr>\n    <tr>\n      <th>31</th>\n      <td>22131863</td>\n      <td>11/5/2021</td>\n      <td>5814.0</td>\n      <td>677.00</td>\n      <td>1.0</td>\n      <td>Quick Payment Service-Fast Food Restaurants</td>\n      <td>37.0</td>\n      <td>RUSSIA</td>\n      <td>Saint-Petersburg</td>\n      <td>25/02/14</td>\n      <td>30/04/15</td>\n      <td>0.0</td>\n      <td>0.0</td>\n      <td>1.0</td>\n      <td>0.0</td>\n    </tr>\n    <tr>\n      <th>32</th>\n      <td>6246037</td>\n      <td>19/03/20</td>\n      <td>4111.0</td>\n      <td>41.00</td>\n      <td>1.0</td>\n      <td>Local and Suburban Commuter Passenger Transpor...</td>\n      <td>43.0</td>\n      <td>RUSSIA</td>\n      <td>Moscow</td>\n      <td>04/08/14</td>\n      <td>31/01/21</td>\n      <td>1.0</td>\n      <td>1.0</td>\n      <td>1.0</td>\n      <td>0.0</td>\n    </tr>\n    <tr>\n      <th>33</th>\n      <td>3041427</td>\n      <td>15/04/21</td>\n      <td>5812.0</td>\n      <td>180.13</td>\n      <td>1.0</td>\n      <td>Eating Places and Restaurants</td>\n      <td>53.0</td>\n      <td>RUSSIA</td>\n      <td>Odintsovo</td>\n      <td>27/11/18</td>\n      <td>01/07/21</td>\n      <td>0.0</td>\n      <td>1.0</td>\n      <td>1.0</td>\n      <td>1.0</td>\n    </tr>\n    <tr>\n      <th>34</th>\n      <td>5865446</td>\n      <td>18/07/21</td>\n      <td>5200.0</td>\n      <td>0.00</td>\n      <td>0.0</td>\n      <td>Home Supply Warehouse</td>\n      <td>37.0</td>\n      <td>RUSSIA</td>\n      <td>Vladivostok</td>\n      <td>06/08/20</td>\n      <td>02/05/21</td>\n      <td>0.0</td>\n      <td>1.0</td>\n      <td>1.0</td>\n      <td>1.0</td>\n    </tr>\n    <tr>\n      <th>35</th>\n      <td>20148603</td>\n      <td>8/10/2021</td>\n      <td>5814.0</td>\n      <td>648.00</td>\n      <td>2.0</td>\n      <td>Quick Payment Service-Fast Food Restaurants</td>\n      <td>24.0</td>\n      <td>RUSSIA</td>\n      <td>Samara</td>\n      <td>01/04/19</td>\n      <td>02/10/20</td>\n      <td>0.0</td>\n      <td>1.0</td>\n      <td>1.0</td>\n      <td>1.0</td>\n    </tr>\n    <tr>\n      <th>36</th>\n      <td>35583487</td>\n      <td>27/05/21</td>\n      <td>5691.0</td>\n      <td>545.00</td>\n      <td>1.0</td>\n      <td>Men's and Women's Clothing Stores</td>\n      <td>44.0</td>\n      <td>RUSSIA</td>\n      <td>Kazan</td>\n      <td>09/09/20</td>\n      <td>19/09/20</td>\n      <td>0.0</td>\n      <td>0.0</td>\n      <td>1.0</td>\n      <td>0.0</td>\n    </tr>\n    <tr>\n      <th>37</th>\n      <td>52326716</td>\n      <td>17/11/20</td>\n      <td>5411.0</td>\n      <td>593.49</td>\n      <td>2.0</td>\n      <td>Grocery Stores and Supermarkets</td>\n      <td>74.0</td>\n      <td>RUSSIA</td>\n      <td>Volgograd</td>\n      <td>09/12/12</td>\n      <td>06/01/14</td>\n      <td>0.0</td>\n      <td>0.0</td>\n      <td>1.0</td>\n      <td>0.0</td>\n    </tr>\n    <tr>\n      <th>38</th>\n      <td>19936926</td>\n      <td>3/10/2021</td>\n      <td>5816.0</td>\n      <td>785.20</td>\n      <td>2.0</td>\n      <td>Digital Goods – Games</td>\n      <td>20.0</td>\n      <td>RUSSIA</td>\n      <td>Novokuznetsk</td>\n      <td>16/08/19</td>\n      <td>08/12/19</td>\n      <td>0.0</td>\n      <td>1.0</td>\n      <td>1.0</td>\n      <td>0.0</td>\n    </tr>\n    <tr>\n      <th>39</th>\n      <td>21595022</td>\n      <td>22/05/20</td>\n      <td>5411.0</td>\n      <td>52.99</td>\n      <td>1.0</td>\n      <td>Grocery Stores and Supermarkets</td>\n      <td>36.0</td>\n      <td>RUSSIA</td>\n      <td>Ekaterinburg</td>\n      <td>25/09/17</td>\n      <td>07/02/19</td>\n      <td>0.0</td>\n      <td>0.0</td>\n      <td>1.0</td>\n      <td>0.0</td>\n    </tr>\n    <tr>\n      <th>40</th>\n      <td>35273518</td>\n      <td>28/01/20</td>\n      <td>4814.0</td>\n      <td>60.00</td>\n      <td>1.0</td>\n      <td>Telecommunication Services, Including Local an...</td>\n      <td>56.0</td>\n      <td>RUSSIA</td>\n      <td>Saint-Petersburg</td>\n      <td>13/03/12</td>\n      <td>14/09/17</td>\n      <td>1.0</td>\n      <td>0.0</td>\n      <td>1.0</td>\n      <td>0.0</td>\n    </tr>\n    <tr>\n      <th>41</th>\n      <td>17264</td>\n      <td>24/08/20</td>\n      <td>8999.0</td>\n      <td>200.00</td>\n      <td>1.0</td>\n      <td>Professional Services - Not Elsewhere Classified</td>\n      <td>20.0</td>\n      <td>RUSSIA</td>\n      <td>Sevastopol</td>\n      <td>21/07/20</td>\n      <td>03/10/21</td>\n      <td>0.0</td>\n      <td>0.0</td>\n      <td>1.0</td>\n      <td>0.0</td>\n    </tr>\n    <tr>\n      <th>42</th>\n      <td>51650053</td>\n      <td>30/09/21</td>\n      <td>5812.0</td>\n      <td>216.07</td>\n      <td>1.0</td>\n      <td>Eating Places and Restaurants</td>\n      <td>54.0</td>\n      <td>RUSSIA</td>\n      <td>Volgograd</td>\n      <td>15/02/19</td>\n      <td>12/05/20</td>\n      <td>0.0</td>\n      <td>0.0</td>\n      <td>1.0</td>\n      <td>0.0</td>\n    </tr>\n    <tr>\n      <th>43</th>\n      <td>50722490</td>\n      <td>17/05/21</td>\n      <td>5921.0</td>\n      <td>0.00</td>\n      <td>0.0</td>\n      <td>Package Stores--Beer, Wine, and Liquor</td>\n      <td>NaN</td>\n      <td>NaN</td>\n      <td>NaN</td>\n      <td>NaN</td>\n      <td>NaN</td>\n      <td>NaN</td>\n      <td>NaN</td>\n      <td>NaN</td>\n      <td>NaN</td>\n    </tr>\n    <tr>\n      <th>44</th>\n      <td>4762793</td>\n      <td>4/6/2021</td>\n      <td>5814.0</td>\n      <td>66.00</td>\n      <td>1.0</td>\n      <td>Quick Payment Service-Fast Food Restaurants</td>\n      <td>57.0</td>\n      <td>RUSSIA</td>\n      <td>Voronezh</td>\n      <td>28/08/16</td>\n      <td>01/09/16</td>\n      <td>0.0</td>\n      <td>1.0</td>\n      <td>1.0</td>\n      <td>0.0</td>\n    </tr>\n    <tr>\n      <th>45</th>\n      <td>23709347</td>\n      <td>8/3/2020</td>\n      <td>5912.0</td>\n      <td>342.00</td>\n      <td>1.0</td>\n      <td>Drug Stores and Pharmacies</td>\n      <td>47.0</td>\n      <td>RUSSIA</td>\n      <td>Odintsovo</td>\n      <td>02/04/19</td>\n      <td>24/08/21</td>\n      <td>0.0</td>\n      <td>0.0</td>\n      <td>1.0</td>\n      <td>0.0</td>\n    </tr>\n    <tr>\n      <th>46</th>\n      <td>41542949</td>\n      <td>5/7/2021</td>\n      <td>5912.0</td>\n      <td>75.00</td>\n      <td>1.0</td>\n      <td>Drug Stores and Pharmacies</td>\n      <td>42.0</td>\n      <td>RUSSIA</td>\n      <td>Samara</td>\n      <td>05/05/17</td>\n      <td>30/01/19</td>\n      <td>0.0</td>\n      <td>0.0</td>\n      <td>1.0</td>\n      <td>0.0</td>\n    </tr>\n    <tr>\n      <th>47</th>\n      <td>21221286</td>\n      <td>20/04/21</td>\n      <td>5200.0</td>\n      <td>-250.00</td>\n      <td>-1.0</td>\n      <td>Home Supply Warehouse</td>\n      <td>37.0</td>\n      <td>RUSSIA</td>\n      <td>Krasnogorsk</td>\n      <td>20/08/12</td>\n      <td>25/06/19</td>\n      <td>1.0</td>\n      <td>0.0</td>\n      <td>1.0</td>\n      <td>0.0</td>\n    </tr>\n    <tr>\n      <th>48</th>\n      <td>19360036</td>\n      <td>12/5/2020</td>\n      <td>5411.0</td>\n      <td>263.77</td>\n      <td>2.0</td>\n      <td>Grocery Stores and Supermarkets</td>\n      <td>46.0</td>\n      <td>RUSSIA</td>\n      <td>Moscow</td>\n      <td>24/04/19</td>\n      <td>17/10/20</td>\n      <td>0.0</td>\n      <td>0.0</td>\n      <td>1.0</td>\n      <td>0.0</td>\n    </tr>\n    <tr>\n      <th>49</th>\n      <td>48906935</td>\n      <td>19/02/21</td>\n      <td>5541.0</td>\n      <td>1383.00</td>\n      <td>1.0</td>\n      <td>Service Stations (with or without Ancillary Se...</td>\n      <td>NaN</td>\n      <td>NaN</td>\n      <td>NaN</td>\n      <td>NaN</td>\n      <td>NaN</td>\n      <td>NaN</td>\n      <td>NaN</td>\n      <td>NaN</td>\n      <td>NaN</td>\n    </tr>\n  </tbody>\n</table>\n</div>"
          },
          "metadata": {}
        }
      ],
      "id": "20e22ca4"
    },
    {
      "cell_type": "code",
      "source": "sns.heatmap(data.corr(method='pearson'),annot=True)",
      "metadata": {
        "trusted": true
      },
      "execution_count": 175,
      "outputs": [
        {
          "execution_count": 175,
          "output_type": "execute_result",
          "data": {
            "text/plain": "<AxesSubplot:>"
          },
          "metadata": {}
        }
      ],
      "id": "bd2742f6"
    },
    {
      "cell_type": "code",
      "source": "plt.show()",
      "metadata": {
        "trusted": true
      },
      "execution_count": 176,
      "outputs": [
        {
          "output_type": "display_data",
          "data": {
            "text/plain": "<pyolite.display.Image at 0xb6d66f0>",
            "image/png": "[encoded data removed]"
          },
          "metadata": {}
        }
      ],
      "id": "549c32ff-2855-47e4-9faf-34075ee2f651"
    },
    {
      "cell_type": "code",
      "source": "\nfrom sklearn.cluster import KMeans\nawait piplite.install('plotly')\nimport plotly.graph_objects as go",
      "metadata": {
        "trusted": true
      },
      "execution_count": 178,
      "outputs": [],
      "id": "294ba99e"
    },
    {
      "cell_type": "code",
      "source": "from sklearn.preprocessing import LabelEncoder",
      "metadata": {
        "trusted": true
      },
      "execution_count": 179,
      "outputs": [],
      "id": "6feae415"
    },
    {
      "cell_type": "code",
      "source": "le = LabelEncoder()",
      "metadata": {
        "trusted": true
      },
      "execution_count": 180,
      "outputs": [],
      "id": "b2c9db38"
    },
    {
      "cell_type": "code",
      "source": "data2['program_type'] = le.fit_transform(data2['program_type'])",
      "metadata": {
        "trusted": true
      },
      "execution_count": 181,
      "outputs": [],
      "id": "8cf6c7f7"
    },
    {
      "cell_type": "code",
      "source": "data2['city_of_living'] = le.fit_transform(data2['city_of_living'])",
      "metadata": {
        "trusted": true
      },
      "execution_count": 182,
      "outputs": [],
      "id": "33f7047d"
    },
    {
      "cell_type": "code",
      "source": "data2.isna().sum()",
      "metadata": {
        "trusted": true
      },
      "execution_count": 183,
      "outputs": [
        {
          "execution_count": 183,
          "output_type": "execute_result",
          "data": {
            "text/plain": "uid1                         0\ndate_pur                     1\nmcc_id                       1\ntransaction_amt              1\ntransaction_qty              1\nprogram_type                 0\ncustomer_age               905\ncountry                    905\ncity_of_living               0\nregistration_dt            905\nwebsite_last_visit_date    905\nemail                      905\nhas_mob_app                905\nphone_number               905\npush                       905\ndtype: int64"
          },
          "metadata": {}
        }
      ],
      "id": "6cfc9e9b"
    },
    {
      "cell_type": "code",
      "source": "data2.shape",
      "metadata": {
        "trusted": true
      },
      "execution_count": 184,
      "outputs": [
        {
          "execution_count": 184,
          "output_type": "execute_result",
          "data": {
            "text/plain": "(32538, 15)"
          },
          "metadata": {}
        }
      ],
      "id": "bfb05c84"
    },
    {
      "cell_type": "code",
      "source": "data2 = data2.dropna()",
      "metadata": {
        "trusted": true
      },
      "execution_count": 185,
      "outputs": [],
      "id": "b99df295"
    },
    {
      "cell_type": "code",
      "source": "X = data2[['transaction_amt','customer_age','city_of_living','has_mob_app']]",
      "metadata": {
        "trusted": true
      },
      "execution_count": 186,
      "outputs": [],
      "id": "2fff873a"
    },
    {
      "cell_type": "code",
      "source": "# Implemeting Elbow Method to Determine Optimal Clusters\n\nSum_of_squared_distances = []\nclus_range = range(1,12)\nfor k in clus_range:\n    km = KMeans(n_clusters=k)\n    km = km.fit(X)\n    Sum_of_squared_distances.append(km.inertia_)\nplt.plot(clus_range, Sum_of_squared_distances)\nplt.xlabel('k')\nplt.ylabel('Sum_of_squared_distances')\nplt.title('Elbow Method For Optimal k') #Showing 3 as optimal Clusters",
      "metadata": {
        "trusted": true
      },
      "execution_count": 187,
      "outputs": [
        {
          "execution_count": 187,
          "output_type": "execute_result",
          "data": {
            "text/plain": "Text(0.5, 1.0, 'Elbow Method For Optimal k')"
          },
          "metadata": {}
        }
      ],
      "id": "80b7225a"
    },
    {
      "cell_type": "code",
      "source": "\nkmean = KMeans(n_clusters =2,init='k-means++',random_state=2,algorithm='full')\n\nkmean.fit(X)\n\nclus=  kmean.predict(X)",
      "metadata": {
        "trusted": true
      },
      "execution_count": 189,
      "outputs": [
        {
          "name": "stderr",
          "text": "/lib/python3.10/site-packages/sklearn/cluster/_kmeans.py:1316: FutureWarning: algorithm='full' is deprecated, it will be removed in 1.3. Using 'lloyd' instead.\n  warnings.warn(\n",
          "output_type": "stream"
        }
      ],
      "id": "3916d520"
    },
    {
      "cell_type": "code",
      "source": "#Showing Centroids\n\ncent = kmean.cluster_centers_\n\n\nprint(cent)",
      "metadata": {
        "trusted": true
      },
      "execution_count": 190,
      "outputs": [
        {
          "name": "stdout",
          "text": "[[7.81414539e+02 3.97905286e+01 9.92039707e+00 3.51289833e-01]\n [1.50000000e+06 5.20000000e+01 4.00000000e+00 1.00000000e+00]]\n",
          "output_type": "stream"
        }
      ],
      "id": "654ef6c5"
    },
    {
      "cell_type": "code",
      "source": "sns.countplot(x=clus)",
      "metadata": {
        "trusted": true
      },
      "execution_count": 191,
      "outputs": [
        {
          "execution_count": 191,
          "output_type": "execute_result",
          "data": {
            "text/plain": "<AxesSubplot:title={'center':'Elbow Method For Optimal k'}, xlabel='k', ylabel='count'>"
          },
          "metadata": {}
        }
      ],
      "id": "1f61924d"
    },
    {
      "cell_type": "code",
      "source": "data2.columns",
      "metadata": {
        "trusted": true
      },
      "execution_count": 192,
      "outputs": [
        {
          "execution_count": 192,
          "output_type": "execute_result",
          "data": {
            "text/plain": "Index(['uid1', 'date_pur', 'mcc_id', 'transaction_amt', 'transaction_qty',\n       'program_type', 'customer_age', 'country', 'city_of_living',\n       'registration_dt', 'website_last_visit_date', 'email', 'has_mob_app',\n       'phone_number', 'push'],\n      dtype='object')"
          },
          "metadata": {}
        }
      ],
      "id": "09e353d6"
    },
    {
      "cell_type": "code",
      "source": "data['transaction_amt'].hist()",
      "metadata": {
        "trusted": true
      },
      "execution_count": 193,
      "outputs": [
        {
          "execution_count": 193,
          "output_type": "execute_result",
          "data": {
            "text/plain": "<AxesSubplot:title={'center':'Elbow Method For Optimal k'}, xlabel='k', ylabel='count'>"
          },
          "metadata": {}
        }
      ],
      "id": "b239a458"
    },
    {
      "cell_type": "code",
      "source": "data['transaction_qty'].hist()",
      "metadata": {
        "trusted": true
      },
      "execution_count": 194,
      "outputs": [
        {
          "execution_count": 194,
          "output_type": "execute_result",
          "data": {
            "text/plain": "<AxesSubplot:title={'center':'Elbow Method For Optimal k'}, xlabel='k', ylabel='count'>"
          },
          "metadata": {}
        }
      ],
      "id": "4dc4c6fa"
    },
    {
      "cell_type": "code",
      "source": "data2['customer_age'].hist()",
      "metadata": {
        "trusted": true
      },
      "execution_count": 195,
      "outputs": [
        {
          "execution_count": 195,
          "output_type": "execute_result",
          "data": {
            "text/plain": "<AxesSubplot:title={'center':'Elbow Method For Optimal k'}, xlabel='k', ylabel='count'>"
          },
          "metadata": {}
        }
      ],
      "id": "bbefb5be"
    },
    {
      "cell_type": "code",
      "source": "data2['city_of_living'] = le.inverse_transform(data2['city_of_living'])",
      "metadata": {
        "trusted": true
      },
      "execution_count": 196,
      "outputs": [],
      "id": "9856abd5"
    },
    {
      "cell_type": "code",
      "source": "moscow = data2.loc[data2['city_of_living']=='Moscow']",
      "metadata": {
        "trusted": true
      },
      "execution_count": 197,
      "outputs": [],
      "id": "773e62b2"
    },
    {
      "cell_type": "code",
      "source": "moscow",
      "metadata": {
        "trusted": true
      },
      "execution_count": 198,
      "outputs": [
        {
          "execution_count": 198,
          "output_type": "execute_result",
          "data": {
            "text/plain": "           uid1   date_pur  mcc_id  transaction_amt  transaction_qty  \\\n2      47705198   2/4/2021  4111.0            72.00              0.0   \n10     20271100  9/11/2020  5814.0           217.50              1.0   \n19     14855276  10/3/2020  4121.0           104.00              2.0   \n32      6246037   19/03/20  4111.0            41.00              1.0   \n48     19360036  12/5/2020  5411.0           263.77              2.0   \n...         ...        ...     ...              ...              ...   \n32509  31909673   18/07/21  5977.0           171.90              1.0   \n32511  19511718   2/3/2020  5411.0           590.00              1.0   \n32512  13062850   24/06/21  4121.0           187.00              1.0   \n32520  49520526   31/08/21  4131.0            42.00              1.0   \n32521  30416916   22/03/20  5411.0          2300.73              1.0   \n\n       program_type  customer_age country city_of_living registration_dt  \\\n2               111          33.0  RUSSIA         Moscow        11/01/17   \n10              160          25.0  RUSSIA         Moscow        10/07/17   \n19              179          39.0  RUSSIA         Moscow        14/11/12   \n32              111          43.0  RUSSIA         Moscow        04/08/14   \n48               98          46.0  RUSSIA         Moscow        24/04/19   \n...             ...           ...     ...            ...             ...   \n32509            51          17.0  RUSSIA         Moscow        30/03/21   \n32511            98          68.0  RUSSIA         Moscow        04/02/16   \n32512           179          35.0  RUSSIA         Moscow        10/12/13   \n32520            20          42.0  RUSSIA         Moscow        16/02/13   \n32521            98          50.0  RUSSIA         Moscow        24/06/13   \n\n      website_last_visit_date  email  has_mob_app  phone_number  push  \n2                    09/11/18    0.0          0.0           1.0   0.0  \n10                   06/09/20    0.0          1.0           1.0   1.0  \n19                   30/06/19    1.0          1.0           1.0   1.0  \n32                   31/01/21    1.0          1.0           1.0   0.0  \n48                   17/10/20    0.0          0.0           1.0   0.0  \n...                       ...    ...          ...           ...   ...  \n32509                30/08/21    0.0          0.0           1.0   0.0  \n32511                21/12/17    1.0          1.0           1.0   0.0  \n32512                17/02/21    0.0          0.0           1.0   0.0  \n32520                09/02/18    0.0          0.0           1.0   0.0  \n32521                19/01/15    1.0          1.0           1.0   0.0  \n\n[3804 rows x 15 columns]",
            "text/html": "<div>\n<style scoped>\n    .dataframe tbody tr th:only-of-type {\n        vertical-align: middle;\n    }\n\n    .dataframe tbody tr th {\n        vertical-align: top;\n    }\n\n    .dataframe thead th {\n        text-align: right;\n    }\n</style>\n<table border=\"1\" class=\"dataframe\">\n  <thead>\n    <tr style=\"text-align: right;\">\n      <th></th>\n      <th>uid1</th>\n      <th>date_pur</th>\n      <th>mcc_id</th>\n      <th>transaction_amt</th>\n      <th>transaction_qty</th>\n      <th>program_type</th>\n      <th>customer_age</th>\n      <th>country</th>\n      <th>city_of_living</th>\n      <th>registration_dt</th>\n      <th>website_last_visit_date</th>\n      <th>email</th>\n      <th>has_mob_app</th>\n      <th>phone_number</th>\n      <th>push</th>\n    </tr>\n  </thead>\n  <tbody>\n    <tr>\n      <th>2</th>\n      <td>47705198</td>\n      <td>2/4/2021</td>\n      <td>4111.0</td>\n      <td>72.00</td>\n      <td>0.0</td>\n      <td>111</td>\n      <td>33.0</td>\n      <td>RUSSIA</td>\n      <td>Moscow</td>\n      <td>11/01/17</td>\n      <td>09/11/18</td>\n      <td>0.0</td>\n      <td>0.0</td>\n      <td>1.0</td>\n      <td>0.0</td>\n    </tr>\n    <tr>\n      <th>10</th>\n      <td>20271100</td>\n      <td>9/11/2020</td>\n      <td>5814.0</td>\n      <td>217.50</td>\n      <td>1.0</td>\n      <td>160</td>\n      <td>25.0</td>\n      <td>RUSSIA</td>\n      <td>Moscow</td>\n      <td>10/07/17</td>\n      <td>06/09/20</td>\n      <td>0.0</td>\n      <td>1.0</td>\n      <td>1.0</td>\n      <td>1.0</td>\n    </tr>\n    <tr>\n      <th>19</th>\n      <td>14855276</td>\n      <td>10/3/2020</td>\n      <td>4121.0</td>\n      <td>104.00</td>\n      <td>2.0</td>\n      <td>179</td>\n      <td>39.0</td>\n      <td>RUSSIA</td>\n      <td>Moscow</td>\n      <td>14/11/12</td>\n      <td>30/06/19</td>\n      <td>1.0</td>\n      <td>1.0</td>\n      <td>1.0</td>\n      <td>1.0</td>\n    </tr>\n    <tr>\n      <th>32</th>\n      <td>6246037</td>\n      <td>19/03/20</td>\n      <td>4111.0</td>\n      <td>41.00</td>\n      <td>1.0</td>\n      <td>111</td>\n      <td>43.0</td>\n      <td>RUSSIA</td>\n      <td>Moscow</td>\n      <td>04/08/14</td>\n      <td>31/01/21</td>\n      <td>1.0</td>\n      <td>1.0</td>\n      <td>1.0</td>\n      <td>0.0</td>\n    </tr>\n    <tr>\n      <th>48</th>\n      <td>19360036</td>\n      <td>12/5/2020</td>\n      <td>5411.0</td>\n      <td>263.77</td>\n      <td>2.0</td>\n      <td>98</td>\n      <td>46.0</td>\n      <td>RUSSIA</td>\n      <td>Moscow</td>\n      <td>24/04/19</td>\n      <td>17/10/20</td>\n      <td>0.0</td>\n      <td>0.0</td>\n      <td>1.0</td>\n      <td>0.0</td>\n    </tr>\n    <tr>\n      <th>...</th>\n      <td>...</td>\n      <td>...</td>\n      <td>...</td>\n      <td>...</td>\n      <td>...</td>\n      <td>...</td>\n      <td>...</td>\n      <td>...</td>\n      <td>...</td>\n      <td>...</td>\n      <td>...</td>\n      <td>...</td>\n      <td>...</td>\n      <td>...</td>\n      <td>...</td>\n    </tr>\n    <tr>\n      <th>32509</th>\n      <td>31909673</td>\n      <td>18/07/21</td>\n      <td>5977.0</td>\n      <td>171.90</td>\n      <td>1.0</td>\n      <td>51</td>\n      <td>17.0</td>\n      <td>RUSSIA</td>\n      <td>Moscow</td>\n      <td>30/03/21</td>\n      <td>30/08/21</td>\n      <td>0.0</td>\n      <td>0.0</td>\n      <td>1.0</td>\n      <td>0.0</td>\n    </tr>\n    <tr>\n      <th>32511</th>\n      <td>19511718</td>\n      <td>2/3/2020</td>\n      <td>5411.0</td>\n      <td>590.00</td>\n      <td>1.0</td>\n      <td>98</td>\n      <td>68.0</td>\n      <td>RUSSIA</td>\n      <td>Moscow</td>\n      <td>04/02/16</td>\n      <td>21/12/17</td>\n      <td>1.0</td>\n      <td>1.0</td>\n      <td>1.0</td>\n      <td>0.0</td>\n    </tr>\n    <tr>\n      <th>32512</th>\n      <td>13062850</td>\n      <td>24/06/21</td>\n      <td>4121.0</td>\n      <td>187.00</td>\n      <td>1.0</td>\n      <td>179</td>\n      <td>35.0</td>\n      <td>RUSSIA</td>\n      <td>Moscow</td>\n      <td>10/12/13</td>\n      <td>17/02/21</td>\n      <td>0.0</td>\n      <td>0.0</td>\n      <td>1.0</td>\n      <td>0.0</td>\n    </tr>\n    <tr>\n      <th>32520</th>\n      <td>49520526</td>\n      <td>31/08/21</td>\n      <td>4131.0</td>\n      <td>42.00</td>\n      <td>1.0</td>\n      <td>20</td>\n      <td>42.0</td>\n      <td>RUSSIA</td>\n      <td>Moscow</td>\n      <td>16/02/13</td>\n      <td>09/02/18</td>\n      <td>0.0</td>\n      <td>0.0</td>\n      <td>1.0</td>\n      <td>0.0</td>\n    </tr>\n    <tr>\n      <th>32521</th>\n      <td>30416916</td>\n      <td>22/03/20</td>\n      <td>5411.0</td>\n      <td>2300.73</td>\n      <td>1.0</td>\n      <td>98</td>\n      <td>50.0</td>\n      <td>RUSSIA</td>\n      <td>Moscow</td>\n      <td>24/06/13</td>\n      <td>19/01/15</td>\n      <td>1.0</td>\n      <td>1.0</td>\n      <td>1.0</td>\n      <td>0.0</td>\n    </tr>\n  </tbody>\n</table>\n<p>3804 rows × 15 columns</p>\n</div>"
          },
          "metadata": {}
        }
      ],
      "id": "7e8136b3"
    },
    {
      "cell_type": "code",
      "source": "len(data2['city_of_living'].unique())",
      "metadata": {
        "trusted": true
      },
      "execution_count": 199,
      "outputs": [
        {
          "execution_count": 199,
          "output_type": "execute_result",
          "data": {
            "text/plain": "21"
          },
          "metadata": {}
        }
      ],
      "id": "eb38e121"
    },
    {
      "cell_type": "code",
      "source": "unique_city = data2['city_of_living'].unique()",
      "metadata": {
        "trusted": true
      },
      "execution_count": 200,
      "outputs": [],
      "id": "2c59e667"
    },
    {
      "cell_type": "code",
      "source": "unique_city",
      "metadata": {
        "trusted": true
      },
      "execution_count": 201,
      "outputs": [
        {
          "execution_count": 201,
          "output_type": "execute_result",
          "data": {
            "text/plain": "array(['Novokuznetsk', 'Moscow', 'Voronezh', 'Volgograd', 'Vladivostok',\n       'Odintsovo', 'Saint-Petersburg', 'Obninsk', 'Krasnodar', 'Kazan',\n       'Krasnogorsk', 'Sevastopol', 'Perm', 'Pushkin', 'Samara',\n       'Ekaterinburg', 'Novosibirsk', 'Kaliningrad', 'Omsk', 'Ufa',\n       'Tomsk'], dtype=object)"
          },
          "metadata": {}
        }
      ],
      "id": "3cc40fa5"
    },
    {
      "cell_type": "code",
      "source": "saint_petersburg = data2.loc[data2['city_of_living']=='Saint-Petersburg']",
      "metadata": {
        "trusted": true
      },
      "execution_count": 202,
      "outputs": [],
      "id": "2cf15ebc"
    },
    {
      "cell_type": "code",
      "source": "perm = data2.loc[data2['city_of_living']=='Perm']",
      "metadata": {
        "trusted": true
      },
      "execution_count": 203,
      "outputs": [],
      "id": "fc118de7"
    },
    {
      "cell_type": "code",
      "source": "moscow['transaction_amt'].sum()",
      "metadata": {
        "trusted": true
      },
      "execution_count": 204,
      "outputs": [
        {
          "execution_count": 204,
          "output_type": "execute_result",
          "data": {
            "text/plain": "2925636.9299999997"
          },
          "metadata": {}
        }
      ],
      "id": "2714dae9"
    },
    {
      "cell_type": "code",
      "source": "moscow['transaction_amt'].mean()",
      "metadata": {
        "trusted": true
      },
      "execution_count": 205,
      "outputs": [
        {
          "execution_count": 205,
          "output_type": "execute_result",
          "data": {
            "text/plain": "769.0948817034699"
          },
          "metadata": {}
        }
      ],
      "id": "3f99b0bd"
    },
    {
      "cell_type": "code",
      "source": "saint_petersburg['transaction_amt'].sum()",
      "metadata": {
        "trusted": true
      },
      "execution_count": 206,
      "outputs": [
        {
          "execution_count": 206,
          "output_type": "execute_result",
          "data": {
            "text/plain": "783056.71"
          },
          "metadata": {}
        }
      ],
      "id": "a1304d1e"
    },
    {
      "cell_type": "code",
      "source": "saint_petersburg['transaction_amt'].mean()",
      "metadata": {
        "trusted": true
      },
      "execution_count": 207,
      "outputs": [
        {
          "execution_count": 207,
          "output_type": "execute_result",
          "data": {
            "text/plain": "579.1839571005917"
          },
          "metadata": {}
        }
      ],
      "id": "ad3dda4a"
    },
    {
      "cell_type": "code",
      "source": "np.var(moscow['transaction_amt'])",
      "metadata": {
        "trusted": true
      },
      "execution_count": 208,
      "outputs": [
        {
          "execution_count": 208,
          "output_type": "execute_result",
          "data": {
            "text/plain": "9225163.021151064"
          },
          "metadata": {}
        }
      ],
      "id": "2b331060"
    },
    {
      "cell_type": "code",
      "source": "np.var(saint_petersburg['transaction_amt'])",
      "metadata": {
        "trusted": true
      },
      "execution_count": 209,
      "outputs": [
        {
          "execution_count": 209,
          "output_type": "execute_result",
          "data": {
            "text/plain": "1764872.0576014272"
          },
          "metadata": {}
        }
      ],
      "id": "39d90be5"
    },
    {
      "cell_type": "markdown",
      "source": "## First Hypothesis Mean amount of transaction in Moscow is Higher than Saint Petersburg",
      "metadata": {},
      "id": "760a5008"
    },
    {
      "cell_type": "code",
      "source": "from scipy import stats as st\nalpha = 0.05\nresult = st.ttest_ind(moscow['transaction_amt'],saint_petersburg['transaction_amt'],equal_var=False)\nprint(\"P Value:\",result.pvalue)\nif (result.pvalue < alpha):\n    print(\"We reject the null hypothesis\")\nelse:\n    print(\"We cannot reject null hypothesis\")\n",
      "metadata": {
        "trusted": true
      },
      "execution_count": 210,
      "outputs": [
        {
          "name": "stdout",
          "text": "P Value: 0.001890038832013092\nWe reject the null hypothesis\n",
          "output_type": "stream"
        }
      ],
      "id": "1c49b12b"
    },
    {
      "cell_type": "code",
      "source": "data2['customer_age'].hist(bins=10)",
      "metadata": {
        "trusted": true
      },
      "execution_count": 211,
      "outputs": [
        {
          "execution_count": 211,
          "output_type": "execute_result",
          "data": {
            "text/plain": "<AxesSubplot:title={'center':'Elbow Method For Optimal k'}, xlabel='k', ylabel='count'>"
          },
          "metadata": {}
        }
      ],
      "id": "63e1b041"
    },
    {
      "cell_type": "code",
      "source": "plt.show()",
      "metadata": {
        "trusted": true
      },
      "execution_count": 212,
      "outputs": [
        {
          "output_type": "display_data",
          "data": {
            "text/plain": "<pyolite.display.Image at 0x8bf85e8>",
            "image/png": "[encoded data removed]"
          },
          "metadata": {}
        }
      ],
      "id": "f10fc678-0bab-40b2-b36d-106f214ee120"
    },
    {
      "cell_type": "code",
      "source": "cust_30 = data2.loc[data2['customer_age']<=30]\ncust50 = data2.loc[(data2['customer_age']>30) & (data2['customer_age']<=50)]",
      "metadata": {
        "trusted": true
      },
      "execution_count": 213,
      "outputs": [],
      "id": "5e55afa4"
    },
    {
      "cell_type": "markdown",
      "source": "## Mean transaction amount of customers less than age 30 is less than mean transaction amount of customers between 30 to 50 age",
      "metadata": {},
      "id": "5a31a881"
    },
    {
      "cell_type": "code",
      "source": "cust_30['transaction_amt'].mean()",
      "metadata": {
        "trusted": true
      },
      "execution_count": 214,
      "outputs": [
        {
          "execution_count": 214,
          "output_type": "execute_result",
          "data": {
            "text/plain": "534.0059067965724"
          },
          "metadata": {}
        }
      ],
      "id": "12497809"
    },
    {
      "cell_type": "code",
      "source": "cust50['transaction_amt'].mean()",
      "metadata": {
        "trusted": true
      },
      "execution_count": 215,
      "outputs": [
        {
          "execution_count": 215,
          "output_type": "execute_result",
          "data": {
            "text/plain": "896.0395310236602"
          },
          "metadata": {}
        }
      ],
      "id": "4bd1fbb8"
    },
    {
      "cell_type": "code",
      "source": "np.var(cust_30['transaction_amt'])",
      "metadata": {
        "trusted": true
      },
      "execution_count": 216,
      "outputs": [
        {
          "execution_count": 216,
          "output_type": "execute_result",
          "data": {
            "text/plain": "2978158.526520175"
          },
          "metadata": {}
        }
      ],
      "id": "34689338"
    },
    {
      "cell_type": "code",
      "source": "np.var(cust50['transaction_amt'])",
      "metadata": {
        "trusted": true
      },
      "execution_count": 217,
      "outputs": [
        {
          "execution_count": 217,
          "output_type": "execute_result",
          "data": {
            "text/plain": "22843527.25719879"
          },
          "metadata": {}
        }
      ],
      "id": "12f6d7c8"
    },
    {
      "cell_type": "code",
      "source": "from scipy import stats as st\nalpha = 0.05\nresult = st.ttest_ind(cust_30['transaction_amt'],cust50['transaction_amt'],equal_var=False)\nprint(\"P Value:\",result.pvalue)\nif (result.pvalue < alpha):\n    print(\"We reject the null hypothesis\")\nelse:\n    print(\"We cannot reject null hypothesis\")",
      "metadata": {
        "trusted": true
      },
      "execution_count": 218,
      "outputs": [
        {
          "name": "stdout",
          "text": "P Value: 3.2975662171092877e-18\nWe reject the null hypothesis\n",
          "output_type": "stream"
        }
      ],
      "id": "6e4b01b4"
    },
    {
      "cell_type": "markdown",
      "source": "## mean transaction amount of customers who have mobile app is higher than mean transaction amount without mobile app",
      "metadata": {},
      "id": "8432c634"
    },
    {
      "cell_type": "code",
      "source": "cust_app = data2.loc[data2['has_mob_app']==1.0]\ncust_no_app = data2.loc[data2['has_mob_app']==0.0]",
      "metadata": {
        "trusted": true
      },
      "execution_count": 219,
      "outputs": [],
      "id": "0227d4eb"
    },
    {
      "cell_type": "code",
      "source": "cust_app['transaction_amt'].mean()",
      "metadata": {
        "trusted": true
      },
      "execution_count": 220,
      "outputs": [
        {
          "execution_count": 220,
          "output_type": "execute_result",
          "data": {
            "text/plain": "906.6261288580941"
          },
          "metadata": {}
        }
      ],
      "id": "016dd5d7"
    },
    {
      "cell_type": "code",
      "source": "cust_no_app['transaction_amt'].mean()",
      "metadata": {
        "trusted": true
      },
      "execution_count": 221,
      "outputs": [
        {
          "execution_count": 221,
          "output_type": "execute_result",
          "data": {
            "text/plain": "786.6651325536062"
          },
          "metadata": {}
        }
      ],
      "id": "8ba804fc"
    },
    {
      "cell_type": "code",
      "source": "np.var(cust_app['transaction_amt'])",
      "metadata": {
        "trusted": true
      },
      "execution_count": 222,
      "outputs": [
        {
          "execution_count": 222,
          "output_type": "execute_result",
          "data": {
            "text/plain": "208824559.8703664"
          },
          "metadata": {}
        }
      ],
      "id": "5f2eecbc"
    },
    {
      "cell_type": "code",
      "source": "np.var(cust_no_app['transaction_amt'])",
      "metadata": {
        "trusted": true
      },
      "execution_count": 223,
      "outputs": [
        {
          "execution_count": 223,
          "output_type": "execute_result",
          "data": {
            "text/plain": "21108235.897231884"
          },
          "metadata": {}
        }
      ],
      "id": "d6c5a0dc"
    },
    {
      "cell_type": "code",
      "source": "from scipy import stats as st\nalpha = 0.05\nresult = st.ttest_ind(cust_app['transaction_amt'],cust_no_app['transaction_amt'],equal_var=False)\nprint(\"P Value:\",result.pvalue)\nif (result.pvalue < alpha):\n    print(\"We reject the null hypothesis\")\nelse:\n    print(\"We cannot reject null hypothesis\")",
      "metadata": {
        "trusted": true
      },
      "execution_count": 224,
      "outputs": [
        {
          "name": "stdout",
          "text": "P Value: 0.3941946405196498\nWe cannot reject null hypothesis\n",
          "output_type": "stream"
        }
      ],
      "id": "77fc6cbd"
    },
    {
      "cell_type": "code",
      "source": "data2['city_of_living'] = le.fit_transform(data2['city_of_living'])",
      "metadata": {
        "trusted": true
      },
      "execution_count": 225,
      "outputs": [],
      "id": "bbebcf3e"
    },
    {
      "cell_type": "code",
      "source": "data2.columns",
      "metadata": {
        "trusted": true
      },
      "execution_count": 226,
      "outputs": [
        {
          "execution_count": 226,
          "output_type": "execute_result",
          "data": {
            "text/plain": "Index(['uid1', 'date_pur', 'mcc_id', 'transaction_amt', 'transaction_qty',\n       'program_type', 'customer_age', 'country', 'city_of_living',\n       'registration_dt', 'website_last_visit_date', 'email', 'has_mob_app',\n       'phone_number', 'push'],\n      dtype='object')"
          },
          "metadata": {}
        }
      ],
      "id": "11ddc9a7"
    },
    {
      "cell_type": "code",
      "source": "X = data2[['transaction_amt','transaction_qty','program_type','customer_age','city_of_living','has_mob_app',\n           'phone_number','push']]",
      "metadata": {
        "trusted": true
      },
      "execution_count": 227,
      "outputs": [],
      "id": "71143511"
    },
    {
      "cell_type": "code",
      "source": "len(X)",
      "metadata": {
        "trusted": true
      },
      "execution_count": 228,
      "outputs": [
        {
          "execution_count": 228,
          "output_type": "execute_result",
          "data": {
            "text/plain": "31633"
          },
          "metadata": {}
        }
      ],
      "id": "d585fbf7"
    },
    {
      "cell_type": "code",
      "source": "from sklearn.model_selection import train_test_split",
      "metadata": {
        "trusted": true
      },
      "execution_count": 229,
      "outputs": [],
      "id": "d1b0bc8f"
    },
    {
      "cell_type": "code",
      "source": "xtrain, xtrain = train_test_split(X,test_size=0.5,shuffle=True) ##Low computational Resources. ",
      "metadata": {
        "trusted": true
      },
      "execution_count": 230,
      "outputs": [],
      "id": "4be79247"
    },
    {
      "cell_type": "code",
      "source": "#import scipy.cluster.hierarchy as sch\n\n# graph size\n#plt.figure(1, figsize = (16 ,8))\n\n# creating the dendrogram\n#dendrogram = sch.dendrogram(sch.linkage(xtrain, method  = \"ward\"))\n\n# ploting graphabs\n#plt.title('Dendrogram')\n#plt.xlabel('Customers')\n#plt.ylabel('Euclidean distances')\n#plt.show()",
      "metadata": {
        "trusted": true
      },
      "execution_count": 231,
      "outputs": [],
      "id": "64f0148e"
    },
    {
      "cell_type": "code",
      "source": "# ---from sklearn.cluster import AgglomerativeClustering\n#from yellowbrick.cluster import KElbowVisualizer\n#model = AgglomerativeClustering()\n\n# k is range of number of clusters.\n#visualizer = KElbowVisualizer(model, k=(2,30), timings=False)\n# Fit data to visualizer\n#visualizer.fit(X)\n# Finalize and render figure\n#visualizer.show()---#",
      "metadata": {
        "trusted": true
      },
      "execution_count": 232,
      "outputs": [],
      "id": "4c3d7c42"
    },
    {
      "cell_type": "markdown",
      "source": "### Kernel was crashing to perform Agglomerative clustering due to less computational power. We need GPU machine and it was also not possible in Google COlab. However if we split datasets into multiple parts then it can work. It is for our future play with the data.",
      "metadata": {},
      "id": "84e715c2-c645-4cb0-b4eb-483e9a8fc191"
    },
    {
      "cell_type": "code",
      "source": "total=data2.assign(registration_dt = lambda x: pd.to_datetime(x.registration_dt), date_pur=lambda x: pd.to_datetime(x.date_pur))\\\n.iloc[:, [0, 9, 1]]",
      "metadata": {
        "trusted": true
      },
      "execution_count": 235,
      "outputs": [],
      "id": "39af417e"
    },
    {
      "cell_type": "markdown",
      "source": "### Cohort Analysis",
      "metadata": {},
      "id": "1a5720d3-4f92-4168-9db4-268dc0997fa7"
    },
    {
      "cell_type": "code",
      "source": "total=data2.assign(registration_dt = lambda x: pd.to_datetime(x.registration_dt), date_pur=lambda x: pd.to_datetime(x.date_pur))\\\n.iloc[:, [0, 9, 1]]",
      "metadata": {
        "trusted": true
      },
      "execution_count": 236,
      "outputs": [],
      "id": "f513fba9-99ea-41cd-a526-d15df7bd8a53"
    },
    {
      "cell_type": "code",
      "source": "total.dtypes",
      "metadata": {
        "trusted": true
      },
      "execution_count": 237,
      "outputs": [
        {
          "execution_count": 237,
          "output_type": "execute_result",
          "data": {
            "text/plain": "uid1                        int64\nregistration_dt    datetime64[ns]\ndate_pur           datetime64[ns]\ndtype: object"
          },
          "metadata": {}
        }
      ],
      "id": "c4e3a7f3-71ef-4271-b293-1ce5e56921c6"
    },
    {
      "cell_type": "code",
      "source": "#I will choose clients for cohort analysis based on their transactions. \n#I am interested in first purchase after registration of each client\ntotal1=total.groupby(['uid1', 'registration_dt'], as_index=False).agg({'date_pur':'min'})",
      "metadata": {
        "trusted": true
      },
      "execution_count": 238,
      "outputs": [],
      "id": "d724476c-fbb5-4cac-8691-3552a6378d10"
    },
    {
      "cell_type": "code",
      "source": "#Check the days difference between purchase and registration\ntotal1['diff']=total1.date_pur-total1.registration_dt",
      "metadata": {
        "trusted": true
      },
      "execution_count": 239,
      "outputs": [],
      "id": "e9f90f6f-f6cb-4b65-a47b-1d10c19315fd"
    },
    {
      "cell_type": "code",
      "source": "#These users made purchase at the same day after registration\ncohorts0=total1.query('diff == \"0 days\"')\ncohorts0",
      "metadata": {
        "trusted": true
      },
      "execution_count": 240,
      "outputs": [
        {
          "execution_count": 240,
          "output_type": "execute_result",
          "data": {
            "text/plain": "          uid1 registration_dt   date_pur   diff\n431    3654631      2021-08-23 2021-08-23 0 days\n1122   9035710      2020-01-24 2020-01-24 0 days\n1865  14760352      2021-01-20 2021-01-20 0 days\n3143  24411642      2021-07-30 2021-07-30 0 days\n3623  28233665      2020-08-13 2020-08-13 0 days\n3752  29116488      2021-06-16 2021-06-16 0 days\n4469  34350075      2020-11-19 2020-11-19 0 days\n5543  42102454      2021-05-18 2021-05-18 0 days\n6620  50671227      2021-01-05 2021-01-05 0 days",
            "text/html": "<div>\n<style scoped>\n    .dataframe tbody tr th:only-of-type {\n        vertical-align: middle;\n    }\n\n    .dataframe tbody tr th {\n        vertical-align: top;\n    }\n\n    .dataframe thead th {\n        text-align: right;\n    }\n</style>\n<table border=\"1\" class=\"dataframe\">\n  <thead>\n    <tr style=\"text-align: right;\">\n      <th></th>\n      <th>uid1</th>\n      <th>registration_dt</th>\n      <th>date_pur</th>\n      <th>diff</th>\n    </tr>\n  </thead>\n  <tbody>\n    <tr>\n      <th>431</th>\n      <td>3654631</td>\n      <td>2021-08-23</td>\n      <td>2021-08-23</td>\n      <td>0 days</td>\n    </tr>\n    <tr>\n      <th>1122</th>\n      <td>9035710</td>\n      <td>2020-01-24</td>\n      <td>2020-01-24</td>\n      <td>0 days</td>\n    </tr>\n    <tr>\n      <th>1865</th>\n      <td>14760352</td>\n      <td>2021-01-20</td>\n      <td>2021-01-20</td>\n      <td>0 days</td>\n    </tr>\n    <tr>\n      <th>3143</th>\n      <td>24411642</td>\n      <td>2021-07-30</td>\n      <td>2021-07-30</td>\n      <td>0 days</td>\n    </tr>\n    <tr>\n      <th>3623</th>\n      <td>28233665</td>\n      <td>2020-08-13</td>\n      <td>2020-08-13</td>\n      <td>0 days</td>\n    </tr>\n    <tr>\n      <th>3752</th>\n      <td>29116488</td>\n      <td>2021-06-16</td>\n      <td>2021-06-16</td>\n      <td>0 days</td>\n    </tr>\n    <tr>\n      <th>4469</th>\n      <td>34350075</td>\n      <td>2020-11-19</td>\n      <td>2020-11-19</td>\n      <td>0 days</td>\n    </tr>\n    <tr>\n      <th>5543</th>\n      <td>42102454</td>\n      <td>2021-05-18</td>\n      <td>2021-05-18</td>\n      <td>0 days</td>\n    </tr>\n    <tr>\n      <th>6620</th>\n      <td>50671227</td>\n      <td>2021-01-05</td>\n      <td>2021-01-05</td>\n      <td>0 days</td>\n    </tr>\n  </tbody>\n</table>\n</div>"
          },
          "metadata": {}
        }
      ],
      "id": "b77f608b-1618-4f0f-89cc-7f8b1866bac5"
    },
    {
      "cell_type": "code",
      "source": "#We are interested in year-month date as we group clients by months\ncohorts0=cohorts0.assign(registration_dt = lambda x: x.registration_dt.dt.to_period('M'))",
      "metadata": {
        "trusted": true
      },
      "execution_count": 241,
      "outputs": [],
      "id": "e384a175-be3a-4f5c-adab-b07e3139b921"
    },
    {
      "cell_type": "code",
      "source": "cohorts0_graph=cohorts0.groupby(\"registration_dt\", as_index=False).agg({'uid1':'count'})",
      "metadata": {
        "trusted": true
      },
      "execution_count": 242,
      "outputs": [],
      "id": "4001364a-3372-44ba-be4b-3ee392f83313"
    },
    {
      "cell_type": "code",
      "source": "cohort_df = (cohorts0\n             .groupby('registration_dt')[['uid1']]\n             .nunique()\n             .assign(total = lambda x: x.groupby('registration_dt').agg({'uid1':'count'}))).reset_index()",
      "metadata": {
        "trusted": true
      },
      "execution_count": 243,
      "outputs": [],
      "id": "38b9809c-36bd-4e79-b732-5f688c26f8c0"
    },
    {
      "cell_type": "code",
      "source": "cohort_df.uid1.sum()",
      "metadata": {
        "trusted": true
      },
      "execution_count": 244,
      "outputs": [
        {
          "execution_count": 244,
          "output_type": "execute_result",
          "data": {
            "text/plain": "9"
          },
          "metadata": {}
        }
      ],
      "id": "2ee9fb5b-d6fb-45f6-b832-d8a26925c5eb"
    },
    {
      "cell_type": "code",
      "source": "# THose clients who made purchase in the same day after registration\n\nsns.set(style=\"whitegrid\", color_codes=True)\npal = sns.color_palette(\"Greens_d\", len(cohorts0_graph))\nrank = cohorts0_graph.uid1.argsort().argsort()   \nplt.figure(figsize=(8, 5))\nax = sns.barplot(\n  data=cohorts0_graph, \n  y='uid1', \n  x='registration_dt', \n  palette=np.array(pal)[rank]\n  )\nax.set(xlabel='Cohort', ylabel='# of users')\n## [Text(0.5, 0, 'Cohort'), Text(0, 0.5, '# of sellers')]\nplt.xticks(rotation=45);\nplt.tight_layout();\nplt.show()",
      "metadata": {
        "trusted": true
      },
      "execution_count": 276,
      "outputs": [
        {
          "output_type": "display_data",
          "data": {
            "text/plain": "<pyolite.display.Image at 0xa62f618>",
            "image/png": "[encoded data removed]"
          },
          "metadata": {}
        }
      ],
      "id": "c36716e1-151c-4abf-b101-c59301234fb5"
    },
    {
      "cell_type": "code",
      "source": "#Тhose who made purchase in the same day after registration. We see that best cohorts are \"2021-08\", \"2021-09\"\ncohort_df",
      "metadata": {
        "trusted": true
      },
      "execution_count": 246,
      "outputs": [
        {
          "execution_count": 246,
          "output_type": "execute_result",
          "data": {
            "text/plain": "  registration_dt  uid1  total\n0         2020-01     1      1\n1         2020-08     1      1\n2         2020-11     1      1\n3         2021-01     2      1\n4         2021-05     1      1\n5         2021-06     1      1\n6         2021-07     1      1\n7         2021-08     1      1",
            "text/html": "<div>\n<style scoped>\n    .dataframe tbody tr th:only-of-type {\n        vertical-align: middle;\n    }\n\n    .dataframe tbody tr th {\n        vertical-align: top;\n    }\n\n    .dataframe thead th {\n        text-align: right;\n    }\n</style>\n<table border=\"1\" class=\"dataframe\">\n  <thead>\n    <tr style=\"text-align: right;\">\n      <th></th>\n      <th>registration_dt</th>\n      <th>uid1</th>\n      <th>total</th>\n    </tr>\n  </thead>\n  <tbody>\n    <tr>\n      <th>0</th>\n      <td>2020-01</td>\n      <td>1</td>\n      <td>1</td>\n    </tr>\n    <tr>\n      <th>1</th>\n      <td>2020-08</td>\n      <td>1</td>\n      <td>1</td>\n    </tr>\n    <tr>\n      <th>2</th>\n      <td>2020-11</td>\n      <td>1</td>\n      <td>1</td>\n    </tr>\n    <tr>\n      <th>3</th>\n      <td>2021-01</td>\n      <td>2</td>\n      <td>1</td>\n    </tr>\n    <tr>\n      <th>4</th>\n      <td>2021-05</td>\n      <td>1</td>\n      <td>1</td>\n    </tr>\n    <tr>\n      <th>5</th>\n      <td>2021-06</td>\n      <td>1</td>\n      <td>1</td>\n    </tr>\n    <tr>\n      <th>6</th>\n      <td>2021-07</td>\n      <td>1</td>\n      <td>1</td>\n    </tr>\n    <tr>\n      <th>7</th>\n      <td>2021-08</td>\n      <td>1</td>\n      <td>1</td>\n    </tr>\n  </tbody>\n</table>\n</div>"
          },
          "metadata": {}
        }
      ],
      "id": "f0e79fc1-3023-49f0-87d9-dbe2d9acec05"
    },
    {
      "cell_type": "code",
      "source": "#Let's decide that we need clients who made purchases only in first month after registration\ncohort_month=total1.loc[total1['diff'] <= \"31 days\"]",
      "metadata": {
        "trusted": true
      },
      "execution_count": 247,
      "outputs": [],
      "id": "1e0e0651-0360-4d63-a596-b8c078f36018"
    },
    {
      "cell_type": "code",
      "source": "#We drop all negative days as purchase can only be after registration\ncohort_month=cohort_month.loc[cohort_month['diff'] >= \"0 days\"]",
      "metadata": {
        "trusted": true
      },
      "execution_count": 248,
      "outputs": [],
      "id": "4bd26fb8-38c0-4cc4-919a-923dcf144fcf"
    },
    {
      "cell_type": "code",
      "source": "cohort_df_month = (cohort_month\n             .groupby(['registration_dt', 'diff'])[['uid1']]\n             .nunique()\n             .assign(total = lambda x: x.groupby(['registration_dt', 'diff']).agg({'uid1':'count'}))).reset_index()",
      "metadata": {
        "trusted": true
      },
      "execution_count": 249,
      "outputs": [],
      "id": "05b1ffc6-1d15-4ec3-afa1-da9b6094fb92"
    },
    {
      "cell_type": "code",
      "source": "cohort_df_month=cohort_df_month.groupby(['registration_dt','diff'], as_index=False).agg({'uid1':'sum'})",
      "metadata": {
        "trusted": true
      },
      "execution_count": 250,
      "outputs": [],
      "id": "47ae5922-39be-40c3-af83-4125bd2d1b62"
    },
    {
      "cell_type": "code",
      "source": "cohort_df_month['proportion']=100*(cohort_df_month.uid1/cohort_df_month.uid1.sum())",
      "metadata": {
        "trusted": true
      },
      "execution_count": 251,
      "outputs": [],
      "id": "658fb659-061a-4782-bd5a-a5635d4d0d00"
    },
    {
      "cell_type": "code",
      "source": "cohort_pivot = (\n  cohort_df_month[['registration_dt', 'diff', 'proportion']]\n  .pivot(columns='diff', index='registration_dt')['proportion']\n  )\ncohort_pivot",
      "metadata": {
        "trusted": true
      },
      "execution_count": 252,
      "outputs": [
        {
          "execution_count": 252,
          "output_type": "execute_result",
          "data": {
            "text/plain": "diff             0 days    1 days    2 days    3 days  4 days  5 days  \\\nregistration_dt                                                         \n2019-12-27          NaN       NaN       NaN       NaN     NaN     NaN   \n2019-12-28          NaN       NaN       NaN       NaN     NaN     NaN   \n2020-01-12          NaN       NaN       NaN       NaN     NaN     NaN   \n2020-01-14          NaN       NaN  0.534759       NaN     NaN     NaN   \n2020-01-19          NaN       NaN       NaN       NaN     NaN     NaN   \n...                 ...       ...       ...       ...     ...     ...   \n2021-09-16          NaN  0.534759       NaN       NaN     NaN     NaN   \n2021-09-20          NaN  0.534759       NaN       NaN     NaN     NaN   \n2021-09-22          NaN  0.534759       NaN       NaN     NaN     NaN   \n2021-09-24          NaN       NaN       NaN  0.534759     NaN     NaN   \n2021-12-08          NaN  0.534759       NaN       NaN     NaN     NaN   \n\ndiff               6 days    7 days  8 days  9 days  ...  22 days  23 days  \\\nregistration_dt                                      ...                     \n2019-12-27            NaN  0.534759     NaN     NaN  ...      NaN      NaN   \n2019-12-28            NaN       NaN     NaN     NaN  ...      NaN      NaN   \n2020-01-12            NaN       NaN     NaN     NaN  ...      NaN      NaN   \n2020-01-14            NaN       NaN     NaN     NaN  ...      NaN      NaN   \n2020-01-19            NaN  0.534759     NaN     NaN  ...      NaN      NaN   \n...                   ...       ...     ...     ...  ...      ...      ...   \n2021-09-16            NaN  0.534759     NaN     NaN  ...      NaN      NaN   \n2021-09-20            NaN       NaN     NaN     NaN  ...      NaN      NaN   \n2021-09-22       0.534759       NaN     NaN     NaN  ...      NaN      NaN   \n2021-09-24            NaN       NaN     NaN     NaN  ...      NaN      NaN   \n2021-12-08            NaN       NaN     NaN     NaN  ...      NaN      NaN   \n\ndiff             24 days  25 days  26 days  27 days  28 days  29 days  \\\nregistration_dt                                                         \n2019-12-27           NaN      NaN      NaN      NaN      NaN      NaN   \n2019-12-28           NaN      NaN      NaN      NaN      NaN      NaN   \n2020-01-12           NaN      NaN      NaN      NaN      NaN      NaN   \n2020-01-14           NaN      NaN      NaN      NaN      NaN      NaN   \n2020-01-19           NaN      NaN      NaN      NaN      NaN      NaN   \n...                  ...      ...      ...      ...      ...      ...   \n2021-09-16           NaN      NaN      NaN      NaN      NaN      NaN   \n2021-09-20           NaN      NaN      NaN      NaN      NaN      NaN   \n2021-09-22           NaN      NaN      NaN      NaN      NaN      NaN   \n2021-09-24           NaN      NaN      NaN      NaN      NaN      NaN   \n2021-12-08           NaN      NaN      NaN      NaN      NaN      NaN   \n\ndiff             30 days   31 days  \nregistration_dt                     \n2019-12-27           NaN       NaN  \n2019-12-28           NaN       NaN  \n2020-01-12           NaN  0.534759  \n2020-01-14           NaN       NaN  \n2020-01-19           NaN       NaN  \n...                  ...       ...  \n2021-09-16           NaN       NaN  \n2021-09-20           NaN       NaN  \n2021-09-22           NaN       NaN  \n2021-09-24           NaN       NaN  \n2021-12-08           NaN       NaN  \n\n[150 rows x 32 columns]",
            "text/html": "<div>\n<style scoped>\n    .dataframe tbody tr th:only-of-type {\n        vertical-align: middle;\n    }\n\n    .dataframe tbody tr th {\n        vertical-align: top;\n    }\n\n    .dataframe thead th {\n        text-align: right;\n    }\n</style>\n<table border=\"1\" class=\"dataframe\">\n  <thead>\n    <tr style=\"text-align: right;\">\n      <th>diff</th>\n      <th>0 days</th>\n      <th>1 days</th>\n      <th>2 days</th>\n      <th>3 days</th>\n      <th>4 days</th>\n      <th>5 days</th>\n      <th>6 days</th>\n      <th>7 days</th>\n      <th>8 days</th>\n      <th>9 days</th>\n      <th>...</th>\n      <th>22 days</th>\n      <th>23 days</th>\n      <th>24 days</th>\n      <th>25 days</th>\n      <th>26 days</th>\n      <th>27 days</th>\n      <th>28 days</th>\n      <th>29 days</th>\n      <th>30 days</th>\n      <th>31 days</th>\n    </tr>\n    <tr>\n      <th>registration_dt</th>\n      <th></th>\n      <th></th>\n      <th></th>\n      <th></th>\n      <th></th>\n      <th></th>\n      <th></th>\n      <th></th>\n      <th></th>\n      <th></th>\n      <th></th>\n      <th></th>\n      <th></th>\n      <th></th>\n      <th></th>\n      <th></th>\n      <th></th>\n      <th></th>\n      <th></th>\n      <th></th>\n      <th></th>\n    </tr>\n  </thead>\n  <tbody>\n    <tr>\n      <th>2019-12-27</th>\n      <td>NaN</td>\n      <td>NaN</td>\n      <td>NaN</td>\n      <td>NaN</td>\n      <td>NaN</td>\n      <td>NaN</td>\n      <td>NaN</td>\n      <td>0.534759</td>\n      <td>NaN</td>\n      <td>NaN</td>\n      <td>...</td>\n      <td>NaN</td>\n      <td>NaN</td>\n      <td>NaN</td>\n      <td>NaN</td>\n      <td>NaN</td>\n      <td>NaN</td>\n      <td>NaN</td>\n      <td>NaN</td>\n      <td>NaN</td>\n      <td>NaN</td>\n    </tr>\n    <tr>\n      <th>2019-12-28</th>\n      <td>NaN</td>\n      <td>NaN</td>\n      <td>NaN</td>\n      <td>NaN</td>\n      <td>NaN</td>\n      <td>NaN</td>\n      <td>NaN</td>\n      <td>NaN</td>\n      <td>NaN</td>\n      <td>NaN</td>\n      <td>...</td>\n      <td>NaN</td>\n      <td>NaN</td>\n      <td>NaN</td>\n      <td>NaN</td>\n      <td>NaN</td>\n      <td>NaN</td>\n      <td>NaN</td>\n      <td>NaN</td>\n      <td>NaN</td>\n      <td>NaN</td>\n    </tr>\n    <tr>\n      <th>2020-01-12</th>\n      <td>NaN</td>\n      <td>NaN</td>\n      <td>NaN</td>\n      <td>NaN</td>\n      <td>NaN</td>\n      <td>NaN</td>\n      <td>NaN</td>\n      <td>NaN</td>\n      <td>NaN</td>\n      <td>NaN</td>\n      <td>...</td>\n      <td>NaN</td>\n      <td>NaN</td>\n      <td>NaN</td>\n      <td>NaN</td>\n      <td>NaN</td>\n      <td>NaN</td>\n      <td>NaN</td>\n      <td>NaN</td>\n      <td>NaN</td>\n      <td>0.534759</td>\n    </tr>\n    <tr>\n      <th>2020-01-14</th>\n      <td>NaN</td>\n      <td>NaN</td>\n      <td>0.534759</td>\n      <td>NaN</td>\n      <td>NaN</td>\n      <td>NaN</td>\n      <td>NaN</td>\n      <td>NaN</td>\n      <td>NaN</td>\n      <td>NaN</td>\n      <td>...</td>\n      <td>NaN</td>\n      <td>NaN</td>\n      <td>NaN</td>\n      <td>NaN</td>\n      <td>NaN</td>\n      <td>NaN</td>\n      <td>NaN</td>\n      <td>NaN</td>\n      <td>NaN</td>\n      <td>NaN</td>\n    </tr>\n    <tr>\n      <th>2020-01-19</th>\n      <td>NaN</td>\n      <td>NaN</td>\n      <td>NaN</td>\n      <td>NaN</td>\n      <td>NaN</td>\n      <td>NaN</td>\n      <td>NaN</td>\n      <td>0.534759</td>\n      <td>NaN</td>\n      <td>NaN</td>\n      <td>...</td>\n      <td>NaN</td>\n      <td>NaN</td>\n      <td>NaN</td>\n      <td>NaN</td>\n      <td>NaN</td>\n      <td>NaN</td>\n      <td>NaN</td>\n      <td>NaN</td>\n      <td>NaN</td>\n      <td>NaN</td>\n    </tr>\n    <tr>\n      <th>...</th>\n      <td>...</td>\n      <td>...</td>\n      <td>...</td>\n      <td>...</td>\n      <td>...</td>\n      <td>...</td>\n      <td>...</td>\n      <td>...</td>\n      <td>...</td>\n      <td>...</td>\n      <td>...</td>\n      <td>...</td>\n      <td>...</td>\n      <td>...</td>\n      <td>...</td>\n      <td>...</td>\n      <td>...</td>\n      <td>...</td>\n      <td>...</td>\n      <td>...</td>\n      <td>...</td>\n    </tr>\n    <tr>\n      <th>2021-09-16</th>\n      <td>NaN</td>\n      <td>0.534759</td>\n      <td>NaN</td>\n      <td>NaN</td>\n      <td>NaN</td>\n      <td>NaN</td>\n      <td>NaN</td>\n      <td>0.534759</td>\n      <td>NaN</td>\n      <td>NaN</td>\n      <td>...</td>\n      <td>NaN</td>\n      <td>NaN</td>\n      <td>NaN</td>\n      <td>NaN</td>\n      <td>NaN</td>\n      <td>NaN</td>\n      <td>NaN</td>\n      <td>NaN</td>\n      <td>NaN</td>\n      <td>NaN</td>\n    </tr>\n    <tr>\n      <th>2021-09-20</th>\n      <td>NaN</td>\n      <td>0.534759</td>\n      <td>NaN</td>\n      <td>NaN</td>\n      <td>NaN</td>\n      <td>NaN</td>\n      <td>NaN</td>\n      <td>NaN</td>\n      <td>NaN</td>\n      <td>NaN</td>\n      <td>...</td>\n      <td>NaN</td>\n      <td>NaN</td>\n      <td>NaN</td>\n      <td>NaN</td>\n      <td>NaN</td>\n      <td>NaN</td>\n      <td>NaN</td>\n      <td>NaN</td>\n      <td>NaN</td>\n      <td>NaN</td>\n    </tr>\n    <tr>\n      <th>2021-09-22</th>\n      <td>NaN</td>\n      <td>0.534759</td>\n      <td>NaN</td>\n      <td>NaN</td>\n      <td>NaN</td>\n      <td>NaN</td>\n      <td>0.534759</td>\n      <td>NaN</td>\n      <td>NaN</td>\n      <td>NaN</td>\n      <td>...</td>\n      <td>NaN</td>\n      <td>NaN</td>\n      <td>NaN</td>\n      <td>NaN</td>\n      <td>NaN</td>\n      <td>NaN</td>\n      <td>NaN</td>\n      <td>NaN</td>\n      <td>NaN</td>\n      <td>NaN</td>\n    </tr>\n    <tr>\n      <th>2021-09-24</th>\n      <td>NaN</td>\n      <td>NaN</td>\n      <td>NaN</td>\n      <td>0.534759</td>\n      <td>NaN</td>\n      <td>NaN</td>\n      <td>NaN</td>\n      <td>NaN</td>\n      <td>NaN</td>\n      <td>NaN</td>\n      <td>...</td>\n      <td>NaN</td>\n      <td>NaN</td>\n      <td>NaN</td>\n      <td>NaN</td>\n      <td>NaN</td>\n      <td>NaN</td>\n      <td>NaN</td>\n      <td>NaN</td>\n      <td>NaN</td>\n      <td>NaN</td>\n    </tr>\n    <tr>\n      <th>2021-12-08</th>\n      <td>NaN</td>\n      <td>0.534759</td>\n      <td>NaN</td>\n      <td>NaN</td>\n      <td>NaN</td>\n      <td>NaN</td>\n      <td>NaN</td>\n      <td>NaN</td>\n      <td>NaN</td>\n      <td>NaN</td>\n      <td>...</td>\n      <td>NaN</td>\n      <td>NaN</td>\n      <td>NaN</td>\n      <td>NaN</td>\n      <td>NaN</td>\n      <td>NaN</td>\n      <td>NaN</td>\n      <td>NaN</td>\n      <td>NaN</td>\n      <td>NaN</td>\n    </tr>\n  </tbody>\n</table>\n<p>150 rows × 32 columns</p>\n</div>"
          },
          "metadata": {}
        }
      ],
      "id": "e4387912-7cff-4dff-bc6d-6a443be79d2a"
    },
    {
      "cell_type": "markdown",
      "source": "### Summary of cohort analysis¶\nWe see that the best cohorts of clients are \"2021-08\", \"2021-09\" as they did purchases very quickly after registration.\nThe worst cohort is \"2021-10\" as clients don't purchase much",
      "metadata": {},
      "id": "70e2a9ee-157c-40bb-b443-a45dc37f405b"
    },
    {
      "cell_type": "markdown",
      "source": "# RFM Analysis",
      "metadata": {},
      "id": "e87242b2-2df8-4a03-86d7-8c00ba369860"
    },
    {
      "cell_type": "code",
      "source": "import datetime as dt",
      "metadata": {
        "trusted": true
      },
      "execution_count": 265,
      "outputs": [],
      "id": "f4be2154-c08d-43b4-8fd9-74db2a6ce6dd"
    },
    {
      "cell_type": "code",
      "source": "temp=['uid1', 'mcc_id', 'date_pur', 'transaction_amt']\nRFM_data=data2[temp]\nRFM_data.shape",
      "metadata": {
        "trusted": true
      },
      "execution_count": 266,
      "outputs": [
        {
          "execution_count": 266,
          "output_type": "execute_result",
          "data": {
            "text/plain": "(31633, 4)"
          },
          "metadata": {}
        }
      ],
      "id": "fa24e666-aca3-49b4-99f4-76dee0fb5a0d"
    },
    {
      "cell_type": "code",
      "source": "NOW = dt.datetime(2021,10,12)\n#Convert ORDERDATE to datetime format.\nRFM_data['date_pur'] = pd.to_datetime(RFM_data['date_pur'])\n# RFM Table\nRFM_table=RFM_data.groupby('uid1').agg({'date_pur': lambda x: (NOW - x.max()).days, # Recency\n                                                'mcc_id': lambda x: len(x.unique()), # Frequency\n                                                'transaction_amt': lambda x: x.sum()})    # Monetary \n\nRFM_table['date_pur'] = RFM_table['date_pur'].astype(int)\n\nRFM_table.rename(columns={'date_pur': 'recency', \n                         'mcc_id': 'frequency',\n                         'transaction_amt': 'monetary_value'}, inplace=True)\nRFM_table.head()",
      "metadata": {
        "tags": [],
        "trusted": true
      },
      "execution_count": 268,
      "outputs": [
        {
          "name": "stderr",
          "text": "<ipython-input-268-c1bfbd7af794>:3: SettingWithCopyWarning: \nA value is trying to be set on a copy of a slice from a DataFrame.\nTry using .loc[row_indexer,col_indexer] = value instead\n\nSee the caveats in the documentation: https://pandas.pydata.org/pandas-docs/stable/user_guide/indexing.html#returning-a-view-versus-a-copy\n  RFM_data['date_pur'] = pd.to_datetime(RFM_data['date_pur'])\n",
          "output_type": "stream"
        },
        {
          "execution_count": 268,
          "output_type": "execute_result",
          "data": {
            "text/plain": "       recency  frequency  monetary_value\nuid1                                     \n8388       -57          1          809.75\n17264      414          1          200.00\n17373      323          1         8586.00\n26297      -20          3         4303.00\n27044      -55          5         3556.76",
            "text/html": "<div>\n<style scoped>\n    .dataframe tbody tr th:only-of-type {\n        vertical-align: middle;\n    }\n\n    .dataframe tbody tr th {\n        vertical-align: top;\n    }\n\n    .dataframe thead th {\n        text-align: right;\n    }\n</style>\n<table border=\"1\" class=\"dataframe\">\n  <thead>\n    <tr style=\"text-align: right;\">\n      <th></th>\n      <th>recency</th>\n      <th>frequency</th>\n      <th>monetary_value</th>\n    </tr>\n    <tr>\n      <th>uid1</th>\n      <th></th>\n      <th></th>\n      <th></th>\n    </tr>\n  </thead>\n  <tbody>\n    <tr>\n      <th>8388</th>\n      <td>-57</td>\n      <td>1</td>\n      <td>809.75</td>\n    </tr>\n    <tr>\n      <th>17264</th>\n      <td>414</td>\n      <td>1</td>\n      <td>200.00</td>\n    </tr>\n    <tr>\n      <th>17373</th>\n      <td>323</td>\n      <td>1</td>\n      <td>8586.00</td>\n    </tr>\n    <tr>\n      <th>26297</th>\n      <td>-20</td>\n      <td>3</td>\n      <td>4303.00</td>\n    </tr>\n    <tr>\n      <th>27044</th>\n      <td>-55</td>\n      <td>5</td>\n      <td>3556.76</td>\n    </tr>\n  </tbody>\n</table>\n</div>"
          },
          "metadata": {}
        }
      ],
      "id": "a2ed018a-d3e0-40a0-95f3-18d70a2305f3"
    },
    {
      "cell_type": "code",
      "source": "quantiles = RFM_table.quantile(q=[0.25,0.5,0.75])\nquantiles",
      "metadata": {
        "trusted": true
      },
      "execution_count": 269,
      "outputs": [
        {
          "execution_count": 269,
          "output_type": "execute_result",
          "data": {
            "text/plain": "      recency  frequency  monetary_value\n0.25     18.0        2.0        540.6175\n0.50     78.5        3.0       1613.4600\n0.75    191.0        4.0       3762.1850",
            "text/html": "<div>\n<style scoped>\n    .dataframe tbody tr th:only-of-type {\n        vertical-align: middle;\n    }\n\n    .dataframe tbody tr th {\n        vertical-align: top;\n    }\n\n    .dataframe thead th {\n        text-align: right;\n    }\n</style>\n<table border=\"1\" class=\"dataframe\">\n  <thead>\n    <tr style=\"text-align: right;\">\n      <th></th>\n      <th>recency</th>\n      <th>frequency</th>\n      <th>monetary_value</th>\n    </tr>\n  </thead>\n  <tbody>\n    <tr>\n      <th>0.25</th>\n      <td>18.0</td>\n      <td>2.0</td>\n      <td>540.6175</td>\n    </tr>\n    <tr>\n      <th>0.50</th>\n      <td>78.5</td>\n      <td>3.0</td>\n      <td>1613.4600</td>\n    </tr>\n    <tr>\n      <th>0.75</th>\n      <td>191.0</td>\n      <td>4.0</td>\n      <td>3762.1850</td>\n    </tr>\n  </tbody>\n</table>\n</div>"
          },
          "metadata": {}
        }
      ],
      "id": "34ddfb51-c01e-44ca-b08a-7785133b76d0"
    },
    {
      "cell_type": "code",
      "source": "# Converting quantiles to a dictionary, easier to use.\nquantiles = quantiles.to_dict()\n##  RFM Segmentation ----\nRFM_Segment = RFM_table.copy()\n# Arguments (x = value, p = recency, monetary_value, frequency, k = quartiles dict)\ndef R_Class(x,p,d):\n    if x <= d[p][0.25]:\n        return 4\n    elif x <= d[p][0.50]:\n        return 3\n    elif x <= d[p][0.75]: \n        return 2\n    else:\n        return 1\n    \n# Arguments (x = value, p = recency, monetary_value, frequency, k = quartiles dict)\ndef FM_Class(x,p,d):\n    if x <= d[p][0.25]:\n        return 1\n    elif x <= d[p][0.50]:\n        return 2\n    elif x <= d[p][0.75]: \n        return 3\n    else:\n        return 4\nRFM_Segment['R_Quartile'] = RFM_Segment['recency'].apply(R_Class, args=('recency',quantiles,))\nRFM_Segment['F_Quartile'] = RFM_Segment['frequency'].apply(FM_Class, args=('frequency',quantiles,))\nRFM_Segment['M_Quartile'] = RFM_Segment['monetary_value'].apply(FM_Class, args=('monetary_value',quantiles,))\nRFM_Segment['RFMClass'] = RFM_Segment.R_Quartile.map(str) \\\n                            + RFM_Segment.F_Quartile.map(str) \\\n                            + RFM_Segment.M_Quartile.map(str)",
      "metadata": {
        "trusted": true
      },
      "execution_count": 270,
      "outputs": [],
      "id": "816aa173-ff63-43fe-8887-2c920e98b9b7"
    },
    {
      "cell_type": "markdown",
      "source": "# Questions we are trying to answer",
      "metadata": {},
      "id": "85d9dbf7-20bf-4b38-a480-4ab067c2d2b1"
    },
    {
      "cell_type": "markdown",
      "source": "## Who are my best customers?",
      "metadata": {},
      "id": "8fbe28eb-a2e9-4e09-84a2-958d4f99b4e2"
    },
    {
      "cell_type": "code",
      "source": "#RFMClass = 444\nRFM_Segment[RFM_Segment['RFMClass']=='444'].sort_values('monetary_value', ascending=False).head()",
      "metadata": {
        "trusted": true
      },
      "execution_count": 272,
      "outputs": [
        {
          "execution_count": 272,
          "output_type": "execute_result",
          "data": {
            "text/plain": "          recency  frequency  monetary_value  R_Quartile  F_Quartile  \\\nuid1                                                                   \n36605862      -55          5      1502000.03           4           4   \n27133536       13         14       262330.05           4           4   \n29926955      -25         12       223029.06           4           4   \n11881115        3          6       204551.00           4           4   \n49250943      -55          9       185997.16           4           4   \n\n          M_Quartile RFMClass  \nuid1                           \n36605862           4      444  \n27133536           4      444  \n29926955           4      444  \n11881115           4      444  \n49250943           4      444  ",
            "text/html": "<div>\n<style scoped>\n    .dataframe tbody tr th:only-of-type {\n        vertical-align: middle;\n    }\n\n    .dataframe tbody tr th {\n        vertical-align: top;\n    }\n\n    .dataframe thead th {\n        text-align: right;\n    }\n</style>\n<table border=\"1\" class=\"dataframe\">\n  <thead>\n    <tr style=\"text-align: right;\">\n      <th></th>\n      <th>recency</th>\n      <th>frequency</th>\n      <th>monetary_value</th>\n      <th>R_Quartile</th>\n      <th>F_Quartile</th>\n      <th>M_Quartile</th>\n      <th>RFMClass</th>\n    </tr>\n    <tr>\n      <th>uid1</th>\n      <th></th>\n      <th></th>\n      <th></th>\n      <th></th>\n      <th></th>\n      <th></th>\n      <th></th>\n    </tr>\n  </thead>\n  <tbody>\n    <tr>\n      <th>36605862</th>\n      <td>-55</td>\n      <td>5</td>\n      <td>1502000.03</td>\n      <td>4</td>\n      <td>4</td>\n      <td>4</td>\n      <td>444</td>\n    </tr>\n    <tr>\n      <th>27133536</th>\n      <td>13</td>\n      <td>14</td>\n      <td>262330.05</td>\n      <td>4</td>\n      <td>4</td>\n      <td>4</td>\n      <td>444</td>\n    </tr>\n    <tr>\n      <th>29926955</th>\n      <td>-25</td>\n      <td>12</td>\n      <td>223029.06</td>\n      <td>4</td>\n      <td>4</td>\n      <td>4</td>\n      <td>444</td>\n    </tr>\n    <tr>\n      <th>11881115</th>\n      <td>3</td>\n      <td>6</td>\n      <td>204551.00</td>\n      <td>4</td>\n      <td>4</td>\n      <td>4</td>\n      <td>444</td>\n    </tr>\n    <tr>\n      <th>49250943</th>\n      <td>-55</td>\n      <td>9</td>\n      <td>185997.16</td>\n      <td>4</td>\n      <td>4</td>\n      <td>4</td>\n      <td>444</td>\n    </tr>\n  </tbody>\n</table>\n</div>"
          },
          "metadata": {}
        }
      ],
      "id": "4eb96edc-a5b2-474c-a892-f7c5a2dc0adc"
    },
    {
      "cell_type": "markdown",
      "source": "### Which customers are at the verge of churning?",
      "metadata": {},
      "id": "91cd984b-0f02-4074-9518-f11ad7041a73"
    },
    {
      "cell_type": "code",
      "source": "#Customers who's recency value is low\n\nRFM_Segment[RFM_Segment['R_Quartile'] <= 2 ].sort_values('monetary_value', ascending=False).head(5)",
      "metadata": {
        "trusted": true
      },
      "execution_count": 273,
      "outputs": [
        {
          "execution_count": 273,
          "output_type": "execute_result",
          "data": {
            "text/plain": "          recency  frequency  monetary_value  R_Quartile  F_Quartile  \\\nuid1                                                                   \n220454        315          1       383900.00           1           1   \n48235819      157          4       172192.57           2           3   \n40451671      561          1       126064.00           1           1   \n24419792      438          4       108104.14           1           3   \n44585287      208          7        88441.26           1           4   \n\n          M_Quartile RFMClass  \nuid1                           \n220454             4      114  \n48235819           4      234  \n40451671           4      114  \n24419792           4      134  \n44585287           4      144  ",
            "text/html": "<div>\n<style scoped>\n    .dataframe tbody tr th:only-of-type {\n        vertical-align: middle;\n    }\n\n    .dataframe tbody tr th {\n        vertical-align: top;\n    }\n\n    .dataframe thead th {\n        text-align: right;\n    }\n</style>\n<table border=\"1\" class=\"dataframe\">\n  <thead>\n    <tr style=\"text-align: right;\">\n      <th></th>\n      <th>recency</th>\n      <th>frequency</th>\n      <th>monetary_value</th>\n      <th>R_Quartile</th>\n      <th>F_Quartile</th>\n      <th>M_Quartile</th>\n      <th>RFMClass</th>\n    </tr>\n    <tr>\n      <th>uid1</th>\n      <th></th>\n      <th></th>\n      <th></th>\n      <th></th>\n      <th></th>\n      <th></th>\n      <th></th>\n    </tr>\n  </thead>\n  <tbody>\n    <tr>\n      <th>220454</th>\n      <td>315</td>\n      <td>1</td>\n      <td>383900.00</td>\n      <td>1</td>\n      <td>1</td>\n      <td>4</td>\n      <td>114</td>\n    </tr>\n    <tr>\n      <th>48235819</th>\n      <td>157</td>\n      <td>4</td>\n      <td>172192.57</td>\n      <td>2</td>\n      <td>3</td>\n      <td>4</td>\n      <td>234</td>\n    </tr>\n    <tr>\n      <th>40451671</th>\n      <td>561</td>\n      <td>1</td>\n      <td>126064.00</td>\n      <td>1</td>\n      <td>1</td>\n      <td>4</td>\n      <td>114</td>\n    </tr>\n    <tr>\n      <th>24419792</th>\n      <td>438</td>\n      <td>4</td>\n      <td>108104.14</td>\n      <td>1</td>\n      <td>3</td>\n      <td>4</td>\n      <td>134</td>\n    </tr>\n    <tr>\n      <th>44585287</th>\n      <td>208</td>\n      <td>7</td>\n      <td>88441.26</td>\n      <td>1</td>\n      <td>4</td>\n      <td>4</td>\n      <td>144</td>\n    </tr>\n  </tbody>\n</table>\n</div>"
          },
          "metadata": {}
        }
      ],
      "id": "b9e1f5b6-c737-41e4-bbbd-538270bbd68b"
    },
    {
      "cell_type": "markdown",
      "source": "### Who are the lost customers?\n",
      "metadata": {},
      "id": "85f2f730-f156-4214-b057-1884b2a3147b"
    },
    {
      "cell_type": "code",
      "source": "#Customers who's recency, frequency as well as monetary values are low \n\nRFM_Segment[RFM_Segment['RFMClass']=='111'].sort_values('recency',ascending=False).head(5)",
      "metadata": {
        "trusted": true
      },
      "execution_count": 274,
      "outputs": [
        {
          "execution_count": 274,
          "output_type": "execute_result",
          "data": {
            "text/plain": "          recency  frequency  monetary_value  R_Quartile  F_Quartile  \\\nuid1                                                                   \n41671663      647          1           399.0           1           1   \n35244611      647          1             0.0           1           1   \n18486434      646          1           300.0           1           1   \n11201979      645          1           298.0           1           1   \n46093761      642          1           187.0           1           1   \n\n          M_Quartile RFMClass  \nuid1                           \n41671663           1      111  \n35244611           1      111  \n18486434           1      111  \n11201979           1      111  \n46093761           1      111  ",
            "text/html": "<div>\n<style scoped>\n    .dataframe tbody tr th:only-of-type {\n        vertical-align: middle;\n    }\n\n    .dataframe tbody tr th {\n        vertical-align: top;\n    }\n\n    .dataframe thead th {\n        text-align: right;\n    }\n</style>\n<table border=\"1\" class=\"dataframe\">\n  <thead>\n    <tr style=\"text-align: right;\">\n      <th></th>\n      <th>recency</th>\n      <th>frequency</th>\n      <th>monetary_value</th>\n      <th>R_Quartile</th>\n      <th>F_Quartile</th>\n      <th>M_Quartile</th>\n      <th>RFMClass</th>\n    </tr>\n    <tr>\n      <th>uid1</th>\n      <th></th>\n      <th></th>\n      <th></th>\n      <th></th>\n      <th></th>\n      <th></th>\n      <th></th>\n    </tr>\n  </thead>\n  <tbody>\n    <tr>\n      <th>41671663</th>\n      <td>647</td>\n      <td>1</td>\n      <td>399.0</td>\n      <td>1</td>\n      <td>1</td>\n      <td>1</td>\n      <td>111</td>\n    </tr>\n    <tr>\n      <th>35244611</th>\n      <td>647</td>\n      <td>1</td>\n      <td>0.0</td>\n      <td>1</td>\n      <td>1</td>\n      <td>1</td>\n      <td>111</td>\n    </tr>\n    <tr>\n      <th>18486434</th>\n      <td>646</td>\n      <td>1</td>\n      <td>300.0</td>\n      <td>1</td>\n      <td>1</td>\n      <td>1</td>\n      <td>111</td>\n    </tr>\n    <tr>\n      <th>11201979</th>\n      <td>645</td>\n      <td>1</td>\n      <td>298.0</td>\n      <td>1</td>\n      <td>1</td>\n      <td>1</td>\n      <td>111</td>\n    </tr>\n    <tr>\n      <th>46093761</th>\n      <td>642</td>\n      <td>1</td>\n      <td>187.0</td>\n      <td>1</td>\n      <td>1</td>\n      <td>1</td>\n      <td>111</td>\n    </tr>\n  </tbody>\n</table>\n</div>"
          },
          "metadata": {}
        }
      ],
      "id": "3d85fbe1-6886-470e-8aec-f7dcd5fea3af"
    },
    {
      "cell_type": "markdown",
      "source": "### Who are loyal customers?",
      "metadata": {},
      "id": "89429d5f-bc5c-448c-8898-76458f48200d"
    },
    {
      "cell_type": "code",
      "source": "#Customers with high frequency value\n\nRFM_Segment[RFM_Segment['F_Quartile'] >= 3 ].sort_values('monetary_value', ascending=False).head(5)",
      "metadata": {
        "trusted": true
      },
      "execution_count": 275,
      "outputs": [
        {
          "execution_count": 275,
          "output_type": "execute_result",
          "data": {
            "text/plain": "          recency  frequency  monetary_value  R_Quartile  F_Quartile  \\\nuid1                                                                   \n36605862      -55          5      1502000.03           4           4   \n27133536       13         14       262330.05           4           4   \n29926955      -25         12       223029.06           4           4   \n11881115        3          6       204551.00           4           4   \n49250943      -55          9       185997.16           4           4   \n\n          M_Quartile RFMClass  \nuid1                           \n36605862           4      444  \n27133536           4      444  \n29926955           4      444  \n11881115           4      444  \n49250943           4      444  ",
            "text/html": "<div>\n<style scoped>\n    .dataframe tbody tr th:only-of-type {\n        vertical-align: middle;\n    }\n\n    .dataframe tbody tr th {\n        vertical-align: top;\n    }\n\n    .dataframe thead th {\n        text-align: right;\n    }\n</style>\n<table border=\"1\" class=\"dataframe\">\n  <thead>\n    <tr style=\"text-align: right;\">\n      <th></th>\n      <th>recency</th>\n      <th>frequency</th>\n      <th>monetary_value</th>\n      <th>R_Quartile</th>\n      <th>F_Quartile</th>\n      <th>M_Quartile</th>\n      <th>RFMClass</th>\n    </tr>\n    <tr>\n      <th>uid1</th>\n      <th></th>\n      <th></th>\n      <th></th>\n      <th></th>\n      <th></th>\n      <th></th>\n      <th></th>\n    </tr>\n  </thead>\n  <tbody>\n    <tr>\n      <th>36605862</th>\n      <td>-55</td>\n      <td>5</td>\n      <td>1502000.03</td>\n      <td>4</td>\n      <td>4</td>\n      <td>4</td>\n      <td>444</td>\n    </tr>\n    <tr>\n      <th>27133536</th>\n      <td>13</td>\n      <td>14</td>\n      <td>262330.05</td>\n      <td>4</td>\n      <td>4</td>\n      <td>4</td>\n      <td>444</td>\n    </tr>\n    <tr>\n      <th>29926955</th>\n      <td>-25</td>\n      <td>12</td>\n      <td>223029.06</td>\n      <td>4</td>\n      <td>4</td>\n      <td>4</td>\n      <td>444</td>\n    </tr>\n    <tr>\n      <th>11881115</th>\n      <td>3</td>\n      <td>6</td>\n      <td>204551.00</td>\n      <td>4</td>\n      <td>4</td>\n      <td>4</td>\n      <td>444</td>\n    </tr>\n    <tr>\n      <th>49250943</th>\n      <td>-55</td>\n      <td>9</td>\n      <td>185997.16</td>\n      <td>4</td>\n      <td>4</td>\n      <td>4</td>\n      <td>444</td>\n    </tr>\n  </tbody>\n</table>\n</div>"
          },
          "metadata": {}
        }
      ],
      "id": "5f5365b4-cf89-449b-8f30-cd6ee5b27222"
    },
    {
      "cell_type": "code",
      "source": "",
      "metadata": {},
      "execution_count": null,
      "outputs": [],
      "id": "89746695-7019-4189-ac4c-5dd89da5dbfc"
    }
  ]
}